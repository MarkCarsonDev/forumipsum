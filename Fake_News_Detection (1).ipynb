{
  "cells": [
    {
      "cell_type": "markdown",
      "metadata": {
        "id": "3s8K38Pry_Xe",
        "papermill": {
          "duration": 0.032369,
          "end_time": "2020-10-06T21:19:31.851445",
          "exception": false,
          "start_time": "2020-10-06T21:19:31.819076",
          "status": "completed"
        },
        "tags": []
      },
      "source": [
        "# Overview\n",
        "\n",
        "This project is based on the dataset available at https://www.kaggle.com/c/tweet-sentiment-extraction/overview which is composed of about 20k tweets to train sentiment predictors.\n",
        "\n",
        "This notebook will guide you through the process of tweets cleaning (a very basic NLP task when dealing with text data), training a few Deep Learning models with different architectures and finally inferencing on test text."
      ]
    },
    {
      "cell_type": "markdown",
      "metadata": {
        "id": "JnaC54wqy_Xf",
        "papermill": {
          "duration": 0.030876,
          "end_time": "2020-10-06T21:19:31.915205",
          "exception": false,
          "start_time": "2020-10-06T21:19:31.884329",
          "status": "completed"
        },
        "tags": []
      },
      "source": [
        "# Imports"
      ]
    },
    {
      "cell_type": "code",
      "execution_count": 103,
      "metadata": {
        "colab": {
          "base_uri": "https://localhost:8080/"
        },
        "id": "rhvK8ZDJy_Xf",
        "outputId": "50baff7c-6ad3-45f8-8c0e-75f98a758fdc",
        "papermill": {
          "duration": 9.569887,
          "end_time": "2020-10-06T21:19:41.515898",
          "exception": false,
          "start_time": "2020-10-06T21:19:31.946011",
          "status": "completed"
        },
        "tags": []
      },
      "outputs": [
        {
          "name": "stdout",
          "output_type": "stream",
          "text": [
            "Done\n"
          ]
        }
      ],
      "source": [
        "import re\n",
        "import matplotlib.pyplot as plt\n",
        "import string\n",
        "from nltk.corpus import stopwords\n",
        "import nltk\n",
        "from nltk.corpus import wordnet\n",
        "from nltk.stem import WordNetLemmatizer\n",
        "from nltk.tokenize.treebank import TreebankWordDetokenizer\n",
        "from collections import Counter\n",
        "from wordcloud import WordCloud\n",
        "from nltk.corpus import stopwords\n",
        "import nltk\n",
        "from gensim.utils import simple_preprocess\n",
        "from nltk.corpus import stopwords\n",
        "import gensim\n",
        "from sklearn.model_selection import train_test_split\n",
        "import spacy\n",
        "import pickle\n",
        "import warnings\n",
        "warnings.filterwarnings('ignore')\n",
        "import seaborn as sns\n",
        "from sklearn.metrics import confusion_matrix\n",
        "import matplotlib.pyplot as plt\n",
        "import tensorflow as tf\n",
        "import keras\n",
        "import numpy as np\n",
        "import pandas as pd\n",
        "print('Done')"
      ]
    },
    {
      "cell_type": "markdown",
      "metadata": {
        "id": "CZSDU_CLy_Xf",
        "papermill": {
          "duration": 0.032245,
          "end_time": "2020-10-06T21:19:41.583484",
          "exception": false,
          "start_time": "2020-10-06T21:19:41.551239",
          "status": "completed"
        },
        "tags": []
      },
      "source": [
        "# Data importing"
      ]
    },
    {
      "cell_type": "code",
      "execution_count": 104,
      "metadata": {
        "_cell_guid": "79c7e3d0-c299-4dcb-8224-4455121ee9b0",
        "_uuid": "d629ff2d2480ee46fbb7e2d37f6b5fab8052498a",
        "id": "iOEQg7mQy_Xf",
        "papermill": {
          "duration": 0.132806,
          "end_time": "2020-10-06T21:19:41.754037",
          "exception": false,
          "start_time": "2020-10-06T21:19:41.621231",
          "status": "completed"
        },
        "tags": []
      },
      "outputs": [],
      "source": [
        "train = pd.read_csv('/content/news.csv', sep=',')"
      ]
    },
    {
      "cell_type": "markdown",
      "metadata": {
        "id": "nPpMtX1Fy_Xg",
        "papermill": {
          "duration": 0.031706,
          "end_time": "2020-10-06T21:19:41.817762",
          "exception": false,
          "start_time": "2020-10-06T21:19:41.786056",
          "status": "completed"
        },
        "tags": []
      },
      "source": [
        "# Data exploration"
      ]
    },
    {
      "cell_type": "code",
      "execution_count": 105,
      "metadata": {
        "colab": {
          "base_uri": "https://localhost:8080/",
          "height": 520
        },
        "id": "uER8YMShy_Xg",
        "outputId": "1c8725df-7bab-4a71-ba62-801704414396",
        "papermill": {
          "duration": 0.05902,
          "end_time": "2020-10-06T21:19:41.908931",
          "exception": false,
          "start_time": "2020-10-06T21:19:41.849911",
          "status": "completed"
        },
        "tags": []
      },
      "outputs": [
        {
          "data": {
            "text/html": [
              "\n",
              "  <div id=\"df-34625442-7aed-47bb-8cf0-f9d9e947372e\">\n",
              "    <div class=\"colab-df-container\">\n",
              "      <div>\n",
              "<style scoped>\n",
              "    .dataframe tbody tr th:only-of-type {\n",
              "        vertical-align: middle;\n",
              "    }\n",
              "\n",
              "    .dataframe tbody tr th {\n",
              "        vertical-align: top;\n",
              "    }\n",
              "\n",
              "    .dataframe thead th {\n",
              "        text-align: right;\n",
              "    }\n",
              "</style>\n",
              "<table border=\"1\" class=\"dataframe\">\n",
              "  <thead>\n",
              "    <tr style=\"text-align: right;\">\n",
              "      <th></th>\n",
              "      <th>Unnamed: 0</th>\n",
              "      <th>title</th>\n",
              "      <th>text</th>\n",
              "      <th>label</th>\n",
              "    </tr>\n",
              "  </thead>\n",
              "  <tbody>\n",
              "    <tr>\n",
              "      <th>0</th>\n",
              "      <td>8476</td>\n",
              "      <td>You Can Smell Hillary’s Fear</td>\n",
              "      <td>Daniel Greenfield, a Shillman Journalism Fello...</td>\n",
              "      <td>FAKE</td>\n",
              "    </tr>\n",
              "    <tr>\n",
              "      <th>1</th>\n",
              "      <td>10294</td>\n",
              "      <td>Watch The Exact Moment Paul Ryan Committed Pol...</td>\n",
              "      <td>Google Pinterest Digg Linkedin Reddit Stumbleu...</td>\n",
              "      <td>FAKE</td>\n",
              "    </tr>\n",
              "    <tr>\n",
              "      <th>2</th>\n",
              "      <td>3608</td>\n",
              "      <td>Kerry to go to Paris in gesture of sympathy</td>\n",
              "      <td>U.S. Secretary of State John F. Kerry said Mon...</td>\n",
              "      <td>REAL</td>\n",
              "    </tr>\n",
              "    <tr>\n",
              "      <th>3</th>\n",
              "      <td>10142</td>\n",
              "      <td>Bernie supporters on Twitter erupt in anger ag...</td>\n",
              "      <td>— Kaydee King (@KaydeeKing) November 9, 2016 T...</td>\n",
              "      <td>FAKE</td>\n",
              "    </tr>\n",
              "    <tr>\n",
              "      <th>4</th>\n",
              "      <td>875</td>\n",
              "      <td>The Battle of New York: Why This Primary Matters</td>\n",
              "      <td>It's primary day in New York and front-runners...</td>\n",
              "      <td>REAL</td>\n",
              "    </tr>\n",
              "    <tr>\n",
              "      <th>5</th>\n",
              "      <td>6903</td>\n",
              "      <td>Tehran, USA</td>\n",
              "      <td>\\nI’m not an immigrant, but my grandparents ...</td>\n",
              "      <td>FAKE</td>\n",
              "    </tr>\n",
              "    <tr>\n",
              "      <th>6</th>\n",
              "      <td>7341</td>\n",
              "      <td>Girl Horrified At What She Watches Boyfriend D...</td>\n",
              "      <td>Share This Baylee Luciani (left), Screenshot o...</td>\n",
              "      <td>FAKE</td>\n",
              "    </tr>\n",
              "    <tr>\n",
              "      <th>7</th>\n",
              "      <td>95</td>\n",
              "      <td>‘Britain’s Schindler’ Dies at 106</td>\n",
              "      <td>A Czech stockbroker who saved more than 650 Je...</td>\n",
              "      <td>REAL</td>\n",
              "    </tr>\n",
              "    <tr>\n",
              "      <th>8</th>\n",
              "      <td>4869</td>\n",
              "      <td>Fact check: Trump and Clinton at the 'commande...</td>\n",
              "      <td>Hillary Clinton and Donald Trump made some ina...</td>\n",
              "      <td>REAL</td>\n",
              "    </tr>\n",
              "    <tr>\n",
              "      <th>9</th>\n",
              "      <td>2909</td>\n",
              "      <td>Iran reportedly makes new push for uranium con...</td>\n",
              "      <td>Iranian negotiators reportedly have made a las...</td>\n",
              "      <td>REAL</td>\n",
              "    </tr>\n",
              "    <tr>\n",
              "      <th>10</th>\n",
              "      <td>1357</td>\n",
              "      <td>With all three Clintons in Iowa, a glimpse at ...</td>\n",
              "      <td>CEDAR RAPIDS, Iowa — “I had one of the most wo...</td>\n",
              "      <td>REAL</td>\n",
              "    </tr>\n",
              "    <tr>\n",
              "      <th>11</th>\n",
              "      <td>988</td>\n",
              "      <td>Donald Trump’s Shockingly Weak Delegate Game S...</td>\n",
              "      <td>Donald Trump’s organizational problems have go...</td>\n",
              "      <td>REAL</td>\n",
              "    </tr>\n",
              "    <tr>\n",
              "      <th>12</th>\n",
              "      <td>7041</td>\n",
              "      <td>Strong Solar Storm, Tech Risks Today | S0 News...</td>\n",
              "      <td>Click Here To Learn More About Alexandra's Per...</td>\n",
              "      <td>FAKE</td>\n",
              "    </tr>\n",
              "    <tr>\n",
              "      <th>13</th>\n",
              "      <td>7623</td>\n",
              "      <td>10 Ways America Is Preparing for World War 3</td>\n",
              "      <td>October 31, 2016 at 4:52 am \\nPretty factual e...</td>\n",
              "      <td>FAKE</td>\n",
              "    </tr>\n",
              "    <tr>\n",
              "      <th>14</th>\n",
              "      <td>1571</td>\n",
              "      <td>Trump takes on Cruz, but lightly</td>\n",
              "      <td>Killing Obama administration rules, dismantlin...</td>\n",
              "      <td>REAL</td>\n",
              "    </tr>\n",
              "  </tbody>\n",
              "</table>\n",
              "</div>\n",
              "      <button class=\"colab-df-convert\" onclick=\"convertToInteractive('df-34625442-7aed-47bb-8cf0-f9d9e947372e')\"\n",
              "              title=\"Convert this dataframe to an interactive table.\"\n",
              "              style=\"display:none;\">\n",
              "        \n",
              "  <svg xmlns=\"http://www.w3.org/2000/svg\" height=\"24px\"viewBox=\"0 0 24 24\"\n",
              "       width=\"24px\">\n",
              "    <path d=\"M0 0h24v24H0V0z\" fill=\"none\"/>\n",
              "    <path d=\"M18.56 5.44l.94 2.06.94-2.06 2.06-.94-2.06-.94-.94-2.06-.94 2.06-2.06.94zm-11 1L8.5 8.5l.94-2.06 2.06-.94-2.06-.94L8.5 2.5l-.94 2.06-2.06.94zm10 10l.94 2.06.94-2.06 2.06-.94-2.06-.94-.94-2.06-.94 2.06-2.06.94z\"/><path d=\"M17.41 7.96l-1.37-1.37c-.4-.4-.92-.59-1.43-.59-.52 0-1.04.2-1.43.59L10.3 9.45l-7.72 7.72c-.78.78-.78 2.05 0 2.83L4 21.41c.39.39.9.59 1.41.59.51 0 1.02-.2 1.41-.59l7.78-7.78 2.81-2.81c.8-.78.8-2.07 0-2.86zM5.41 20L4 18.59l7.72-7.72 1.47 1.35L5.41 20z\"/>\n",
              "  </svg>\n",
              "      </button>\n",
              "      \n",
              "  <style>\n",
              "    .colab-df-container {\n",
              "      display:flex;\n",
              "      flex-wrap:wrap;\n",
              "      gap: 12px;\n",
              "    }\n",
              "\n",
              "    .colab-df-convert {\n",
              "      background-color: #E8F0FE;\n",
              "      border: none;\n",
              "      border-radius: 50%;\n",
              "      cursor: pointer;\n",
              "      display: none;\n",
              "      fill: #1967D2;\n",
              "      height: 32px;\n",
              "      padding: 0 0 0 0;\n",
              "      width: 32px;\n",
              "    }\n",
              "\n",
              "    .colab-df-convert:hover {\n",
              "      background-color: #E2EBFA;\n",
              "      box-shadow: 0px 1px 2px rgba(60, 64, 67, 0.3), 0px 1px 3px 1px rgba(60, 64, 67, 0.15);\n",
              "      fill: #174EA6;\n",
              "    }\n",
              "\n",
              "    [theme=dark] .colab-df-convert {\n",
              "      background-color: #3B4455;\n",
              "      fill: #D2E3FC;\n",
              "    }\n",
              "\n",
              "    [theme=dark] .colab-df-convert:hover {\n",
              "      background-color: #434B5C;\n",
              "      box-shadow: 0px 1px 3px 1px rgba(0, 0, 0, 0.15);\n",
              "      filter: drop-shadow(0px 1px 2px rgba(0, 0, 0, 0.3));\n",
              "      fill: #FFFFFF;\n",
              "    }\n",
              "  </style>\n",
              "\n",
              "      <script>\n",
              "        const buttonEl =\n",
              "          document.querySelector('#df-34625442-7aed-47bb-8cf0-f9d9e947372e button.colab-df-convert');\n",
              "        buttonEl.style.display =\n",
              "          google.colab.kernel.accessAllowed ? 'block' : 'none';\n",
              "\n",
              "        async function convertToInteractive(key) {\n",
              "          const element = document.querySelector('#df-34625442-7aed-47bb-8cf0-f9d9e947372e');\n",
              "          const dataTable =\n",
              "            await google.colab.kernel.invokeFunction('convertToInteractive',\n",
              "                                                     [key], {});\n",
              "          if (!dataTable) return;\n",
              "\n",
              "          const docLinkHtml = 'Like what you see? Visit the ' +\n",
              "            '<a target=\"_blank\" href=https://colab.research.google.com/notebooks/data_table.ipynb>data table notebook</a>'\n",
              "            + ' to learn more about interactive tables.';\n",
              "          element.innerHTML = '';\n",
              "          dataTable['output_type'] = 'display_data';\n",
              "          await google.colab.output.renderOutput(dataTable, element);\n",
              "          const docLink = document.createElement('div');\n",
              "          docLink.innerHTML = docLinkHtml;\n",
              "          element.appendChild(docLink);\n",
              "        }\n",
              "      </script>\n",
              "    </div>\n",
              "  </div>\n",
              "  "
            ],
            "text/plain": [
              "    Unnamed: 0                                              title  \\\n",
              "0         8476                       You Can Smell Hillary’s Fear   \n",
              "1        10294  Watch The Exact Moment Paul Ryan Committed Pol...   \n",
              "2         3608        Kerry to go to Paris in gesture of sympathy   \n",
              "3        10142  Bernie supporters on Twitter erupt in anger ag...   \n",
              "4          875   The Battle of New York: Why This Primary Matters   \n",
              "5         6903                                        Tehran, USA   \n",
              "6         7341  Girl Horrified At What She Watches Boyfriend D...   \n",
              "7           95                  ‘Britain’s Schindler’ Dies at 106   \n",
              "8         4869  Fact check: Trump and Clinton at the 'commande...   \n",
              "9         2909  Iran reportedly makes new push for uranium con...   \n",
              "10        1357  With all three Clintons in Iowa, a glimpse at ...   \n",
              "11         988  Donald Trump’s Shockingly Weak Delegate Game S...   \n",
              "12        7041  Strong Solar Storm, Tech Risks Today | S0 News...   \n",
              "13        7623       10 Ways America Is Preparing for World War 3   \n",
              "14        1571                   Trump takes on Cruz, but lightly   \n",
              "\n",
              "                                                 text label  \n",
              "0   Daniel Greenfield, a Shillman Journalism Fello...  FAKE  \n",
              "1   Google Pinterest Digg Linkedin Reddit Stumbleu...  FAKE  \n",
              "2   U.S. Secretary of State John F. Kerry said Mon...  REAL  \n",
              "3   — Kaydee King (@KaydeeKing) November 9, 2016 T...  FAKE  \n",
              "4   It's primary day in New York and front-runners...  REAL  \n",
              "5     \\nI’m not an immigrant, but my grandparents ...  FAKE  \n",
              "6   Share This Baylee Luciani (left), Screenshot o...  FAKE  \n",
              "7   A Czech stockbroker who saved more than 650 Je...  REAL  \n",
              "8   Hillary Clinton and Donald Trump made some ina...  REAL  \n",
              "9   Iranian negotiators reportedly have made a las...  REAL  \n",
              "10  CEDAR RAPIDS, Iowa — “I had one of the most wo...  REAL  \n",
              "11  Donald Trump’s organizational problems have go...  REAL  \n",
              "12  Click Here To Learn More About Alexandra's Per...  FAKE  \n",
              "13  October 31, 2016 at 4:52 am \\nPretty factual e...  FAKE  \n",
              "14  Killing Obama administration rules, dismantlin...  REAL  "
            ]
          },
          "execution_count": 105,
          "metadata": {},
          "output_type": "execute_result"
        }
      ],
      "source": [
        "train.head(15)"
      ]
    },
    {
      "cell_type": "code",
      "execution_count": 106,
      "metadata": {
        "colab": {
          "base_uri": "https://localhost:8080/"
        },
        "id": "JLDb7JwVy_Xg",
        "outputId": "d6e842cc-967e-45b7-9a3f-8a07f275777c",
        "papermill": {
          "duration": 0.041264,
          "end_time": "2020-10-06T21:19:41.983666",
          "exception": false,
          "start_time": "2020-10-06T21:19:41.942402",
          "status": "completed"
        },
        "tags": []
      },
      "outputs": [
        {
          "data": {
            "text/plain": [
              "6335"
            ]
          },
          "execution_count": 106,
          "metadata": {},
          "output_type": "execute_result"
        }
      ],
      "source": [
        "#Let's get the dataset lenght\n",
        "len(train)"
      ]
    },
    {
      "cell_type": "code",
      "execution_count": 107,
      "metadata": {
        "colab": {
          "base_uri": "https://localhost:8080/"
        },
        "id": "ps0jk_ksy_Xg",
        "outputId": "9450e3cb-ce2b-4e70-b98d-1ddcdacd57c3",
        "papermill": {
          "duration": 0.047577,
          "end_time": "2020-10-06T21:19:42.064691",
          "exception": false,
          "start_time": "2020-10-06T21:19:42.017114",
          "status": "completed"
        },
        "tags": []
      },
      "outputs": [
        {
          "data": {
            "text/plain": [
              "array(['FAKE', 'REAL'], dtype=object)"
            ]
          },
          "execution_count": 107,
          "metadata": {},
          "output_type": "execute_result"
        }
      ],
      "source": [
        "#Is there any other different value than neutral, negative and positive?\n",
        "train['label'].unique()"
      ]
    },
    {
      "cell_type": "code",
      "execution_count": 108,
      "metadata": {
        "colab": {
          "base_uri": "https://localhost:8080/",
          "height": 143
        },
        "id": "i4x4jsSMy_Xg",
        "outputId": "4a9db8bd-8477-4a96-b98d-b37c7ebdb28b",
        "papermill": {
          "duration": 0.088183,
          "end_time": "2020-10-06T21:19:42.186453",
          "exception": false,
          "start_time": "2020-10-06T21:19:42.098270",
          "status": "completed"
        },
        "tags": []
      },
      "outputs": [
        {
          "data": {
            "text/html": [
              "\n",
              "  <div id=\"df-a37d3453-8c7c-4166-b753-640570d2d3ed\">\n",
              "    <div class=\"colab-df-container\">\n",
              "      <div>\n",
              "<style scoped>\n",
              "    .dataframe tbody tr th:only-of-type {\n",
              "        vertical-align: middle;\n",
              "    }\n",
              "\n",
              "    .dataframe tbody tr th {\n",
              "        vertical-align: top;\n",
              "    }\n",
              "\n",
              "    .dataframe thead th {\n",
              "        text-align: right;\n",
              "    }\n",
              "</style>\n",
              "<table border=\"1\" class=\"dataframe\">\n",
              "  <thead>\n",
              "    <tr style=\"text-align: right;\">\n",
              "      <th></th>\n",
              "      <th>Unnamed: 0</th>\n",
              "      <th>title</th>\n",
              "      <th>text</th>\n",
              "    </tr>\n",
              "    <tr>\n",
              "      <th>label</th>\n",
              "      <th></th>\n",
              "      <th></th>\n",
              "      <th></th>\n",
              "    </tr>\n",
              "  </thead>\n",
              "  <tbody>\n",
              "    <tr>\n",
              "      <th>FAKE</th>\n",
              "      <td>3164</td>\n",
              "      <td>3107</td>\n",
              "      <td>3071</td>\n",
              "    </tr>\n",
              "    <tr>\n",
              "      <th>REAL</th>\n",
              "      <td>3171</td>\n",
              "      <td>3149</td>\n",
              "      <td>2989</td>\n",
              "    </tr>\n",
              "  </tbody>\n",
              "</table>\n",
              "</div>\n",
              "      <button class=\"colab-df-convert\" onclick=\"convertToInteractive('df-a37d3453-8c7c-4166-b753-640570d2d3ed')\"\n",
              "              title=\"Convert this dataframe to an interactive table.\"\n",
              "              style=\"display:none;\">\n",
              "        \n",
              "  <svg xmlns=\"http://www.w3.org/2000/svg\" height=\"24px\"viewBox=\"0 0 24 24\"\n",
              "       width=\"24px\">\n",
              "    <path d=\"M0 0h24v24H0V0z\" fill=\"none\"/>\n",
              "    <path d=\"M18.56 5.44l.94 2.06.94-2.06 2.06-.94-2.06-.94-.94-2.06-.94 2.06-2.06.94zm-11 1L8.5 8.5l.94-2.06 2.06-.94-2.06-.94L8.5 2.5l-.94 2.06-2.06.94zm10 10l.94 2.06.94-2.06 2.06-.94-2.06-.94-.94-2.06-.94 2.06-2.06.94z\"/><path d=\"M17.41 7.96l-1.37-1.37c-.4-.4-.92-.59-1.43-.59-.52 0-1.04.2-1.43.59L10.3 9.45l-7.72 7.72c-.78.78-.78 2.05 0 2.83L4 21.41c.39.39.9.59 1.41.59.51 0 1.02-.2 1.41-.59l7.78-7.78 2.81-2.81c.8-.78.8-2.07 0-2.86zM5.41 20L4 18.59l7.72-7.72 1.47 1.35L5.41 20z\"/>\n",
              "  </svg>\n",
              "      </button>\n",
              "      \n",
              "  <style>\n",
              "    .colab-df-container {\n",
              "      display:flex;\n",
              "      flex-wrap:wrap;\n",
              "      gap: 12px;\n",
              "    }\n",
              "\n",
              "    .colab-df-convert {\n",
              "      background-color: #E8F0FE;\n",
              "      border: none;\n",
              "      border-radius: 50%;\n",
              "      cursor: pointer;\n",
              "      display: none;\n",
              "      fill: #1967D2;\n",
              "      height: 32px;\n",
              "      padding: 0 0 0 0;\n",
              "      width: 32px;\n",
              "    }\n",
              "\n",
              "    .colab-df-convert:hover {\n",
              "      background-color: #E2EBFA;\n",
              "      box-shadow: 0px 1px 2px rgba(60, 64, 67, 0.3), 0px 1px 3px 1px rgba(60, 64, 67, 0.15);\n",
              "      fill: #174EA6;\n",
              "    }\n",
              "\n",
              "    [theme=dark] .colab-df-convert {\n",
              "      background-color: #3B4455;\n",
              "      fill: #D2E3FC;\n",
              "    }\n",
              "\n",
              "    [theme=dark] .colab-df-convert:hover {\n",
              "      background-color: #434B5C;\n",
              "      box-shadow: 0px 1px 3px 1px rgba(0, 0, 0, 0.15);\n",
              "      filter: drop-shadow(0px 1px 2px rgba(0, 0, 0, 0.3));\n",
              "      fill: #FFFFFF;\n",
              "    }\n",
              "  </style>\n",
              "\n",
              "      <script>\n",
              "        const buttonEl =\n",
              "          document.querySelector('#df-a37d3453-8c7c-4166-b753-640570d2d3ed button.colab-df-convert');\n",
              "        buttonEl.style.display =\n",
              "          google.colab.kernel.accessAllowed ? 'block' : 'none';\n",
              "\n",
              "        async function convertToInteractive(key) {\n",
              "          const element = document.querySelector('#df-a37d3453-8c7c-4166-b753-640570d2d3ed');\n",
              "          const dataTable =\n",
              "            await google.colab.kernel.invokeFunction('convertToInteractive',\n",
              "                                                     [key], {});\n",
              "          if (!dataTable) return;\n",
              "\n",
              "          const docLinkHtml = 'Like what you see? Visit the ' +\n",
              "            '<a target=\"_blank\" href=https://colab.research.google.com/notebooks/data_table.ipynb>data table notebook</a>'\n",
              "            + ' to learn more about interactive tables.';\n",
              "          element.innerHTML = '';\n",
              "          dataTable['output_type'] = 'display_data';\n",
              "          await google.colab.output.renderOutput(dataTable, element);\n",
              "          const docLink = document.createElement('div');\n",
              "          docLink.innerHTML = docLinkHtml;\n",
              "          element.appendChild(docLink);\n",
              "        }\n",
              "      </script>\n",
              "    </div>\n",
              "  </div>\n",
              "  "
            ],
            "text/plain": [
              "       Unnamed: 0  title  text\n",
              "label                         \n",
              "FAKE         3164   3107  3071\n",
              "REAL         3171   3149  2989"
            ]
          },
          "execution_count": 108,
          "metadata": {},
          "output_type": "execute_result"
        }
      ],
      "source": [
        "#How's distributed the dataset? Is it biased?\n",
        "train.groupby('label').nunique()"
      ]
    },
    {
      "cell_type": "markdown",
      "metadata": {
        "id": "KW8g_gkry_Xg",
        "papermill": {
          "duration": 0.033994,
          "end_time": "2020-10-06T21:19:42.255666",
          "exception": false,
          "start_time": "2020-10-06T21:19:42.221672",
          "status": "completed"
        },
        "tags": []
      },
      "source": [
        "# Data cleaning\n",
        "\n",
        "Even when the dataset is a little bit biased, we'll keep it this way because the differences are not significant."
      ]
    },
    {
      "cell_type": "code",
      "execution_count": 109,
      "metadata": {
        "colab": {
          "base_uri": "https://localhost:8080/",
          "height": 206
        },
        "id": "6ylucwGJy_Xg",
        "outputId": "1dd62d8a-4374-4ce3-9225-1c5f1f48d3e5",
        "papermill": {
          "duration": 0.04812,
          "end_time": "2020-10-06T21:19:42.337823",
          "exception": false,
          "start_time": "2020-10-06T21:19:42.289703",
          "status": "completed"
        },
        "tags": []
      },
      "outputs": [
        {
          "data": {
            "text/html": [
              "\n",
              "  <div id=\"df-2d7b9928-f5b1-47c6-ab88-375578f524f8\">\n",
              "    <div class=\"colab-df-container\">\n",
              "      <div>\n",
              "<style scoped>\n",
              "    .dataframe tbody tr th:only-of-type {\n",
              "        vertical-align: middle;\n",
              "    }\n",
              "\n",
              "    .dataframe tbody tr th {\n",
              "        vertical-align: top;\n",
              "    }\n",
              "\n",
              "    .dataframe thead th {\n",
              "        text-align: right;\n",
              "    }\n",
              "</style>\n",
              "<table border=\"1\" class=\"dataframe\">\n",
              "  <thead>\n",
              "    <tr style=\"text-align: right;\">\n",
              "      <th></th>\n",
              "      <th>text</th>\n",
              "      <th>label</th>\n",
              "    </tr>\n",
              "  </thead>\n",
              "  <tbody>\n",
              "    <tr>\n",
              "      <th>0</th>\n",
              "      <td>Daniel Greenfield, a Shillman Journalism Fello...</td>\n",
              "      <td>FAKE</td>\n",
              "    </tr>\n",
              "    <tr>\n",
              "      <th>1</th>\n",
              "      <td>Google Pinterest Digg Linkedin Reddit Stumbleu...</td>\n",
              "      <td>FAKE</td>\n",
              "    </tr>\n",
              "    <tr>\n",
              "      <th>2</th>\n",
              "      <td>U.S. Secretary of State John F. Kerry said Mon...</td>\n",
              "      <td>REAL</td>\n",
              "    </tr>\n",
              "    <tr>\n",
              "      <th>3</th>\n",
              "      <td>— Kaydee King (@KaydeeKing) November 9, 2016 T...</td>\n",
              "      <td>FAKE</td>\n",
              "    </tr>\n",
              "    <tr>\n",
              "      <th>4</th>\n",
              "      <td>It's primary day in New York and front-runners...</td>\n",
              "      <td>REAL</td>\n",
              "    </tr>\n",
              "  </tbody>\n",
              "</table>\n",
              "</div>\n",
              "      <button class=\"colab-df-convert\" onclick=\"convertToInteractive('df-2d7b9928-f5b1-47c6-ab88-375578f524f8')\"\n",
              "              title=\"Convert this dataframe to an interactive table.\"\n",
              "              style=\"display:none;\">\n",
              "        \n",
              "  <svg xmlns=\"http://www.w3.org/2000/svg\" height=\"24px\"viewBox=\"0 0 24 24\"\n",
              "       width=\"24px\">\n",
              "    <path d=\"M0 0h24v24H0V0z\" fill=\"none\"/>\n",
              "    <path d=\"M18.56 5.44l.94 2.06.94-2.06 2.06-.94-2.06-.94-.94-2.06-.94 2.06-2.06.94zm-11 1L8.5 8.5l.94-2.06 2.06-.94-2.06-.94L8.5 2.5l-.94 2.06-2.06.94zm10 10l.94 2.06.94-2.06 2.06-.94-2.06-.94-.94-2.06-.94 2.06-2.06.94z\"/><path d=\"M17.41 7.96l-1.37-1.37c-.4-.4-.92-.59-1.43-.59-.52 0-1.04.2-1.43.59L10.3 9.45l-7.72 7.72c-.78.78-.78 2.05 0 2.83L4 21.41c.39.39.9.59 1.41.59.51 0 1.02-.2 1.41-.59l7.78-7.78 2.81-2.81c.8-.78.8-2.07 0-2.86zM5.41 20L4 18.59l7.72-7.72 1.47 1.35L5.41 20z\"/>\n",
              "  </svg>\n",
              "      </button>\n",
              "      \n",
              "  <style>\n",
              "    .colab-df-container {\n",
              "      display:flex;\n",
              "      flex-wrap:wrap;\n",
              "      gap: 12px;\n",
              "    }\n",
              "\n",
              "    .colab-df-convert {\n",
              "      background-color: #E8F0FE;\n",
              "      border: none;\n",
              "      border-radius: 50%;\n",
              "      cursor: pointer;\n",
              "      display: none;\n",
              "      fill: #1967D2;\n",
              "      height: 32px;\n",
              "      padding: 0 0 0 0;\n",
              "      width: 32px;\n",
              "    }\n",
              "\n",
              "    .colab-df-convert:hover {\n",
              "      background-color: #E2EBFA;\n",
              "      box-shadow: 0px 1px 2px rgba(60, 64, 67, 0.3), 0px 1px 3px 1px rgba(60, 64, 67, 0.15);\n",
              "      fill: #174EA6;\n",
              "    }\n",
              "\n",
              "    [theme=dark] .colab-df-convert {\n",
              "      background-color: #3B4455;\n",
              "      fill: #D2E3FC;\n",
              "    }\n",
              "\n",
              "    [theme=dark] .colab-df-convert:hover {\n",
              "      background-color: #434B5C;\n",
              "      box-shadow: 0px 1px 3px 1px rgba(0, 0, 0, 0.15);\n",
              "      filter: drop-shadow(0px 1px 2px rgba(0, 0, 0, 0.3));\n",
              "      fill: #FFFFFF;\n",
              "    }\n",
              "  </style>\n",
              "\n",
              "      <script>\n",
              "        const buttonEl =\n",
              "          document.querySelector('#df-2d7b9928-f5b1-47c6-ab88-375578f524f8 button.colab-df-convert');\n",
              "        buttonEl.style.display =\n",
              "          google.colab.kernel.accessAllowed ? 'block' : 'none';\n",
              "\n",
              "        async function convertToInteractive(key) {\n",
              "          const element = document.querySelector('#df-2d7b9928-f5b1-47c6-ab88-375578f524f8');\n",
              "          const dataTable =\n",
              "            await google.colab.kernel.invokeFunction('convertToInteractive',\n",
              "                                                     [key], {});\n",
              "          if (!dataTable) return;\n",
              "\n",
              "          const docLinkHtml = 'Like what you see? Visit the ' +\n",
              "            '<a target=\"_blank\" href=https://colab.research.google.com/notebooks/data_table.ipynb>data table notebook</a>'\n",
              "            + ' to learn more about interactive tables.';\n",
              "          element.innerHTML = '';\n",
              "          dataTable['output_type'] = 'display_data';\n",
              "          await google.colab.output.renderOutput(dataTable, element);\n",
              "          const docLink = document.createElement('div');\n",
              "          docLink.innerHTML = docLinkHtml;\n",
              "          element.appendChild(docLink);\n",
              "        }\n",
              "      </script>\n",
              "    </div>\n",
              "  </div>\n",
              "  "
            ],
            "text/plain": [
              "                                                text label\n",
              "0  Daniel Greenfield, a Shillman Journalism Fello...  FAKE\n",
              "1  Google Pinterest Digg Linkedin Reddit Stumbleu...  FAKE\n",
              "2  U.S. Secretary of State John F. Kerry said Mon...  REAL\n",
              "3  — Kaydee King (@KaydeeKing) November 9, 2016 T...  FAKE\n",
              "4  It's primary day in New York and front-runners...  REAL"
            ]
          },
          "execution_count": 109,
          "metadata": {},
          "output_type": "execute_result"
        }
      ],
      "source": [
        "#Let's keep only the columns that we're going to use\n",
        "train = train[['text','label']]\n",
        "train.head()"
      ]
    },
    {
      "cell_type": "code",
      "execution_count": 110,
      "metadata": {
        "colab": {
          "base_uri": "https://localhost:8080/"
        },
        "id": "54UsmLC_y_Xg",
        "outputId": "169bc37c-618f-4339-bed6-ab10e39e5658",
        "papermill": {
          "duration": 0.0451,
          "end_time": "2020-10-06T21:19:42.418205",
          "exception": false,
          "start_time": "2020-10-06T21:19:42.373105",
          "status": "completed"
        },
        "tags": []
      },
      "outputs": [
        {
          "data": {
            "text/plain": [
              "0"
            ]
          },
          "execution_count": 110,
          "metadata": {},
          "output_type": "execute_result"
        }
      ],
      "source": [
        "#Is there any null value?\n",
        "train[\"text\"].isnull().sum()"
      ]
    },
    {
      "cell_type": "code",
      "execution_count": 111,
      "metadata": {
        "id": "JqYnHe2Ky_Xh",
        "papermill": {
          "duration": 0.047154,
          "end_time": "2020-10-06T21:19:42.501409",
          "exception": false,
          "start_time": "2020-10-06T21:19:42.454255",
          "status": "completed"
        },
        "tags": []
      },
      "outputs": [],
      "source": [
        "#Let's fill the only null value.\n",
        "train[\"text\"].fillna(\"No content\", inplace = True)"
      ]
    },
    {
      "cell_type": "markdown",
      "metadata": {
        "id": "ki3dADE1y_Xh",
        "papermill": {
          "duration": 0.035753,
          "end_time": "2020-10-06T21:19:42.572975",
          "exception": false,
          "start_time": "2020-10-06T21:19:42.537222",
          "status": "completed"
        },
        "tags": []
      },
      "source": [
        "### The next steps about data cleaning will be:\n",
        "\n",
        "* Remove URLs from the tweets\n",
        "* Tokenize text\n",
        "* Remove emails\n",
        "* Remove new lines characters\n",
        "* Remove distracting single quotes\n",
        "* Remove all punctuation signs\n",
        "* Lowercase all text\n",
        "* Detokenize text\n",
        "* Convert list of texts to Numpy array"
      ]
    },
    {
      "cell_type": "code",
      "execution_count": 112,
      "metadata": {
        "id": "HUN8EEICy_Xh",
        "papermill": {
          "duration": 0.044735,
          "end_time": "2020-10-06T21:19:42.653654",
          "exception": false,
          "start_time": "2020-10-06T21:19:42.608919",
          "status": "completed"
        },
        "tags": []
      },
      "outputs": [],
      "source": [
        "def depure_data(data):\n",
        "\n",
        "    #Removing URLs with a regular expression\n",
        "    url_pattern = re.compile(r'https?://\\S+|www\\.\\S+')\n",
        "    data = url_pattern.sub(r'', data)\n",
        "\n",
        "    # Remove Emails\n",
        "    data = re.sub('\\S*@\\S*\\s?', '', data)\n",
        "\n",
        "    # Remove new line characters\n",
        "    data = re.sub('\\s+', ' ', data)\n",
        "\n",
        "    # Remove distracting single quotes\n",
        "    data = re.sub(\"\\'\", \"\", data)\n",
        "\n",
        "    return data"
      ]
    },
    {
      "cell_type": "code",
      "execution_count": 113,
      "metadata": {
        "colab": {
          "base_uri": "https://localhost:8080/"
        },
        "id": "zmOabtE0y_Xh",
        "outputId": "ab56ae95-87a8-47f3-e262-342c6cae214c",
        "papermill": {
          "duration": 0.411166,
          "end_time": "2020-10-06T21:19:43.100446",
          "exception": false,
          "start_time": "2020-10-06T21:19:42.689280",
          "status": "completed"
        },
        "tags": []
      },
      "outputs": [
        {
          "data": {
            "text/plain": [
              "['Daniel Greenfield, a Shillman Journalism Fellow at the Freedom Center, is a New York writer focusing on radical Islam. In the final stretch of the election, Hillary Rodham Clinton has gone to war with the FBI. The word “unprecedented” has been thrown around so often this election that it ought to be retired. But it’s still unprecedented for the nominee of a major political party to go war with the FBI. But that’s exactly what Hillary and her people have done. Coma patients just waking up now and watching an hour of CNN from their hospital beds would assume that FBI Director James Comey is Hillary’s opponent in this election. The FBI is under attack by everyone from Obama to CNN. Hillary’s people have circulated a letter attacking Comey. There are currently more media hit pieces lambasting him than targeting Trump. It wouldn’t be too surprising if the Clintons or their allies were to start running attack ads against the FBI. The FBI’s leadership is being warned that the entire left-wing establishment will form a lynch mob if they continue going after Hillary. And the FBI’s credibility is being attacked by the media and the Democrats to preemptively head off the results of the investigation of the Clinton Foundation and Hillary Clinton. The covert struggle between FBI agents and Obama’s DOJ people has gone explosively public. The New York Times has compared Comey to J. Edgar Hoover. Its bizarre headline, “James Comey Role Recalls Hoover’s FBI, Fairly or Not” practically admits up front that it’s spouting nonsense. The Boston Globe has published a column calling for Comey’s resignation. Not to be outdone, Time has an editorial claiming that the scandal is really an attack on all women. James Carville appeared on MSNBC to remind everyone that he was still alive and insane. He accused Comey of coordinating with House Republicans and the KGB. And you thought the “vast right wing conspiracy” was a stretch. Countless media stories charge Comey with violating procedure. Do you know what’s a procedural violation? Emailing classified information stored on your bathroom server. Senator Harry Reid has sent Comey a letter accusing him of violating the Hatch Act. The Hatch Act is a nice idea that has as much relevance in the age of Obama as the Tenth Amendment. But the cable news spectrum quickly filled with media hacks glancing at the Wikipedia article on the Hatch Act under the table while accusing the FBI director of one of the most awkward conspiracies against Hillary ever. If James Comey is really out to hurt Hillary, he picked one hell of a strange way to do it. Not too long ago Democrats were breathing a sigh of relief when he gave Hillary Clinton a pass in a prominent public statement. If he really were out to elect Trump by keeping the email scandal going, why did he trash the investigation? Was he on the payroll of House Republicans and the KGB back then and playing it coy or was it a sudden development where Vladimir Putin and Paul Ryan talked him into taking a look at Anthony Weiner’s computer? Either Comey is the most cunning FBI director that ever lived or he’s just awkwardly trying to navigate a political mess that has trapped him between a DOJ leadership whose political futures are tied to Hillary’s victory and his own bureau whose apolitical agents just want to be allowed to do their jobs. The only truly mysterious thing is why Hillary and her associates decided to go to war with a respected Federal agency. Most Americans like the FBI while Hillary Clinton enjoys a 60% unfavorable rating. And it’s an interesting question. Hillary’s old strategy was to lie and deny that the FBI even had a criminal investigation underway. Instead her associates insisted that it was a security review. The FBI corrected her and she shrugged it off. But the old breezy denial approach has given way to a savage assault on the FBI. Pretending that nothing was wrong was a bad strategy, but it was a better one that picking a fight with the FBI while lunatic Clinton associates try to claim that the FBI is really the KGB. There are two possible explanations. Hillary Clinton might be arrogant enough to lash out at the FBI now that she believes that victory is near. The same kind of hubris that led her to plan her victory fireworks display could lead her to declare a war on the FBI for irritating her during the final miles of her campaign. But the other explanation is that her people panicked. Going to war with the FBI is not the behavior of a smart and focused presidential campaign. It’s an act of desperation. When a presidential candidate decides that her only option is to try and destroy the credibility of the FBI, that’s not hubris, it’s fear of what the FBI might be about to reveal about her. During the original FBI investigation, Hillary Clinton was confident that she could ride it out. And she had good reason for believing that. But that Hillary Clinton is gone. In her place is a paranoid wreck. Within a short space of time the “positive” Clinton campaign promising to unite the country has been replaced by a desperate and flailing operation that has focused all its energy on fighting the FBI. There’s only one reason for such bizarre behavior. The Clinton campaign has decided that an FBI investigation of the latest batch of emails poses a threat to its survival. And so it’s gone all in on fighting the FBI. It’s an unprecedented step born of fear. It’s hard to know whether that fear is justified. But the existence of that fear already tells us a whole lot. Clinton loyalists rigged the old investigation. They knew the outcome ahead of time as well as they knew the debate questions. Now suddenly they are no longer in control. And they are afraid. You can smell the fear. The FBI has wiretaps from the investigation of the Clinton Foundation. It’s finding new emails all the time. And Clintonworld panicked. The spinmeisters of Clintonworld have claimed that the email scandal is just so much smoke without fire. All that’s here is the appearance of impropriety without any of the substance. But this isn’t how you react to smoke. It’s how you respond to a fire. The misguided assault on the FBI tells us that Hillary Clinton and her allies are afraid of a revelation bigger than the fundamental illegality of her email setup. The email setup was a preemptive cover up. The Clinton campaign has panicked badly out of the belief, right or wrong, that whatever crime the illegal setup was meant to cover up is at risk of being exposed. The Clintons have weathered countless scandals over the years. Whatever they are protecting this time around is bigger than the usual corruption, bribery, sexual assaults and abuses of power that have followed them around throughout the years. This is bigger and more damaging than any of the allegations that have already come out. And they don’t want FBI investigators anywhere near it. The campaign against Comey is pure intimidation. It’s also a warning. Any senior FBI people who value their careers are being warned to stay away. The Democrats are closing ranks around their nominee against the FBI. It’s an ugly and unprecedented scene. It may also be their last stand. Hillary Clinton has awkwardly wound her way through numerous scandals in just this election cycle. But she’s never shown fear or desperation before. Now that has changed. Whatever she is afraid of, it lies buried in her emails with Huma Abedin. And it can bring her down like nothing else has. ',\n",
              " 'Google Pinterest Digg Linkedin Reddit Stumbleupon Print Delicious Pocket Tumblr There are two fundamental truths in this world: Paul Ryan desperately wants to be president. And Paul Ryan will never be president. Today proved it. In a particularly staggering example of political cowardice, Paul Ryan re-re-re-reversed course and announced that he was back on the Trump Train after all. This was an aboutface from where he was a few weeks ago. He had previously declared he would not be supporting or defending Trump after a tape was made public in which Trump bragged about assaulting women. Suddenly, Ryan was appearing at a pro-Trump rally and boldly declaring that he already sent in his vote to make him President of the United States. It was a surreal moment. The figurehead of the Republican Party dosed himself in gasoline, got up on a stage on a chilly afternoon in Wisconsin, and lit a match. . says he voted for : “Republicans, it is time to come home” pic.twitter.com/wCvSCg4a5I — ABC News Politics November 5, 2016 The Democratic Party couldn’t have asked for a better moment of film. Ryan’s chances of ever becoming president went down to zero in an instant. In the wreckage Trump is to leave behind in his wake, those who cravenly backed his campaign will not recover. If Ryan’s career manages to limp all the way to 2020, then the DNC will have this tape locked and loaded to be used in every ad until Election Day. The ringing endorsement of the man he clearly hates on a personal level speaks volumes about his own spinelessness. Ryan has postured himself as a “principled” conservative, and one uncomfortable with Trump’s unapologetic bigotry and sexism. However, when push came to shove, Paul Ryan – like many of his colleagues – turned into a sniveling appeaser. After all his lofty tak about conviction, his principles were a house of cards and collapsed with the slightest breeze. What’s especially bizarre is how close Ryan came to making it through unscathed. For months the Speaker of the House refused to comment on Trump at all. His strategy seemed to be to keep his head down, pretend Trump didn’t exist, and hope that nobody remembered what happened in 2016. Now, just days away from the election, he screwed it all up. If 2016’s very ugly election has done any good it’s by exposing the utter cowardice of the Republicans who once feigned moral courage. A reality television star spit on them, hijacked their party, insulted their wives, and got every last one of them to kneel before him. What a turn of events. Featured image via Twitter',\n",
              " 'U.S. Secretary of State John F. Kerry said Monday that he will stop in Paris later this week, amid criticism that no top American officials attended Sunday’s unity march against terrorism. Kerry said he expects to arrive in Paris Thursday evening, as he heads home after a week abroad. He said he will fly to France at the conclusion of a series of meetings scheduled for Thursday in Sofia, Bulgaria. He plans to meet the next day with Foreign Minister Laurent Fabius and President Francois Hollande, then return to Washington. The visit by Kerry, who has family and childhood ties to the country and speaks fluent French, could address some of the criticism that the United States snubbed France in its darkest hour in many years. The French press on Monday was filled with questions about why neither President Obama nor Kerry attended Sunday’s march, as about 40 leaders of other nations did. Obama was said to have stayed away because his own security needs can be taxing on a country, and Kerry had prior commitments. Among roughly 40 leaders who did attend was Israeli Prime Minister Benjamin Netanyahu, no stranger to intense security, who marched beside Hollande through the city streets. The highest ranking U.S. officials attending the march were Jane Hartley, the ambassador to France, and Victoria Nuland, the assistant secretary of state for European affairs. Attorney General Eric H. Holder Jr. was in Paris for meetings with law enforcement officials but did not participate in the march. Kerry spent Sunday at a business summit hosted by India’s prime minister, Narendra Modi. The United States is eager for India to relax stringent laws that function as barriers to foreign investment and hopes Modi’s government will act to open the huge Indian market for more American businesses. In a news conference, Kerry brushed aside criticism that the United States had not sent a more senior official to Paris as “quibbling a little bit.” He noted that many staffers of the American Embassy in Paris attended the march, including the ambassador. He said he had wanted to be present at the march himself but could not because of his prior commitments in India. “But that is why I am going there on the way home, to make it crystal clear how passionately we feel about the events that have taken place there,” he said. “And I don’t think the people of France have any doubts about America’s understanding of what happened, of our personal sense of loss and our deep commitment to the people of France in this moment of trauma.”',\n",
              " '— Kaydee King November 9, 2016 The lesson from tonights Dem losses: Time for Democrats to start listening to the voters. Stop running the same establishment candidates. — People For Bernie November 9, 2016 If Dems didnt want a tight race they shouldnt have worked against Bernie. — Walker Bragman November 9, 2016 New York Times columnist Paul Krugman, who was one of Hillary Clinton’s most outspoken surrogates during the contentious Democratic primary, blamed Clinton’s poor performance on Green Party candidate Jill Stein, who has so far received a negligible number of votes nationally, saying Stein was the Ralph Nader of 2016 in preventing a Clinton victory. The account threw Krugman’s analysis back in his face. Your candidate was the issue. Take responsibility. — Teachers for Bernie November 9, 2016 Ana Navarro, a Republican who recently endorsed Hillary Clinton, summed up the preposterous nature of the 2016 presidential election in this tweet: GOP nominated the only damn candidate who could lose to Hillary Clinton. Democrats nominated the only damn candidate who could lose to Trump — Ana Navarro November 9, 2016 Popular left-wing Facebook page The Other 98%, which was pro-Sanders during the primary, responded to Trump’s surge by simply posting a meme of Sanders’ face with the text “All this could’ve been avoided. Thanks for nothing, DNC!” The meme has been shared almost 15,000 times in less than an hour: Posted by The Other 98% on Tuesday, November 8, 2016 While Bernie Sanders endorsed Hillary Clinton just before the Democratic National Convention in July, many of his supporters remained adamant in their refusal to support the DNC-anointed candidate, pointing to WikiLeaks’ revelations that top officials at the DNC had been working behind the scenes to tip the scales in Clinton’s favor by coordinating with media figures to circulate anti-Sanders narratives. Rather than attribute a potential Trump presidency to the GOP nominee’s perceived popularity among voters, the closeness of this election could be credited to Hillary Clinton’s unfavorable ratings. According to RealClearPolitics, anywhere between 51 and 57 percent of voters had a negative opinion of the Democratic nominee. As of 11 PM Eastern, Florida, Michigan, Pennsylvania, and Wisconsin remain too close to call. Clinton has 197 electoral votes to Trump’s 187. Zach Cartwright is an activist and author from Richmond, Virginia. He enjoys writing about politics, government, and the media. Send him an email at [email protected]',\n",
              " 'Its primary day in New York and front-runners Hillary Clinton and Donald Trump are leading in the polls. Trump is now vowing to win enough delegates to clinch the Republican nomination and prevent a contested convention. But Sens.Ted Cruz, R-Texas, Bernie Sanders, D-Vt., and Ohio Gov. John Kasich and arent giving up just yet. A big win in New York could tip the scales for both the Republican and Democratic front-runners in this years race for the White House. Clinton and Trump have each suffered losses in recent contests, shifting the momentum to their rivals. \"We have won eight out of the last nine caucuses and primaries! Cheer!\" Sanders recently told supporters. While wins in New York for Trump and Clinton are expected, the margins of those victories are also important. Trump needs to capture more than 50 percent of the vote statewide if he wants to be positioned to win all of the states 95 GOP delegates. That would put him one step closer to avoiding a contested convention. \"Weve got to vote and you know Cruz is way, way down in the polls,\" Trump urged supporters. Meanwhile, Sanders is hoping for a close race in the Empire State. A loss by 10 points means hell need to win 80 percent of the remaining delegates to clinch the nomination. Despite a predicted loss in New York, Cruz hasnt lost momentum. Hes hoping to sweep up more delegates this weekend while hes talking about how he can win in November. \"Because if Im the nominee, we win the General Election,\" Cruz promised his supporters. \"Were beating Hillary in the key swing states, were beating Hillary with Independents, were beating Hillary with young people.\" For now, Cruz, Kasich, and Sanders have all moved on from New York to other states. Trump and Clinton are the only two staying in their home state to watch the results come in.']"
            ]
          },
          "execution_count": 113,
          "metadata": {},
          "output_type": "execute_result"
        }
      ],
      "source": [
        "temp = []\n",
        "#Splitting pd.Series to list\n",
        "data_to_list = train['text'].values.tolist()\n",
        "for i in range(len(data_to_list)):\n",
        "    temp.append(depure_data(data_to_list[i]))\n",
        "list(temp[:5])"
      ]
    },
    {
      "cell_type": "code",
      "execution_count": 114,
      "metadata": {
        "colab": {
          "base_uri": "https://localhost:8080/"
        },
        "id": "R8e4z6cdy_Xh",
        "outputId": "1d120c49-a183-421d-e32b-20da693f3ed1",
        "papermill": {
          "duration": 1.161143,
          "end_time": "2020-10-06T21:19:44.301321",
          "exception": false,
          "start_time": "2020-10-06T21:19:43.140178",
          "status": "completed"
        },
        "tags": []
      },
      "outputs": [
        {
          "name": "stdout",
          "output_type": "stream",
          "text": [
            "[['daniel', 'greenfield', 'shillman', 'journalism', 'fellow', 'at', 'the', 'freedom', 'center', 'is', 'new', 'york', 'writer', 'focusing', 'on', 'radical', 'islam', 'in', 'the', 'final', 'stretch', 'of', 'the', 'election', 'hillary', 'rodham', 'clinton', 'has', 'gone', 'to', 'war', 'with', 'the', 'fbi', 'the', 'word', 'unprecedented', 'has', 'been', 'thrown', 'around', 'so', 'often', 'this', 'election', 'that', 'it', 'ought', 'to', 'be', 'retired', 'but', 'it', 'still', 'unprecedented', 'for', 'the', 'nominee', 'of', 'major', 'political', 'party', 'to', 'go', 'war', 'with', 'the', 'fbi', 'but', 'that', 'exactly', 'what', 'hillary', 'and', 'her', 'people', 'have', 'done', 'coma', 'patients', 'just', 'waking', 'up', 'now', 'and', 'watching', 'an', 'hour', 'of', 'cnn', 'from', 'their', 'hospital', 'beds', 'would', 'assume', 'that', 'fbi', 'director', 'james', 'comey', 'is', 'hillary', 'opponent', 'in', 'this', 'election', 'the', 'fbi', 'is', 'under', 'attack', 'by', 'everyone', 'from', 'obama', 'to', 'cnn', 'hillary', 'people', 'have', 'circulated', 'letter', 'attacking', 'comey', 'there', 'are', 'currently', 'more', 'media', 'hit', 'pieces', 'lambasting', 'him', 'than', 'targeting', 'trump', 'it', 'wouldn', 'be', 'too', 'surprising', 'if', 'the', 'clintons', 'or', 'their', 'allies', 'were', 'to', 'start', 'running', 'attack', 'ads', 'against', 'the', 'fbi', 'the', 'fbi', 'leadership', 'is', 'being', 'warned', 'that', 'the', 'entire', 'left', 'wing', 'establishment', 'will', 'form', 'lynch', 'mob', 'if', 'they', 'continue', 'going', 'after', 'hillary', 'and', 'the', 'fbi', 'credibility', 'is', 'being', 'attacked', 'by', 'the', 'media', 'and', 'the', 'democrats', 'to', 'preemptively', 'head', 'off', 'the', 'results', 'of', 'the', 'investigation', 'of', 'the', 'clinton', 'foundation', 'and', 'hillary', 'clinton', 'the', 'covert', 'struggle', 'between', 'fbi', 'agents', 'and', 'obama', 'doj', 'people', 'has', 'gone', 'explosively', 'public', 'the', 'new', 'york', 'times', 'has', 'compared', 'comey', 'to', 'edgar', 'hoover', 'its', 'bizarre', 'headline', 'james', 'comey', 'role', 'recalls', 'hoover', 'fbi', 'fairly', 'or', 'not', 'practically', 'admits', 'up', 'front', 'that', 'it', 'spouting', 'nonsense', 'the', 'boston', 'globe', 'has', 'published', 'column', 'calling', 'for', 'comey', 'resignation', 'not', 'to', 'be', 'outdone', 'time', 'has', 'an', 'editorial', 'claiming', 'that', 'the', 'scandal', 'is', 'really', 'an', 'attack', 'on', 'all', 'women', 'james', 'carville', 'appeared', 'on', 'msnbc', 'to', 'remind', 'everyone', 'that', 'he', 'was', 'still', 'alive', 'and', 'insane', 'he', 'accused', 'comey', 'of', 'coordinating', 'with', 'house', 'republicans', 'and', 'the', 'kgb', 'and', 'you', 'thought', 'the', 'vast', 'right', 'wing', 'conspiracy', 'was', 'stretch', 'countless', 'media', 'stories', 'charge', 'comey', 'with', 'violating', 'procedure', 'do', 'you', 'know', 'what', 'procedural', 'violation', 'emailing', 'classified', 'information', 'stored', 'on', 'your', 'bathroom', 'server', 'senator', 'harry', 'reid', 'has', 'sent', 'comey', 'letter', 'accusing', 'him', 'of', 'violating', 'the', 'hatch', 'act', 'the', 'hatch', 'act', 'is', 'nice', 'idea', 'that', 'has', 'as', 'much', 'relevance', 'in', 'the', 'age', 'of', 'obama', 'as', 'the', 'tenth', 'amendment', 'but', 'the', 'cable', 'news', 'spectrum', 'quickly', 'filled', 'with', 'media', 'hacks', 'glancing', 'at', 'the', 'wikipedia', 'article', 'on', 'the', 'hatch', 'act', 'under', 'the', 'table', 'while', 'accusing', 'the', 'fbi', 'director', 'of', 'one', 'of', 'the', 'most', 'awkward', 'conspiracies', 'against', 'hillary', 'ever', 'if', 'james', 'comey', 'is', 'really', 'out', 'to', 'hurt', 'hillary', 'he', 'picked', 'one', 'hell', 'of', 'strange', 'way', 'to', 'do', 'it', 'not', 'too', 'long', 'ago', 'democrats', 'were', 'breathing', 'sigh', 'of', 'relief', 'when', 'he', 'gave', 'hillary', 'clinton', 'pass', 'in', 'prominent', 'public', 'statement', 'if', 'he', 'really', 'were', 'out', 'to', 'elect', 'trump', 'by', 'keeping', 'the', 'email', 'scandal', 'going', 'why', 'did', 'he', 'trash', 'the', 'investigation', 'was', 'he', 'on', 'the', 'payroll', 'of', 'house', 'republicans', 'and', 'the', 'kgb', 'back', 'then', 'and', 'playing', 'it', 'coy', 'or', 'was', 'it', 'sudden', 'development', 'where', 'vladimir', 'putin', 'and', 'paul', 'ryan', 'talked', 'him', 'into', 'taking', 'look', 'at', 'anthony', 'weiner', 'computer', 'either', 'comey', 'is', 'the', 'most', 'cunning', 'fbi', 'director', 'that', 'ever', 'lived', 'or', 'he', 'just', 'awkwardly', 'trying', 'to', 'navigate', 'political', 'mess', 'that', 'has', 'trapped', 'him', 'between', 'doj', 'leadership', 'whose', 'political', 'futures', 'are', 'tied', 'to', 'hillary', 'victory', 'and', 'his', 'own', 'bureau', 'whose', 'apolitical', 'agents', 'just', 'want', 'to', 'be', 'allowed', 'to', 'do', 'their', 'jobs', 'the', 'only', 'truly', 'mysterious', 'thing', 'is', 'why', 'hillary', 'and', 'her', 'associates', 'decided', 'to', 'go', 'to', 'war', 'with', 'respected', 'federal', 'agency', 'most', 'americans', 'like', 'the', 'fbi', 'while', 'hillary', 'clinton', 'enjoys', 'unfavorable', 'rating', 'and', 'it', 'an', 'interesting', 'question', 'hillary', 'old', 'strategy', 'was', 'to', 'lie', 'and', 'deny', 'that', 'the', 'fbi', 'even', 'had', 'criminal', 'investigation', 'underway', 'instead', 'her', 'associates', 'insisted', 'that', 'it', 'was', 'security', 'review', 'the', 'fbi', 'corrected', 'her', 'and', 'she', 'shrugged', 'it', 'off', 'but', 'the', 'old', 'breezy', 'denial', 'approach', 'has', 'given', 'way', 'to', 'savage', 'assault', 'on', 'the', 'fbi', 'pretending', 'that', 'nothing', 'was', 'wrong', 'was', 'bad', 'strategy', 'but', 'it', 'was', 'better', 'one', 'that', 'picking', 'fight', 'with', 'the', 'fbi', 'while', 'lunatic', 'clinton', 'associates', 'try', 'to', 'claim', 'that', 'the', 'fbi', 'is', 'really', 'the', 'kgb', 'there', 'are', 'two', 'possible', 'explanations', 'hillary', 'clinton', 'might', 'be', 'arrogant', 'enough', 'to', 'lash', 'out', 'at', 'the', 'fbi', 'now', 'that', 'she', 'believes', 'that', 'victory', 'is', 'near', 'the', 'same', 'kind', 'of', 'hubris', 'that', 'led', 'her', 'to', 'plan', 'her', 'victory', 'fireworks', 'display', 'could', 'lead', 'her', 'to', 'declare', 'war', 'on', 'the', 'fbi', 'for', 'irritating', 'her', 'during', 'the', 'final', 'miles', 'of', 'her', 'campaign', 'but', 'the', 'other', 'explanation', 'is', 'that', 'her', 'people', 'panicked', 'going', 'to', 'war', 'with', 'the', 'fbi', 'is', 'not', 'the', 'behavior', 'of', 'smart', 'and', 'focused', 'presidential', 'campaign', 'it', 'an', 'act', 'of', 'desperation', 'when', 'presidential', 'candidate', 'decides', 'that', 'her', 'only', 'option', 'is', 'to', 'try', 'and', 'destroy', 'the', 'credibility', 'of', 'the', 'fbi', 'that', 'not', 'hubris', 'it', 'fear', 'of', 'what', 'the', 'fbi', 'might', 'be', 'about', 'to', 'reveal', 'about', 'her', 'during', 'the', 'original', 'fbi', 'investigation', 'hillary', 'clinton', 'was', 'confident', 'that', 'she', 'could', 'ride', 'it', 'out', 'and', 'she', 'had', 'good', 'reason', 'for', 'believing', 'that', 'but', 'that', 'hillary', 'clinton', 'is', 'gone', 'in', 'her', 'place', 'is', 'paranoid', 'wreck', 'within', 'short', 'space', 'of', 'time', 'the', 'positive', 'clinton', 'campaign', 'promising', 'to', 'unite', 'the', 'country', 'has', 'been', 'replaced', 'by', 'desperate', 'and', 'flailing', 'operation', 'that', 'has', 'focused', 'all', 'its', 'energy', 'on', 'fighting', 'the', 'fbi', 'there', 'only', 'one', 'reason', 'for', 'such', 'bizarre', 'behavior', 'the', 'clinton', 'campaign', 'has', 'decided', 'that', 'an', 'fbi', 'investigation', 'of', 'the', 'latest', 'batch', 'of', 'emails', 'poses', 'threat', 'to', 'its', 'survival', 'and', 'so', 'it', 'gone', 'all', 'in', 'on', 'fighting', 'the', 'fbi', 'it', 'an', 'unprecedented', 'step', 'born', 'of', 'fear', 'it', 'hard', 'to', 'know', 'whether', 'that', 'fear', 'is', 'justified', 'but', 'the', 'existence', 'of', 'that', 'fear', 'already', 'tells', 'us', 'whole', 'lot', 'clinton', 'loyalists', 'rigged', 'the', 'old', 'investigation', 'they', 'knew', 'the', 'outcome', 'ahead', 'of', 'time', 'as', 'well', 'as', 'they', 'knew', 'the', 'debate', 'questions', 'now', 'suddenly', 'they', 'are', 'no', 'longer', 'in', 'control', 'and', 'they', 'are', 'afraid', 'you', 'can', 'smell', 'the', 'fear', 'the', 'fbi', 'has', 'wiretaps', 'from', 'the', 'investigation', 'of', 'the', 'clinton', 'foundation', 'it', 'finding', 'new', 'emails', 'all', 'the', 'time', 'and', 'clintonworld', 'panicked', 'the', 'spinmeisters', 'of', 'clintonworld', 'have', 'claimed', 'that', 'the', 'email', 'scandal', 'is', 'just', 'so', 'much', 'smoke', 'without', 'fire', 'all', 'that', 'here', 'is', 'the', 'appearance', 'of', 'impropriety', 'without', 'any', 'of', 'the', 'substance', 'but', 'this', 'isn', 'how', 'you', 'react', 'to', 'smoke', 'it', 'how', 'you', 'respond', 'to', 'fire', 'the', 'misguided', 'assault', 'on', 'the', 'fbi', 'tells', 'us', 'that', 'hillary', 'clinton', 'and', 'her', 'allies', 'are', 'afraid', 'of', 'revelation', 'bigger', 'than', 'the', 'fundamental', 'illegality', 'of', 'her', 'email', 'setup', 'the', 'email', 'setup', 'was', 'preemptive', 'cover', 'up', 'the', 'clinton', 'campaign', 'has', 'panicked', 'badly', 'out', 'of', 'the', 'belief', 'right', 'or', 'wrong', 'that', 'whatever', 'crime', 'the', 'illegal', 'setup', 'was', 'meant', 'to', 'cover', 'up', 'is', 'at', 'risk', 'of', 'being', 'exposed', 'the', 'clintons', 'have', 'weathered', 'countless', 'scandals', 'over', 'the', 'years', 'whatever', 'they', 'are', 'protecting', 'this', 'time', 'around', 'is', 'bigger', 'than', 'the', 'usual', 'corruption', 'bribery', 'sexual', 'assaults', 'and', 'abuses', 'of', 'power', 'that', 'have', 'followed', 'them', 'around', 'throughout', 'the', 'years', 'this', 'is', 'bigger', 'and', 'more', 'damaging', 'than', 'any', 'of', 'the', 'allegations', 'that', 'have', 'already', 'come', 'out', 'and', 'they', 'don', 'want', 'fbi', 'investigators', 'anywhere', 'near', 'it', 'the', 'campaign', 'against', 'comey', 'is', 'pure', 'intimidation', 'it', 'also', 'warning', 'any', 'senior', 'fbi', 'people', 'who', 'value', 'their', 'careers', 'are', 'being', 'warned', 'to', 'stay', 'away', 'the', 'democrats', 'are', 'closing', 'ranks', 'around', 'their', 'nominee', 'against', 'the', 'fbi', 'it', 'an', 'ugly', 'and', 'unprecedented', 'scene', 'it', 'may', 'also', 'be', 'their', 'last', 'stand', 'hillary', 'clinton', 'has', 'awkwardly', 'wound', 'her', 'way', 'through', 'numerous', 'scandals', 'in', 'just', 'this', 'election', 'cycle', 'but', 'she', 'never', 'shown', 'fear', 'or', 'desperation', 'before', 'now', 'that', 'has', 'changed', 'whatever', 'she', 'is', 'afraid', 'of', 'it', 'lies', 'buried', 'in', 'her', 'emails', 'with', 'huma', 'abedin', 'and', 'it', 'can', 'bring', 'her', 'down', 'like', 'nothing', 'else', 'has'], ['google', 'pinterest', 'digg', 'linkedin', 'reddit', 'stumbleupon', 'print', 'delicious', 'pocket', 'tumblr', 'there', 'are', 'two', 'fundamental', 'truths', 'in', 'this', 'world', 'paul', 'ryan', 'desperately', 'wants', 'to', 'be', 'president', 'and', 'paul', 'ryan', 'will', 'never', 'be', 'president', 'today', 'proved', 'it', 'in', 'particularly', 'staggering', 'example', 'of', 'political', 'cowardice', 'paul', 'ryan', 're', 're', 're', 'reversed', 'course', 'and', 'announced', 'that', 'he', 'was', 'back', 'on', 'the', 'trump', 'train', 'after', 'all', 'this', 'was', 'an', 'aboutface', 'from', 'where', 'he', 'was', 'few', 'weeks', 'ago', 'he', 'had', 'previously', 'declared', 'he', 'would', 'not', 'be', 'supporting', 'or', 'defending', 'trump', 'after', 'tape', 'was', 'made', 'public', 'in', 'which', 'trump', 'bragged', 'about', 'assaulting', 'women', 'suddenly', 'ryan', 'was', 'appearing', 'at', 'pro', 'trump', 'rally', 'and', 'boldly', 'declaring', 'that', 'he', 'already', 'sent', 'in', 'his', 'vote', 'to', 'make', 'him', 'president', 'of', 'the', 'united', 'states', 'it', 'was', 'surreal', 'moment', 'the', 'figurehead', 'of', 'the', 'republican', 'party', 'dosed', 'himself', 'in', 'gasoline', 'got', 'up', 'on', 'stage', 'on', 'chilly', 'afternoon', 'in', 'wisconsin', 'and', 'lit', 'match', 'says', 'he', 'voted', 'for', 'republicans', 'it', 'is', 'time', 'to', 'come', 'home', 'pic', 'twitter', 'com', 'wcvscg', 'abc', 'news', 'politics', 'november', 'the', 'democratic', 'party', 'couldn', 'have', 'asked', 'for', 'better', 'moment', 'of', 'film', 'ryan', 'chances', 'of', 'ever', 'becoming', 'president', 'went', 'down', 'to', 'zero', 'in', 'an', 'instant', 'in', 'the', 'wreckage', 'trump', 'is', 'to', 'leave', 'behind', 'in', 'his', 'wake', 'those', 'who', 'cravenly', 'backed', 'his', 'campaign', 'will', 'not', 'recover', 'if', 'ryan', 'career', 'manages', 'to', 'limp', 'all', 'the', 'way', 'to', 'then', 'the', 'dnc', 'will', 'have', 'this', 'tape', 'locked', 'and', 'loaded', 'to', 'be', 'used', 'in', 'every', 'ad', 'until', 'election', 'day', 'the', 'ringing', 'endorsement', 'of', 'the', 'man', 'he', 'clearly', 'hates', 'on', 'personal', 'level', 'speaks', 'volumes', 'about', 'his', 'own', 'spinelessness', 'ryan', 'has', 'postured', 'himself', 'as', 'principled', 'conservative', 'and', 'one', 'uncomfortable', 'with', 'trump', 'unapologetic', 'bigotry', 'and', 'sexism', 'however', 'when', 'push', 'came', 'to', 'shove', 'paul', 'ryan', 'like', 'many', 'of', 'his', 'colleagues', 'turned', 'into', 'sniveling', 'appeaser', 'after', 'all', 'his', 'lofty', 'tak', 'about', 'conviction', 'his', 'principles', 'were', 'house', 'of', 'cards', 'and', 'collapsed', 'with', 'the', 'slightest', 'breeze', 'what', 'especially', 'bizarre', 'is', 'how', 'close', 'ryan', 'came', 'to', 'making', 'it', 'through', 'unscathed', 'for', 'months', 'the', 'speaker', 'of', 'the', 'house', 'refused', 'to', 'comment', 'on', 'trump', 'at', 'all', 'his', 'strategy', 'seemed', 'to', 'be', 'to', 'keep', 'his', 'head', 'down', 'pretend', 'trump', 'didn', 'exist', 'and', 'hope', 'that', 'nobody', 'remembered', 'what', 'happened', 'in', 'now', 'just', 'days', 'away', 'from', 'the', 'election', 'he', 'screwed', 'it', 'all', 'up', 'if', 'very', 'ugly', 'election', 'has', 'done', 'any', 'good', 'it', 'by', 'exposing', 'the', 'utter', 'cowardice', 'of', 'the', 'republicans', 'who', 'once', 'feigned', 'moral', 'courage', 'reality', 'television', 'star', 'spit', 'on', 'them', 'hijacked', 'their', 'party', 'insulted', 'their', 'wives', 'and', 'got', 'every', 'last', 'one', 'of', 'them', 'to', 'kneel', 'before', 'him', 'what', 'turn', 'of', 'events', 'featured', 'image', 'via', 'twitter'], ['secretary', 'of', 'state', 'john', 'kerry', 'said', 'monday', 'that', 'he', 'will', 'stop', 'in', 'paris', 'later', 'this', 'week', 'amid', 'criticism', 'that', 'no', 'top', 'american', 'officials', 'attended', 'sunday', 'unity', 'march', 'against', 'terrorism', 'kerry', 'said', 'he', 'expects', 'to', 'arrive', 'in', 'paris', 'thursday', 'evening', 'as', 'he', 'heads', 'home', 'after', 'week', 'abroad', 'he', 'said', 'he', 'will', 'fly', 'to', 'france', 'at', 'the', 'conclusion', 'of', 'series', 'of', 'meetings', 'scheduled', 'for', 'thursday', 'in', 'sofia', 'bulgaria', 'he', 'plans', 'to', 'meet', 'the', 'next', 'day', 'with', 'foreign', 'minister', 'laurent', 'fabius', 'and', 'president', 'francois', 'hollande', 'then', 'return', 'to', 'washington', 'the', 'visit', 'by', 'kerry', 'who', 'has', 'family', 'and', 'childhood', 'ties', 'to', 'the', 'country', 'and', 'speaks', 'fluent', 'french', 'could', 'address', 'some', 'of', 'the', 'criticism', 'that', 'the', 'united', 'states', 'snubbed', 'france', 'in', 'its', 'darkest', 'hour', 'in', 'many', 'years', 'the', 'french', 'press', 'on', 'monday', 'was', 'filled', 'with', 'questions', 'about', 'why', 'neither', 'president', 'obama', 'nor', 'kerry', 'attended', 'sunday', 'march', 'as', 'about', 'leaders', 'of', 'other', 'nations', 'did', 'obama', 'was', 'said', 'to', 'have', 'stayed', 'away', 'because', 'his', 'own', 'security', 'needs', 'can', 'be', 'taxing', 'on', 'country', 'and', 'kerry', 'had', 'prior', 'commitments', 'among', 'roughly', 'leaders', 'who', 'did', 'attend', 'was', 'israeli', 'prime', 'minister', 'benjamin', 'netanyahu', 'no', 'stranger', 'to', 'intense', 'security', 'who', 'marched', 'beside', 'hollande', 'through', 'the', 'city', 'streets', 'the', 'highest', 'ranking', 'officials', 'attending', 'the', 'march', 'were', 'jane', 'hartley', 'the', 'ambassador', 'to', 'france', 'and', 'victoria', 'nuland', 'the', 'assistant', 'secretary', 'of', 'state', 'for', 'european', 'affairs', 'attorney', 'general', 'eric', 'holder', 'jr', 'was', 'in', 'paris', 'for', 'meetings', 'with', 'law', 'enforcement', 'officials', 'but', 'did', 'not', 'participate', 'in', 'the', 'march', 'kerry', 'spent', 'sunday', 'at', 'business', 'summit', 'hosted', 'by', 'india', 'prime', 'minister', 'narendra', 'modi', 'the', 'united', 'states', 'is', 'eager', 'for', 'india', 'to', 'relax', 'stringent', 'laws', 'that', 'function', 'as', 'barriers', 'to', 'foreign', 'investment', 'and', 'hopes', 'modi', 'government', 'will', 'act', 'to', 'open', 'the', 'huge', 'indian', 'market', 'for', 'more', 'american', 'businesses', 'in', 'news', 'conference', 'kerry', 'brushed', 'aside', 'criticism', 'that', 'the', 'united', 'states', 'had', 'not', 'sent', 'more', 'senior', 'official', 'to', 'paris', 'as', 'quibbling', 'little', 'bit', 'he', 'noted', 'that', 'many', 'staffers', 'of', 'the', 'american', 'embassy', 'in', 'paris', 'attended', 'the', 'march', 'including', 'the', 'ambassador', 'he', 'said', 'he', 'had', 'wanted', 'to', 'be', 'present', 'at', 'the', 'march', 'himself', 'but', 'could', 'not', 'because', 'of', 'his', 'prior', 'commitments', 'in', 'india', 'but', 'that', 'is', 'why', 'am', 'going', 'there', 'on', 'the', 'way', 'home', 'to', 'make', 'it', 'crystal', 'clear', 'how', 'passionately', 'we', 'feel', 'about', 'the', 'events', 'that', 'have', 'taken', 'place', 'there', 'he', 'said', 'and', 'don', 'think', 'the', 'people', 'of', 'france', 'have', 'any', 'doubts', 'about', 'america', 'understanding', 'of', 'what', 'happened', 'of', 'our', 'personal', 'sense', 'of', 'loss', 'and', 'our', 'deep', 'commitment', 'to', 'the', 'people', 'of', 'france', 'in', 'this', 'moment', 'of', 'trauma'], ['kaydee', 'king', 'november', 'the', 'lesson', 'from', 'tonights', 'dem', 'losses', 'time', 'for', 'democrats', 'to', 'start', 'listening', 'to', 'the', 'voters', 'stop', 'running', 'the', 'same', 'establishment', 'candidates', 'people', 'for', 'bernie', 'november', 'if', 'dems', 'didnt', 'want', 'tight', 'race', 'they', 'shouldnt', 'have', 'worked', 'against', 'bernie', 'walker', 'bragman', 'november', 'new', 'york', 'times', 'columnist', 'paul', 'krugman', 'who', 'was', 'one', 'of', 'hillary', 'clinton', 'most', 'outspoken', 'surrogates', 'during', 'the', 'contentious', 'democratic', 'primary', 'blamed', 'clinton', 'poor', 'performance', 'on', 'green', 'party', 'candidate', 'jill', 'stein', 'who', 'has', 'so', 'far', 'received', 'negligible', 'number', 'of', 'votes', 'nationally', 'saying', 'stein', 'was', 'the', 'ralph', 'nader', 'of', 'in', 'preventing', 'clinton', 'victory', 'the', 'account', 'threw', 'krugman', 'analysis', 'back', 'in', 'his', 'face', 'your', 'candidate', 'was', 'the', 'issue', 'take', 'responsibility', 'teachers', 'for', 'bernie', 'november', 'ana', 'navarro', 'republican', 'who', 'recently', 'endorsed', 'hillary', 'clinton', 'summed', 'up', 'the', 'preposterous', 'nature', 'of', 'the', 'presidential', 'election', 'in', 'this', 'tweet', 'gop', 'nominated', 'the', 'only', 'damn', 'candidate', 'who', 'could', 'lose', 'to', 'hillary', 'clinton', 'democrats', 'nominated', 'the', 'only', 'damn', 'candidate', 'who', 'could', 'lose', 'to', 'trump', 'ana', 'navarro', 'november', 'popular', 'left', 'wing', 'facebook', 'page', 'the', 'other', 'which', 'was', 'pro', 'sanders', 'during', 'the', 'primary', 'responded', 'to', 'trump', 'surge', 'by', 'simply', 'posting', 'meme', 'of', 'sanders', 'face', 'with', 'the', 'text', 'all', 'this', 'could', 've', 'been', 'avoided', 'thanks', 'for', 'nothing', 'dnc', 'the', 'meme', 'has', 'been', 'shared', 'almost', 'times', 'in', 'less', 'than', 'an', 'hour', 'posted', 'by', 'the', 'other', 'on', 'tuesday', 'november', 'while', 'bernie', 'sanders', 'endorsed', 'hillary', 'clinton', 'just', 'before', 'the', 'democratic', 'national', 'convention', 'in', 'july', 'many', 'of', 'his', 'supporters', 'remained', 'adamant', 'in', 'their', 'refusal', 'to', 'support', 'the', 'dnc', 'anointed', 'candidate', 'pointing', 'to', 'wikileaks', 'revelations', 'that', 'top', 'officials', 'at', 'the', 'dnc', 'had', 'been', 'working', 'behind', 'the', 'scenes', 'to', 'tip', 'the', 'scales', 'in', 'clinton', 'favor', 'by', 'coordinating', 'with', 'media', 'figures', 'to', 'circulate', 'anti', 'sanders', 'narratives', 'rather', 'than', 'attribute', 'potential', 'trump', 'presidency', 'to', 'the', 'gop', 'nominee', 'perceived', 'popularity', 'among', 'voters', 'the', 'closeness', 'of', 'this', 'election', 'could', 'be', 'credited', 'to', 'hillary', 'clinton', 'unfavorable', 'ratings', 'according', 'to', 'anywhere', 'between', 'and', 'percent', 'of', 'voters', 'had', 'negative', 'opinion', 'of', 'the', 'democratic', 'nominee', 'as', 'of', 'pm', 'eastern', 'florida', 'michigan', 'pennsylvania', 'and', 'wisconsin', 'remain', 'too', 'close', 'to', 'call', 'clinton', 'has', 'electoral', 'votes', 'to', 'trump', 'zach', 'cartwright', 'is', 'an', 'activist', 'and', 'author', 'from', 'richmond', 'virginia', 'he', 'enjoys', 'writing', 'about', 'politics', 'government', 'and', 'the', 'media', 'send', 'him', 'an', 'email', 'at', 'email', 'protected'], ['its', 'primary', 'day', 'in', 'new', 'york', 'and', 'front', 'runners', 'hillary', 'clinton', 'and', 'donald', 'trump', 'are', 'leading', 'in', 'the', 'polls', 'trump', 'is', 'now', 'vowing', 'to', 'win', 'enough', 'delegates', 'to', 'clinch', 'the', 'republican', 'nomination', 'and', 'prevent', 'contested', 'convention', 'but', 'sens', 'ted', 'cruz', 'texas', 'bernie', 'sanders', 'vt', 'and', 'ohio', 'gov', 'john', 'kasich', 'and', 'arent', 'giving', 'up', 'just', 'yet', 'big', 'win', 'in', 'new', 'york', 'could', 'tip', 'the', 'scales', 'for', 'both', 'the', 'republican', 'and', 'democratic', 'front', 'runners', 'in', 'this', 'years', 'race', 'for', 'the', 'white', 'house', 'clinton', 'and', 'trump', 'have', 'each', 'suffered', 'losses', 'in', 'recent', 'contests', 'shifting', 'the', 'momentum', 'to', 'their', 'rivals', 'we', 'have', 'won', 'eight', 'out', 'of', 'the', 'last', 'nine', 'caucuses', 'and', 'primaries', 'cheer', 'sanders', 'recently', 'told', 'supporters', 'while', 'wins', 'in', 'new', 'york', 'for', 'trump', 'and', 'clinton', 'are', 'expected', 'the', 'margins', 'of', 'those', 'victories', 'are', 'also', 'important', 'trump', 'needs', 'to', 'capture', 'more', 'than', 'percent', 'of', 'the', 'vote', 'statewide', 'if', 'he', 'wants', 'to', 'be', 'positioned', 'to', 'win', 'all', 'of', 'the', 'states', 'gop', 'delegates', 'that', 'would', 'put', 'him', 'one', 'step', 'closer', 'to', 'avoiding', 'contested', 'convention', 'weve', 'got', 'to', 'vote', 'and', 'you', 'know', 'cruz', 'is', 'way', 'way', 'down', 'in', 'the', 'polls', 'trump', 'urged', 'supporters', 'meanwhile', 'sanders', 'is', 'hoping', 'for', 'close', 'race', 'in', 'the', 'empire', 'state', 'loss', 'by', 'points', 'means', 'hell', 'need', 'to', 'win', 'percent', 'of', 'the', 'remaining', 'delegates', 'to', 'clinch', 'the', 'nomination', 'despite', 'predicted', 'loss', 'in', 'new', 'york', 'cruz', 'hasnt', 'lost', 'momentum', 'hes', 'hoping', 'to', 'sweep', 'up', 'more', 'delegates', 'this', 'weekend', 'while', 'hes', 'talking', 'about', 'how', 'he', 'can', 'win', 'in', 'november', 'because', 'if', 'im', 'the', 'nominee', 'we', 'win', 'the', 'general', 'election', 'cruz', 'promised', 'his', 'supporters', 'were', 'beating', 'hillary', 'in', 'the', 'key', 'swing', 'states', 'were', 'beating', 'hillary', 'with', 'independents', 'were', 'beating', 'hillary', 'with', 'young', 'people', 'for', 'now', 'cruz', 'kasich', 'and', 'sanders', 'have', 'all', 'moved', 'on', 'from', 'new', 'york', 'to', 'other', 'states', 'trump', 'and', 'clinton', 'are', 'the', 'only', 'two', 'staying', 'in', 'their', 'home', 'state', 'to', 'watch', 'the', 'results', 'come', 'in'], ['not', 'an', 'immigrant', 'but', 'my', 'grandparents', 'are', 'more', 'than', 'years', 'ago', 'they', 'arrived', 'in', 'new', 'york', 'city', 'from', 'iran', 'grew', 'up', 'mainly', 'in', 'central', 'new', 'jersey', 'an', 'american', 'kid', 'playing', 'little', 'league', 'for', 'the', 'raritan', 'red', 'sox', 'and', 'soccer', 'for', 'the', 'raritan', 'rovers', 'in', 'travelled', 'with', 'my', 'family', 'to', 'our', 'ancestral', 'land', 'was', 'only', 'eight', 'but', 'old', 'enough', 'to', 'understand', 'that', 'the', 'iranians', 'had', 'lost', 'their', 'liberty', 'and', 'freedom', 'saw', 'the', 'abject', 'despair', 'of', 'people', 'who', 'in', 'desperate', 'attempt', 'to', 'bring', 'about', 'change', 'had', 'ushered', 'in', 'nationalist', 'tyrants', 'led', 'by', 'ayatollah', 'khomeini', 'what', 'witnessed', 'during', 'that', 'year', 'in', 'iran', 'changed', 'the', 'course', 'of', 'my', 'life', 'in', 'at', 'age', 'wanting', 'to', 'help', 'preserve', 'the', 'blessings', 'of', 'liberty', 'and', 'freedom', 'we', 'enjoy', 'in', 'america', 'enlisted', 'in', 'the', 'navy', 'now', 'with', 'the', 'rise', 'of', 'donald', 'trump', 'and', 'his', 'nationalist', 'alt', 'right', 'movement', 've', 'come', 'to', 'feel', 'that', 'the', 'values', 'sought', 'to', 'protect', 'are', 'in', 'jeopardy', 'in', 'iran', 'theocratic', 'fundmentalists', 'sowed', 'division', 'and', 'hatred', 'of', 'outsiders', 'of', 'westerners', 'christians', 'and', 'other', 'religious', 'minorities', 'here', 'in', 'america', 'the', 'right', 'wing', 'seems', 'to', 'have', 'stolen', 'passages', 'directly', 'from', 'their', 'playbook', 'as', 'it', 'spreads', 'hatred', 'of', 'immigrants', 'particularly', 'muslim', 'ones', 'this', 'form', 'of', 'nationalistic', 'bigotry', 'islamophobia', 'threatens', 'the', 'heart', 'of', 'our', 'nation', 'when', 'chose', 'to', 'serve', 'in', 'the', 'military', 'did', 'so', 'to', 'protect', 'what', 'viewed', 'as', 'our', 'sacred', 'foundational', 'values', 'of', 'liberty', 'equality', 'and', 'democracy', 'now', 'years', 'later', 've', 'joined', 'forces', 'with', 'fellow', 'veterans', 'to', 'again', 'fight', 'for', 'those', 'sacred', 'values', 'this', 'time', 'right', 'here', 'at', 'home', 'death', 'to', 'america', 'as', 'child', 'sat', 'in', 'my', 'class', 'at', 'the', 'international', 'school', 'one', 'sunny', 'morning', 'and', 'heard', 'in', 'the', 'distance', 'the', 'faint', 'sounds', 'of', 'gunfire', 'and', 'rising', 'chants', 'of', 'death', 'to', 'america', 'that', 'day', 'would', 'define', 'the', 'rest', 'of', 'my', 'life', 'it', 'was', 'tehran', 'the', 'capital', 'of', 'iran', 'in', 'was', 'attending', 'unique', 'school', 'for', 'bilingual', 'students', 'who', 'had', 'been', 'born', 'in', 'western', 'nations', 'it', 'had', 'become', 'the', 'last', 'refuge', 'in', 'that', 'city', 'with', 'any', 'tolerance', 'for', 'western', 'teaching', 'but', 'that', 'also', 'made', 'it', 'target', 'for', 'military', 'fundamentalists', 'as', 'the', 'gunfire', 'drew', 'closer', 'heard', 'boots', 'pounding', 'the', 'marble', 'tiles', 'outside', 'marching', 'into', 'our', 'building', 'and', 'thundering', 'down', 'the', 'corridor', 'toward', 'my', 'classroom', 'as', 'heard', 'voices', 'chanting', 'death', 'to', 'america', 'remember', 'wondering', 'if', 'would', 'survive', 'to', 'see', 'my', 'parents', 'again', 'in', 'flash', 'of', 'green', 'and', 'black', 'uniforms', 'those', 'soldiers', 'rushed', 'into', 'our', 'classroom', 'grabbed', 'us', 'by', 'our', 'shirt', 'collars', 'and', 'yelled', 'at', 'us', 'to', 'get', 'outside', 'we', 'were', 'then', 'packed', 'into', 'the', 'school', 'courtyard', 'where', 'soldier', 'pointed', 'his', 'rifle', 'at', 'our', 'group', 'and', 'commanded', 'us', 'to', 'look', 'up', 'almost', 'in', 'unison', 'my', 'classmates', 'and', 'raised', 'our', 'eyes', 'and', 'saw', 'the', 'flags', 'of', 'our', 'many', 'nations', 'being', 'torn', 'down', 'and', 'dangled', 'from', 'the', 'balcony', 'then', 'set', 'ablaze', 'and', 'tossed', 'still', 'burning', 'into', 'the', 'courtyard', 'as', 'those', 'flags', 'floated', 'to', 'the', 'ground', 'in', 'flames', 'the', 'soldiers', 'fired', 'their', 'guns', 'in', 'the', 'air', 'shouting', 'they', 'ordered', 'us', 'if', 'we', 'ever', 'wanted', 'to', 'see', 'our', 'families', 'again', 'to', 'swear', 'allegiance', 'to', 'the', 'grand', 'ayatollah', 'khomeini', 'and', 'trample', 'on', 'the', 'remains', 'of', 'the', 'burning', 'symbols', 'of', 'our', 'home', 'countries', 'scanned', 'the', 'smoke', 'that', 'was', 'filling', 'the', 'courtyard', 'for', 'my', 'friends', 'and', 'classmates', 'and', 'horrified', 'watched', 'them', 'capitulate', 'and', 'begin', 'to', 'chant', 'death', 'to', 'america', 'as', 'they', 'stomped', 'on', 'our', 'sacred', 'symbols', 'was', 'so', 'angry', 'that', 'young', 'as', 'was', 'began', 'to', 'plead', 'with', 'them', 'to', 'come', 'to', 'their', 'senses', 'no', 'one', 'paid', 'the', 'slightest', 'attention', 'to', 'an', 'eight', 'year', 'old', 'and', 'yet', 'for', 'the', 'first', 'time', 'in', 'my', 'life', 'felt', 'something', 'like', 'righteous', 'indignation', 'suspect', 'that', 'born', 'and', 'raised', 'in', 'america', 'was', 'already', 'imbued', 'with', 'such', 'sense', 'of', 'privilege', 'that', 'just', 'couldn', 'fathom', 'the', 'immense', 'danger', 'was', 'in', 'certainly', 'was', 'acting', 'in', 'ways', 'no', 'native', 'iranian', 'would', 'have', 'found', 'reasonable', 'across', 'the', 'smoke', 'filled', 'courtyard', 'saw', 'soldier', 'coming', 'at', 'me', 'and', 'knew', 'he', 'meant', 'to', 'force', 'me', 'to', 'submit', 'spotted', 'an', 'american', 'flag', 'still', 'burning', 'dropped', 'to', 'my', 'knees', 'and', 'grabbed', 'the', 'charred', 'pieces', 'from', 'underneath', 'classmate', 'feet', 'as', 'the', 'soldier', 'closed', 'in', 'on', 'me', 'ducked', 'and', 'ran', 'still', 'clutching', 'my', 'charred', 'pieces', 'of', 'flag', 'into', 'crowd', 'of', 'civilians', 'who', 'had', 'gathered', 'to', 'witness', 'the', 'commotion', 'the', 'events', 'of', 'that', 'day', 'would', 'come', 'to', 'define', 'all', 'that', 'have', 'ever', 'stood', 'for', 'or', 'against', 'camel', 'jockey', 'ayatollah', 'and', 'gandhi', 'my', 'parents', 'and', 'soon', 'returned', 'to', 'the', 'united', 'states', 'and', 'entered', 'third', 'grade', 'more', 'than', 'anything', 'just', 'wanted', 'to', 'be', 'normal', 'to', 'fit', 'in', 'and', 'be', 'accepted', 'by', 'my', 'peers', 'unfortunately', 'my', 'first', 'name', 'nader', 'which', 'changed', 'to', 'nate', 'upon', 'joining', 'the', 'navy', 'and', 'my', 'swarthy', 'middle', 'eastern', 'appearance', 'were', 'little', 'help', 'on', 'that', 'score', 'eliciting', 'regular', 'jibes', 'from', 'my', 'classmates', 'even', 'at', 'that', 'young', 'age', 'they', 'had', 'already', 'mastered', 'veritable', 'thesaurus', 'of', 'ethnic', 'defamation', 'including', 'camel', 'jockey', 'sand', 'nigger', 'raghead', 'ayatollah', 'and', 'ironically', 'gandhi', 'which', 'now', 'take', 'as', 'compliment', 'my', 'classmates', 'regularly', 'sought', 'to', 'other', 'ize', 'me', 'in', 'those', 'years', 'as', 'if', 'were', 'lesser', 'american', 'because', 'of', 'my', 'faith', 'and', 'ethnicity', 'yet', 'remember', 'that', 'tingling', 'in', 'my', 'chest', 'when', 'first', 'donned', 'my', 'cub', 'scout', 'uniform', 'all', 'because', 'of', 'the', 'american', 'flag', 'patch', 'on', 'its', 'shoulder', 'something', 'felt', 'so', 'good', 'about', 'wearing', 'it', 'feeling', 'still', 'had', 'when', 'joined', 'the', 'military', 'it', 'seems', 'that', 'the', 'flag', 'tried', 'to', 'rescue', 'in', 'tehran', 'was', 'stapled', 'to', 'my', 'heart', 'or', 'that', 'how', 'felt', 'anyway', 'as', 'wore', 'my', 'country', 'uniform', 'when', 'took', 'my', 'oath', 'of', 'enlistment', 'in', 'the', 'navy', 'gave', 'my', 'mom', 'camera', 'and', 'asked', 'her', 'to', 'take', 'some', 'photos', 'but', 'she', 'was', 'so', 'overwhelmed', 'with', 'pride', 'and', 'joy', 'that', 'she', 'cried', 'throughout', 'the', 'ceremony', 'and', 'managed', 'to', 'snap', 'only', 'few', 'images', 'of', 'the', 'carpet', 'she', 'cried', 'even', 'harder', 'when', 'was', 'selected', 'to', 'serve', 'as', 'the', 'first', 'muslim', 'american', 'member', 'of', 'the', 'navy', 'presidential', 'ceremonial', 'honor', 'guard', 'on', 'that', 'day', 'was', 'proud', 'too', 'and', 'all', 'the', 'taunts', 'of', 'those', 'bullies', 'of', 'my', 'childhood', 'seemed', 'finally', 'silenced', 'being', 'tormented', 'because', 'of', 'my', 'ethnicity', 'and', 'religion', 'in', 'those', 'early', 'years', 'had', 'another', 'effect', 'on', 'me', 'it', 'caused', 'me', 'to', 'become', 'unusually', 'sensitive', 'to', 'the', 'nature', 'of', 'other', 'people', 'somehow', 'grasped', 'that', 'if', 'it', 'weren', 'for', 'fear', 'of', 'the', 'unknown', 'there', 'was', 'an', 'inherent', 'goodness', 'and', 'frail', 'humanity', 'lurking', 'in', 'many', 'of', 'the', 'kids', 'who', 'bullied', 'and', 'harassed', 'me', 'often', 'discovered', 'those', 'same', 'bullies', 'could', 'be', 'tremendously', 'kind', 'to', 'their', 'families', 'friends', 'or', 'even', 'strangers', 'realized', 'then', 'that', 'if', 'despite', 'everything', 'could', 'lay', 'myself', 'bare', 'and', 'trust', 'them', 'enough', 'to', 'reach', 'out', 'in', 'kindness', 'might', 'in', 'turn', 'gain', 'their', 'trust', 'and', 'they', 'might', 'then', 'see', 'me', 'too', 'and', 'stop', 'operating', 'from', 'such', 'place', 'of', 'fear', 'and', 'hate', 'through', 'patience', 'humor', 'and', 'understanding', 'was', 'able', 'to', 'offer', 'myself', 'as', 'the', 'embodiment', 'of', 'my', 'people', 'and', 'somehow', 'defang', 'the', 'otherness', 'of', 'so', 'much', 'that', 'americans', 'found', 'scary', 'to', 'this', 'day', 'have', 'friends', 'from', 'elementary', 'school', 'middle', 'school', 'high', 'school', 'and', 'the', 'military', 'who', 'tell', 'me', 'that', 'am', 'the', 'only', 'muslim', 'they', 'have', 'ever', 'known', 'and', 'that', 'had', 'they', 'not', 'met', 'me', 'their', 'perspective', 'on', 'islam', 'would', 'have', 'been', 'wholly', 'subject', 'to', 'the', 'prevailing', 'fear', 'based', 'narrative', 'that', 'has', 'poisoned', 'this', 'country', 'since', 'september', 'in', 'became', 'special', 'assistant', 'to', 'the', 'master', 'chief', 'petty', 'officer', 'of', 'the', 'navy', 'and', 'then', 'in', 'was', 'recruited', 'to', 'serve', 'at', 'the', 'defense', 'intelligence', 'agency', 'in', 'august', 'transferred', 'to', 'the', 'naval', 'reserve', 'in', 'the', 'wake', 'of', 'began', 'to', 'observe', 'how', 'so', 'many', 'of', 'my', 'fellow', 'americans', 'were', 'adopting', 'fundamentalist', 'us', 'vs', 'them', 'attitude', 'towards', 'muslims', 'and', 'islam', 'suddenly', 'found', 'myself', 'in', 'an', 'america', 'where', 'the', 'scattered', 'insults', 'had', 'endured', 'as', 'child', 'took', 'on', 'an', 'overarching', 'and', 'sinister', 'meaning', 'and', 'form', 'where', 'they', 'became', 'something', 'like', 'an', 'ideology', 'and', 'way', 'of', 'life', 'by', 'the', 'time', 'completed', 'my', 'military', 'service', 'in', 'had', 'begun', 'to', 'understand', 'that', 'our', 'policies', 'in', 'the', 'middle', 'east', 'similarly', 'disturbed', 'seemed', 'in', 'pursuit', 'of', 'little', 'more', 'than', 'perpetual', 'warfare', 'that', 'in', 'turn', 'was', 'made', 'possible', 'by', 'the', 'creation', 'of', 'new', 'enemy', 'islam', 'or', 'rather', 'of', 'portrait', 'painted', 'by', 'the', 'powers', 'that', 'be', 'of', 'islam', 'as', 'terror', 'religion', 'as', 'hooded', 'villain', 'lurking', 'out', 'there', 'somewhere', 'in', 'the', 'desert', 'waiting', 'to', 'destroy', 'us', 'knew', 'that', 'attempting', 'to', 'dispel', 'through', 'the', 'patient', 'approach', 'of', 'my', 'childhood', 'the', 'kind', 'of', 'islamophobia', 'that', 'now', 'had', 'the', 'country', 'by', 'the', 'throat', 'was', 'not', 'going', 'to', 'be', 'enough', 'post', 'attacks', 'on', 'muslims', 'in', 'the', 'and', 'elsewhere', 'were', 'not', 'merely', 'childish', 'taunts', 'for', 'the', 'first', 'time', 'in', 'my', 'life', 'in', 'country', 'gripped', 'by', 'fear', 'believed', 'was', 'witnessing', 'shift', 'en', 'masse', 'toward', 'an', 'american', 'fundamentalism', 'and', 'ultra', 'nationalism', 'that', 'reflected', 'wanton', 'lack', 'of', 'reason', 'not', 'to', 'mention', 'fact', 'as', 'boy', 'in', 'iran', 'had', 'witnessed', 'the', 'dark', 'destination', 'down', 'which', 'such', 'path', 'could', 'take', 'country', 'now', 'it', 'seemed', 'to', 'me', 'in', 'america', 'quest', 'to', 'escape', 'the', 'very', 'demons', 'we', 'had', 'sown', 'by', 'our', 'own', 'misadventures', 'in', 'the', 'middle', 'east', 'and', 'forsaking', 'the', 'hallmarks', 'of', 'our', 'founding', 'we', 'risked', 'becoming', 'everything', 'we', 'sought', 'to', 'defeat', 'the', 'boy', 'in', 'the', 'schoolyard', 'grown', 'up', 'on', 'february', 'three', 'young', 'american', 'students', 'yusor', 'abu', 'salha', 'razan', 'abu', 'salha', 'and', 'deah', 'shaddy', 'barakat', 'were', 'executed', 'at', 'an', 'apartment', 'complex', 'in', 'chapel', 'hill', 'north', 'carolina', 'the', 'killer', 'was', 'gun', 'crazy', 'white', 'man', 'filled', 'with', 'hate', 'and', 'described', 'by', 'his', 'own', 'daughter', 'as', 'monster', 'those', 'assassinations', 'struck', 'special', 'chord', 'of', 'sorrow', 'and', 'loss', 'in', 'me', 'my', 'mom', 'and', 'cried', 'and', 'prayed', 'together', 'for', 'those', 'students', 'and', 'their', 'families', 'the', 'incident', 'in', 'chapel', 'hill', 'also', 'awoke', 'in', 'me', 'some', 'version', 'of', 'the', 'righteous', 'indignation', 'had', 'felt', 'so', 'many', 'years', 'earlier', 'in', 'that', 'smoke', 'filled', 'courtyard', 'in', 'iran', 'would', 'be', 'damned', 'if', 'stood', 'by', 'while', 'kids', 'in', 'my', 'country', 'were', 'murdered', 'simply', 'because', 'of', 'their', 'faith', 'it', 'violated', 'every', 'word', 'of', 'the', 'oath', 'had', 'taken', 'when', 'joined', 'the', 'military', 'and', 'desecrated', 'every', 'value', 'held', 'in', 'my', 'heart', 'as', 'sacred', 'tenet', 'of', 'our', 'nation', 'white', 'nationalists', 'and', 'bigots', 'had', 'by', 'then', 'thrown', 'down', 'the', 'gauntlet', 'for', 'so', 'much', 'of', 'this', 'using', 'islamophobia', 'to', 'trigger', 'targeted', 'assassinations', 'in', 'the', 'united', 'states', 'this', 'was', 'terrorism', 'pure', 'and', 'simple', 'inspired', 'by', 'hate', 'speakers', 'here', 'at', 'home', 'at', 'that', 'moment', 'reached', 'out', 'to', 'fellow', 'veterans', 'who', 'thought', 'might', 'be', 'willing', 'to', 'help', 'and', 'it', 'true', 'what', 'they', 'say', 'about', 'soul', 'mates', 'being', 'irrevocably', 'drawn', 'to', 'each', 'other', 'when', 'contacted', 'veterans', 'for', 'peace', 'an', 'organization', 'dedicated', 'to', 'exposing', 'the', 'costs', 'of', 'war', 'and', 'militarism', 'found', 'the', 'leadership', 'well', 'aware', 'of', 'the', 'inherent', 'dangers', 'of', 'islamophobia', 'and', 'of', 'the', 'need', 'to', 'confront', 'this', 'new', 'enemy', 'so', 'executive', 'director', 'michael', 'mcphearson', 'formed', 'committee', 'of', 'vets', 'from', 'around', 'the', 'country', 'to', 'decide', 'how', 'those', 'of', 'us', 'who', 'had', 'donned', 'uniforms', 'to', 'defend', 'this', 'land', 'could', 'best', 'battle', 'the', 'phenomenon', 'and', 'of', 'course', 'joined', 'it', 'from', 'that', 'committee', 'emerged', 'veterans', 'challenge', 'islamophobia', 'vci', 'it', 'now', 'has', 'organizers', 'in', 'arizona', 'georgia', 'new', 'jersey', 'and', 'texas', 'and', 'that', 'just', 'beginning', 'totally', 'nonpartisan', 'vci', 'focuses', 'on', 'politicians', 'of', 'any', 'party', 'who', 'engage', 'in', 'hate', 'speech', 'we', 've', 'met', 'with', 'leaders', 'of', 'american', 'muslim', 'communities', 'sat', 'with', 'them', 'through', 'ramadan', 'and', 'attended', 'their', 'iftar', 'dinners', 'to', 'break', 'our', 'fasts', 'together', 'in', 'the', 'wake', 'of', 'the', 'orlando', 'shooting', 'we', 'at', 'vci', 'also', 'mobilized', 'to', 'fight', 'back', 'against', 'attempts', 'to', 'pit', 'the', 'muslim', 'community', 'against', 'the', 'lgbtq', 'community', 'our', 'group', 'was', 'born', 'of', 'the', 'belief', 'that', 'as', 'american', 'military', 'veterans', 'we', 'had', 'responsibility', 'to', 'call', 'out', 'bigotry', 'hatred', 'and', 'the', 'perpetuation', 'of', 'endless', 'warfare', 'we', 'want', 'the', 'american', 'muslim', 'community', 'to', 'know', 'that', 'they', 'have', 'allies', 'and', 'that', 'those', 'allies', 'are', 'indeed', 'veterans', 'as', 'well', 'we', 'stand', 'with', 'them', 'and', 'for', 'them', 'and', 'for', 'those', 'of', 'us', 'who', 'are', 'muslim', 'among', 'them', 'nationalism', 'and', 'xenophobia', 'have', 'no', 'place', 'in', 'american', 'life', 'and', 'for', 'my', 'part', 'don', 'think', 'donald', 'trump', 'or', 'anyone', 'like', 'him', 'should', 'be', 'able', 'to', 'peddle', 'islamophobia', 'in', 'an', 'attempt', 'to', 'undermine', 'our', 'national', 'unity', 'without', 'islamophobia', 'there', 'no', 'longer', 'exists', 'clash', 'of', 'civilizations', 'without', 'islamophobia', 'whatever', 'the', 'problems', 'in', 'the', 'world', 'may', 'be', 'there', 'is', 'no', 'longer', 'an', 'us', 'vs', 'them', 'and', 'it', 'possible', 'to', 'begin', 'reimagining', 'world', 'of', 'something', 'other', 'than', 'perpetual', 'war', 'as', 'of', 'now', 'this', 'remains', 'the', 'struggle', 'of', 'my', 'life', 'for', 'despite', 'my', 'intense', 'love', 'for', 'america', 'some', 'of', 'my', 'countrymen', 'increasingly', 'see', 'american', 'muslims', 'as', 'the', 'other', 'the', 'enemy', 'my', 'mom', 'taught', 'me', 'as', 'boy', 'that', 'the', 'only', 'thing', 'that', 'mattered', 'was', 'what', 'was', 'in', 'my', 'heart', 'now', 'with', 'her', 'in', 'mind', 'and', 'as', 'representative', 'of', 'vci', 'when', 'meet', 'fellow', 'americans', 'always', 'remember', 'my', 'childhood', 'experiences', 'with', 'my', 'bullying', 'peers', 'and', 'still', 'lay', 'myself', 'bare', 'as', 'did', 'then', 'give', 'trust', 'to', 'gain', 'trust', 'but', 'always', 'knowing', 'that', 'these', 'days', 'this', 'isn', 'just', 'matter', 'of', 'niceties', 'it', 'question', 'of', 'life', 'or', 'death', 'it', 'part', 'of', 'battle', 'for', 'the', 'soul', 'of', 'our', 'nation', 'in', 'many', 'ways', 'still', 'consider', 'myself', 'that', 'boy', 'in', 'the', 'school', 'courtyard', 'in', 'tehran', 'trying', 'to', 'rescue', 'charred', 'pieces', 'of', 'that', 'flag', 'from', 'those', 'trampling', 'feet', 'it', 'just', 'that', 'now', 'doing', 'it', 'in', 'my', 'own', 'country', 'nate', 'terani', 'is', 'veteran', 'of', 'the', 'navy', 'and', 'served', 'in', 'military', 'intelligence', 'with', 'the', 'defense', 'intelligence', 'agency', 'he', 'is', 'currently', 'member', 'of', 'the', 'leadership', 'team', 'at', 'common', 'defense', 'pac', 'and', 'regional', 'campaign', 'organizer', 'with', 'veterans', 'challenge', 'islamophobia', 'he', 'is', 'featured', 'columnist', 'with', 'the', 'arizona', 'muslim', 'voice', 'newspaper', 'reprinted', 'from', 'tomdispatch', 'by', 'permission', 'of', 'author', 'or', 'representative'], ['share', 'this', 'baylee', 'luciani', 'left', 'screenshot', 'of', 'what', 'baylee', 'caught', 'on', 'facetime', 'right', 'the', 'closest', 'baylee', 'luciani', 'could', 'get', 'to', 'her', 'boyfriend', 'who', 'attending', 'college', 'in', 'austin', 'was', 'through', 'video', 'online', 'chat', 'the', 'couple', 'had', 'regular', 'dates', 'this', 'way', 'to', 'bridge', 'the', 'mile', 'distance', 'between', 'them', 'however', 'the', 'endearing', 'arrangement', 'quickly', 'came', 'to', 'an', 'end', 'after', 'his', 'facetime', 'was', 'left', 'on', 'and', 'caught', 'something', 'that', 'left', 'his', 'girlfriend', 'horrified', 'baylee', 'had', 'been', 'discussing', 'regular', 'things', 'with', 'her', 'boyfriend', 'yale', 'gerstein', 'who', 'was', 'on', 'the', 'other', 'side', 'of', 'the', 'screen', 'on', 'an', 'otherwise', 'average', 'evening', 'this', 'video', 'chat', 'was', 'not', 'unlike', 'all', 'the', 'others', 'she', 'had', 'with', 'yale', 'from', 'his', 'apartment', 'near', 'austin', 'community', 'college', 'until', 'the', 'year', 'old', 'girlfriend', 'heard', 'some', 'scratching', 'sounds', 'after', 'facetime', 'had', 'been', 'left', 'on', 'according', 'to', 'kron', 'baylee', 'was', 'mid', 'conversation', 'with', 'yale', 'when', 'scratches', 'at', 'the', 'door', 'caught', 'both', 'of', 'their', 'attention', 'and', 'he', 'got', 'up', 'from', 'his', 'bed', 'where', 'the', 'computer', 'was', 'to', 'see', 'who', 'was', 'at', 'his', 'door', 'he', 'barely', 'turned', 'the', 'handle', 'to', 'open', 'in', 'when', 'masked', 'men', 'entered', 'the', 'room', 'and', 'beat', 'yale', 'face', 'in', 'and', 'slammed', 'him', 'down', 'on', 'his', 'bed', 'while', 'shoving', 'pistol', 'in', 'his', 'cheek', 'the', 'intruders', 'didn', 'seem', 'to', 'know', 'or', 'care', 'that', 'facetime', 'was', 'still', 'on', 'and', 'baylee', 'face', 'seen', 'in', 'the', 'corner', 'was', 'watching', 'everything', 'terrified', 'that', 'she', 'was', 'about', 'to', 'see', 'her', 'boyfriend', 'murdered', 'in', 'front', 'of', 'her', 'as', 'she', 'watched', 'him', 'fight', 'for', 'his', 'life', 'admitting', 'that', 'she', 'first', 'thought', 'it', 'was', 'joke', 'seconds', 'later', 'she', 'came', 'to', 'the', 'horrid', 'realization', 'that', 'he', 'was', 'being', 'robbed', 'and', 'called', 'her', 'dad', 'who', 'was', 'at', 'home', 'with', 'her', 'in', 'dallas', 'into', 'the', 'room', 'was', 'scared', 'because', 'they', 'were', 'saying', 'going', 'to', 'blow', 'your', 'head', 'off', 'going', 'to', 'kill', 'you', 'baylee', 'explained', 'along', 'with', 'the', 'chilling', 'feeling', 'she', 'got', 'when', 'the', 'intruder', 'finally', 'realized', 'the', 'video', 'chat', 'was', 'running', 'and', 'looked', 'right', 'at', 'her', 'in', 'the', 'camera', 'like', 'wow', 'seriously', 'watching', 'an', 'armed', 'robbery', 'happen', 'to', 'somebody', 'that', 'care', 'about', 'she', 'added', 'screengrabs', 'of', 'intruder', 'forcing', 'yale', 'down', 'on', 'his', 'bed', 'while', 'baylee', 'and', 'her', 'father', 'watch', 'on', 'facetime', 'in', 'horror', 'with', 'clear', 'view', 'of', 'at', 'least', 'one', 'intruder', 'face', 'baylee', 'began', 'taking', 'screenshots', 'of', 'the', 'suspect', 'in', 'the', 'act', 'as', 'she', 'and', 'her', 'dad', 'called', 'the', 'police', 'to', 'report', 'what', 'was', 'going', 'on', 'she', 'got', 'the', 'pictures', 'right', 'in', 'time', 'since', 'seconds', 'later', 'the', 'intruder', 'decided', 'to', 'disconnect', 'the', 'computer', 'as', 'he', 'and', 'the', 'suspects', 'took', 'off', 'with', 'thousands', 'of', 'dollars', 'worth', 'of', 'yale', 'music', 'equipment', 'although', 'the', 'boyfriend', 'life', 'was', 'spared', 'in', 'the', 'traumatizing', 'ordeal', 'for', 'the', 'two', 'of', 'them', 'he', 'said', 'that', 'the', 'thieves', 'took', 'something', 'from', 'him', 'that', 'can', 'be', 'replaced', 'had', 'just', 'finished', 'my', 'first', 'album', 'as', 'solo', 'artist', 'yale', 'said', 'that', 'all', 'lost', 'since', 'they', 'took', 'the', 'recordings', 'on', 'the', 'equipment', 'which', 'means', 'nothing', 'to', 'the', 'thieves', 'and', 'everything', 'to', 'the', 'victim', 'it', 'not', 'often', 'that', 'you', 'hear', 'of', 'facetime', 'solving', 'crimes', 'or', 'potentially', 'saving', 'lives', 'which', 'is', 'what', 'happened', 'in', 'this', 'case', 'although', 'it', 'was', 'difficult', 'to', 'watch', 'baylee', 'being', 'there', 'through', 'technology', 'was', 'an', 'instrumental', 'part', 'in', 'protecting', 'yale', 'who', 'hopefully', 'learned', 'that', 'he', 'better', 'take', 'advantage', 'of', 'texas', 'great', 'gun', 'laws', 'and', 'arm', 'himself', 'with', 'more', 'than', 'just', 'computer'], ['czech', 'stockbroker', 'who', 'saved', 'more', 'than', 'jewish', 'children', 'from', 'nazi', 'germany', 'has', 'died', 'at', 'the', 'age', 'of', 'dubbed', 'britain', 'schindler', 'nicholas', 'winton', 'arranged', 'to', 'transport', 'jewish', 'youngsters', 'from', 'prague', 'after', 'germany', 'annexed', 'czechoslovakia', 'in', 'march', 'though', 'the', 'children', 'were', 'originally', 'set', 'to', 'arrive', 'in', 'britain', 'by', 'plane', 'the', 'german', 'invasion', 'forced', 'winton', 'to', 'transport', 'them', 'by', 'train', 'through', 'germany', 'before', 'they', 'eventually', 'reached', 'england', 'by', 'boat', 'winton', 'arranged', 'eight', 'trains', 'known', 'as', 'the', 'children', 'transports', 'to', 'evacuate', 'the', 'children', 'and', 'died', 'on', 'the', 'anniversary', 'of', 'the', 'departure', 'of', 'the', 'one', 'carrying', 'the', 'largest', 'number', 'of', 'children', 'winton', 'was', 'knighted', 'by', 'queen', 'elizabeth', 'ii', 'in', 'for', 'his', 'efforts', 'despite', 'keeping', 'it', 'secret', 'for', 'nearly', 'years'], ['hillary', 'clinton', 'and', 'donald', 'trump', 'made', 'some', 'inaccurate', 'claims', 'during', 'an', 'nbc', 'commander', 'in', 'chief', 'forum', 'on', 'military', 'and', 'veterans', 'issues', 'clinton', 'wrongly', 'claimed', 'trump', 'supported', 'the', 'war', 'in', 'iraq', 'after', 'it', 'started', 'while', 'trump', 'was', 'wrong', 'once', 'again', 'in', 'saying', 'he', 'was', 'against', 'the', 'war', 'before', 'it', 'started', 'trump', 'said', 'that', 'president', 'obama', 'set', 'certain', 'date', 'for', 'withdrawing', 'troops', 'from', 'iraq', 'when', 'that', 'date', 'was', 'set', 'before', 'obama', 'was', 'sworn', 'in', 'trump', 'said', 'that', 'obama', 'visits', 'to', 'china', 'saudi', 'arabia', 'and', 'cuba', 'were', 'the', 'first', 'time', 'in', 'the', 'history', 'the', 'storied', 'history', 'of', 'air', 'force', 'one', 'when', 'high', 'officials', 'of', 'host', 'country', 'did', 'not', 'appear', 'to', 'greet', 'the', 'president', 'not', 'true', 'clinton', 'said', 'that', 'trump', 'supports', 'privatizing', 'the', 'veterans', 'health', 'administration', 'that', 'false', 'trump', 'said', 'he', 'supports', 'allowing', 'veterans', 'to', 'seek', 'care', 'at', 'either', 'public', 'or', 'private', 'hospitals', 'trump', 'said', 'clinton', 'made', 'terrible', 'mistake', 'on', 'libya', 'when', 'she', 'was', 'secretary', 'of', 'state', 'but', 'at', 'the', 'time', 'trump', 'also', 'supported', 'action', 'that', 'led', 'to', 'the', 'removal', 'of', 'moammar', 'gadhafi', 'from', 'power', 'trump', 'cherry', 'picked', 'clinton', 'words', 'when', 'he', 'claimed', 'clinton', 'said', 'vets', 'are', 'being', 'treated', 'essentially', 'just', 'fine', 'clinton', 'had', 'said', 'the', 'problems', 'in', 'the', 'department', 'of', 'veterans', 'affairs', 'were', 'not', 'as', 'widespread', 'as', 'some', 'republicans', 'claimed', 'but', 'she', 'went', 'on', 'to', 'acknowledge', 'problems', 'including', 'the', 'issue', 'of', 'wait', 'times', 'for', 'doctors', 'the', 'forum', 'sponsored', 'by', 'nbc', 'news', 'and', 'the', 'iraq', 'and', 'afghanistan', 'veterans', 'of', 'america', 'was', 'held', 'sept', 'at', 'the', 'intrepid', 'sea', 'air', 'space', 'museum', 'in', 'new', 'york', 'city', 'today', 'show', 'host', 'matt', 'lauer', 'and', 'members', 'of', 'the', 'military', 'and', 'veterans', 'in', 'the', 'audience', 'questioned', 'the', 'candidates', 'separately', 'trump', 'said', 'he', 'was', 'totally', 'against', 'the', 'war', 'in', 'iraq', 'while', 'clinton', 'claimed', 'that', 'he', 'supported', 'the', 'iraq', 'war', 'before', 'and', 'after', 'it', 'started', 'the', 'facts', 'don', 'support', 'either', 'candidate', 'strong', 'assertions', 'our', 'review', 'of', 'trump', 'statements', 'before', 'and', 'after', 'the', 'iraq', 'war', 'started', 'found', 'no', 'evidence', 'that', 'trump', 'opposed', 'the', 'war', 'before', 'it', 'started', 'in', 'fact', 'he', 'expressed', 'mild', 'support', 'for', 'invading', 'iraq', 'when', 'asked', 'about', 'it', 'on', 'the', 'howard', 'stern', 'radio', 'show', 'on', 'sept', 'about', 'six', 'months', 'before', 'the', 'war', 'started', 'stern', 'asked', 'trump', 'if', 'he', 'supported', 'war', 'with', 'iraq', 'and', 'trump', 'responded', 'yeah', 'guess', 'so', 'in', 'the', 'nbc', 'commander', 'in', 'chief', 'forum', 'trump', 'cited', 'an', 'esquire', 'article', 'that', 'appeared', 'in', 'august', 'to', 'show', 'his', 'opposition', 'to', 'the', 'war', 'but', 'that', 'article', 'appeared', 'months', 'after', 'the', 'war', 'started', 'as', 'for', 'clinton', 'who', 'as', 'senator', 'voted', 'in', 'october', 'to', 'authorize', 'the', 'war', 'in', 'iraq', 'the', 'democratic', 'nominee', 'claimed', 'that', 'trump', 'supported', 'it', 'before', 'it', 'happened', 'he', 'supported', 'it', 'as', 'it', 'was', 'happening', 'and', 'he', 'is', 'on', 'record', 'as', 'supporting', 'it', 'after', 'it', 'happened', 'but', 'just', 'as', 'there', 'is', 'no', 'evidence', 'that', 'trump', 'opposed', 'the', 'iraq', 'war', 'before', 'it', 'started', 'the', 'clinton', 'campaign', 'offered', 'no', 'evidence', 'that', 'trump', 'supported', 'the', 'war', 'after', 'it', 'happened', 'the', 'clinton', 'campaign', 'cited', 'trump', 'interview', 'on', 'march', 'with', 'neil', 'cavuto', 'of', 'fox', 'business', 'just', 'two', 'days', 'after', 'the', 'war', 'started', 'cavuto', 'asked', 'trump', 'about', 'the', 'impact', 'of', 'the', 'war', 'on', 'the', 'stock', 'market', 'trump', 'said', 'the', 'war', 'looks', 'like', 'tremendous', 'success', 'from', 'military', 'standpoint', 'and', 'he', 'predicted', 'the', 'market', 'will', 'go', 'up', 'like', 'rocket', 'after', 'the', 'war', 'but', 'cavuto', 'does', 'not', 'ask', 'trump', 'whether', 'the', 'should', 'have', 'gone', 'to', 'war', 'with', 'iraq', 'or', 'whether', 'he', 'supports', 'the', 'war', 'and', 'trump', 'doesn', 'offer', 'an', 'opinion', 'as', 'early', 'as', 'july', 'trump', 'expressed', 'concern', 'on', 'hardball', 'with', 'chris', 'matthews', 'about', 'money', 'being', 'spent', 'in', 'iraq', 'rather', 'than', 'in', 'the', 'two', 'months', 'later', 'trump', 'told', 'msnbc', 'joe', 'scarborough', 'guess', 'maybe', 'if', 'had', 'to', 'do', 'it', 'would', 'have', 'fought', 'terrorism', 'but', 'not', 'necessarily', 'iraq', 'clinton', 'invited', 'her', 'audience', 'to', 'read', 'trump', 'comments', 'on', 'the', 'iraq', 'war', 'they', 'can', 'read', 'our', 'timeline', 'donald', 'trump', 'and', 'the', 'iraq', 'war', 'trump', 'said', 'president', 'obama', 'set', 'certain', 'date', 'for', 'withdrawing', 'troops', 'from', 'iraq', 'but', 'that', 'date', 'was', 'actually', 'set', 'by', 'president', 'george', 'bush', 'nbc', 'matt', 'lauer', 'asked', 'trump', 'about', 'his', 'tendency', 'to', 'respond', 'when', 'pushed', 'for', 'details', 'on', 'his', 'military', 'proposals', 'that', 'he', 'not', 'going', 'to', 'give', 'details', 'because', 'he', 'wants', 'to', 'be', 'unpredictable', 'trump', 'responded', 'absolutely', 'and', 'went', 'on', 'to', 'criticize', 'obama', 'for', 'revealing', 'the', 'withdrawal', 'date', 'as', 'we', 'said', 'then', 'republicans', 'and', 'democrats', 'disagree', 'on', 'whether', 'obama', 'or', 'bush', 'is', 'to', 'blame', 'for', 'withdrawing', 'all', 'combat', 'troops', 'from', 'iraq', 'at', 'the', 'end', 'of', 'but', 'that', 'date', 'was', 'set', 'when', 'bush', 'signed', 'the', 'status', 'of', 'forces', 'agreement', 'on', 'dec', 'it', 'said', 'all', 'the', 'united', 'states', 'forces', 'shall', 'withdraw', 'from', 'all', 'iraqi', 'territory', 'no', 'later', 'than', 'december', 'in', 'the', 'nbc', 'forum', 'trump', 'also', 'called', 'the', 'withdrawal', 'of', 'troops', 'terrible', 'decision', 'as', 'we', 've', 'explained', 'before', 'condoleezza', 'rice', 'bush', 'secretary', 'of', 'state', 'later', 'wrote', 'that', 'bush', 'wanted', 'an', 'agreement', 'for', 'residual', 'force', 'to', 'remain', 'but', 'iraqi', 'prime', 'minister', 'nouri', 'al', 'maliki', 'objected', 'once', 'obama', 'took', 'office', 'in', 'january', 'he', 'had', 'three', 'years', 'to', 'renegotiate', 'the', 'deal', 'which', 'his', 'administration', 'tried', 'to', 'do', 'to', 'leave', 'residual', 'american', 'troop', 'force', 'but', 'maliki', 'still', 'didn', 'agree', 'negotiations', 'broke', 'down', 'in', 'october', 'over', 'the', 'issue', 'of', 'whether', 'troops', 'would', 'be', 'shielded', 'from', 'criminal', 'prosecution', 'by', 'iraqi', 'authorities', 'whether', 'obama', 'did', 'enough', 'is', 'matter', 'of', 'opinion', 'his', 'then', 'defense', 'secretary', 'leon', 'panetta', 'later', 'wrote', 'that', 'the', 'president', 'didn', 'press', 'hard', 'enough', 'for', 'deal', 'but', 'some', 'experts', 'say', 'iraq', 'was', 'more', 'closely', 'aligned', 'at', 'the', 'time', 'with', 'iran', 'and', 'there', 'wasn', 'deal', 'to', 'be', 'made', 'with', 'maliki', 'so', 'both', 'presidents', 'had', 'role', 'in', 'the', 'withdrawal', 'of', 'troops', 'but', 'trump', 'wrongly', 'said', 'that', 'obama', 'was', 'the', 'one', 'who', 'set', 'certain', 'date', 'for', 'withdrawal', 'and', 'let', 'enemies', 'know', 'about', 'it', 'when', 'that', 'date', 'was', 'set', 'before', 'obama', 'was', 'sworn', 'in', 'it', 'worth', 'noting', 'that', 'trump', 'said', 'in', 'march', 'interview', 'on', 'cnn', 'that', 'the', 'troops', 'should', 'be', 'withdrawn', 'quickly', 'from', 'iraq', 'trump', 'said', 'that', 'obama', 'visits', 'to', 'china', 'saudi', 'arabia', 'and', 'cuba', 'were', 'the', 'first', 'time', 'in', 'the', 'history', 'the', 'storied', 'history', 'of', 'air', 'force', 'one', 'when', 'high', 'officials', 'of', 'host', 'country', 'did', 'not', 'appear', 'to', 'greet', 'the', 'president', 'that', 'not', 'true', 'other', 'presidents', 'have', 'encountered', 'similar', 'low', 'key', 'greetings', 'on', 'foreign', 'trips', 'aboard', 'the', 'presidential', 'aircraft', 'trump', 'referred', 'to', 'the', 'fact', 'that', 'cuba', 'president', 'raul', 'castro', 'did', 'not', 'greet', 'obama', 'at', 'the', 'airport', 'on', 'his', 'historic', 'visit', 'to', 'cuba', 'in', 'march', 'that', 'saudi', 'arabia', 'king', 'salman', 'did', 'not', 'meet', 'air', 'force', 'one', 'at', 'the', 'start', 'of', 'obama', 'trip', 'to', 'riyadh', 'in', 'april', 'and', 'he', 'referred', 'to', 'china', 'handling', 'of', 'the', 'president', 'arrival', 'in', 'hangzhou', 'last', 'saturday', 'for', 'group', 'of', 'meeting', 'whether', 'or', 'not', 'those', 'arrivals', 'constituted', 'snubs', 'of', 'president', 'as', 'trump', 'claims', 'is', 'matter', 'of', 'debate', 'but', 'trump', 'is', 'wrong', 'on', 'the', 'facts', 'when', 'he', 'claims', 'it', 'has', 'not', 'happened', 'before', 'it', 'has', 'in', 'for', 'example', 'ronald', 'reagan', 'landed', 'in', 'beijing', 'and', 'was', 'received', 'by', 'china', 'foreign', 'minister', 'rather', 'than', 'the', 'president', 'whom', 'he', 'met', 'only', 'later', 'similarly', 'on', 'trip', 'to', 'west', 'germany', 'reagan', 'was', 'met', 'by', 'the', 'foreign', 'minister', 'and', 'not', 'chancellor', 'helmut', 'kohl', 'these', 'and', 'other', 'examples', 'were', 'dug', 'up', 'by', 'our', 'friend', 'glenn', 'kessler', 'the', 'washington', 'post', 'fact', 'checker', 'who', 'researched', 'trump', 'claim', 'in', 'april', 'that', 'cuba', 'and', 'saudi', 'arabia', 'handling', 'of', 'obama', 'visits', 'were', 'without', 'precedent', 'kessler', 'said', 'of', 'trump', 'once', 'again', 'he', 'wrong', 'wrong', 'wrong', 'kessler', 'also', 'noted', 'that', 'during', 'richard', 'nixon', 'historic', 'visit', 'to', 'china', 'he', 'was', 'greeted', 'at', 'the', 'airport', 'by', 'the', 'country', 'number', 'two', 'man', 'premier', 'zhou', 'enlai', 'his', 'boss', 'chairman', 'mao', 'didn', 'even', 'agree', 'to', 'meet', 'with', 'nixon', 'until', 'after', 'he', 'had', 'arrived', 'at', 'guest', 'house', 'clinton', 'said', 'that', 'her', 'plan', 'to', 'overhaul', 'the', 'veterans', 'health', 'administration', 'would', 'not', 'include', 'privatization', 'which', 'she', 'said', 'trump', 'supports', 'but', 'trump', 'refuted', 'that', 'statement', 'when', 'it', 'was', 'his', 'turn', 'to', 'discuss', 'his', 'plan', 'to', 'help', 'veterans', 'would', 'not', 'do', 'that', 'trump', 'said', 'referring', 'to', 'clinton', 'claim', 'that', 'he', 'supports', 'privatization', 'trump', 'campaign', 'published', 'the', 'goals', 'of', 'donald', 'trump', 'veterans', 'plan', 'on', 'its', 'website', 'last', 'october', 'it', 'doesn', 'call', 'for', 'the', 'va', 'to', 'be', 'completely', 'privatized', 'one', 'of', 'the', 'biggest', 'changes', 'that', 'plan', 'would', 'make', 'to', 'the', 'current', 'va', 'health', 'care', 'system', 'is', 'allowing', 'veterans', 'to', 'get', 'care', 'at', 'any', 'non', 'va', 'medical', 'center', 'that', 'accepts', 'medicare', 'under', 'trump', 'administration', 'all', 'veterans', 'eligible', 'for', 'va', 'health', 'care', 'can', 'bring', 'their', 'veteran', 'id', 'card', 'to', 'any', 'doctor', 'or', 'care', 'facility', 'that', 'accepts', 'medicare', 'to', 'get', 'the', 'care', 'they', 'need', 'immediately', 'the', 'plan', 'states', 'the', 'power', 'to', 'choose', 'will', 'stop', 'the', 'wait', 'time', 'backlogs', 'and', 'force', 'the', 'va', 'to', 'improve', 'and', 'compete', 'if', 'the', 'department', 'wants', 'to', 'keep', 'receiving', 'veterans', 'healthcare', 'dollars', 'the', 'plan', 'says', 'trump', 'proposal', 'would', 'seemingly', 'go', 'further', 'than', 'the', 'non', 'va', 'medical', 'care', 'program', 'which', 'allows', 'eligible', 'veterans', 'to', 'access', 'care', 'outside', 'of', 'the', 'va', 'under', 'certain', 'circumstances', 'such', 'as', 'when', 'va', 'medical', 'centers', 'cannot', 'provide', 'services', 'the', 'program', 'requires', 'pre', 'approval', 'for', 'veterans', 'to', 'receive', 'care', 'at', 'non', 'va', 'facility', 'in', 'non', 'emergency', 'situations', 'trump', 'proposal', 'would', 'also', 'go', 'further', 'than', 'the', 'bipartisan', 'veterans', 'choice', 'act', 'of', 'that', 'president', 'obama', 'signed', 'into', 'law', 'creating', 'temporary', 'program', 'separate', 'from', 'the', 'non', 'va', 'medical', 'care', 'program', 'that', 'allows', 'eligible', 'veterans', 'to', 'receive', 'health', 'care', 'at', 'non', 'va', 'facility', 'if', 'they', 'would', 'have', 'to', 'wait', 'more', 'than', 'days', 'for', 'an', 'appointment', 'at', 'va', 'medical', 'center', 'or', 'if', 'they', 'live', 'more', 'than', 'miles', 'from', 'the', 'nearest', 'va', 'hospital', 'trump', 'stuck', 'to', 'the', 'idea', 'of', 'allowing', 'veterans', 'to', 'choose', 'between', 'public', 'and', 'private', 'hospitals', 'when', 'he', 'released', 'his', 'most', 'recent', 'ten', 'point', 'plan', 'to', 'reform', 'the', 'va', 'in', 'july', 'point', 'of', 'the', 'plan', 'says', 'mr', 'trump', 'will', 'ensure', 'every', 'veteran', 'has', 'the', 'choice', 'to', 'seek', 'care', 'at', 'the', 'va', 'or', 'at', 'private', 'service', 'provider', 'of', 'their', 'own', 'choice', 'under', 'trump', 'administration', 'no', 'veteran', 'will', 'die', 'waiting', 'for', 'service', 'trump', 'reinforced', 'that', 'part', 'of', 'his', 'plan', 'during', 'the', 'nbc', 'news', 'forum', 'as', 'well', 'to', 'be', 'clear', 'trump', 'supports', 'giving', 'veterans', 'choice', 'between', 'va', 'hospitals', 'and', 'private', 'ones', 'that', 'not', 'the', 'same', 'thing', 'as', 'supporting', 'the', 'complete', 'privatization', 'of', 'the', 'system', 'that', 'provides', 'care', 'to', 'veterans', 'trump', 'criticized', 'clinton', 'for', 'making', 'terrible', 'mistake', 'on', 'libya', 'when', 'she', 'was', 'secretary', 'of', 'state', 'but', 'at', 'the', 'time', 'trump', 'also', 'supported', 'action', 'that', 'led', 'to', 'the', 'removal', 'of', 'moammar', 'gadhafi', 'from', 'power', 'trump', 'made', 'his', 'claim', 'in', 'response', 'to', 'question', 'posed', 'by', 'lauer', 'on', 'whether', 'trump', 'will', 'be', 'prepared', 'on', 'day', 'one', 'if', 'elected', 'president', 'to', 'tackle', 'complex', 'national', 'security', 'issues', 'this', 'isn', 'the', 'first', 'time', 'trump', 'has', 'ignored', 'his', 'past', 'support', 'for', 'the', 'intervention', 'in', 'libya', 'during', 'the', 'th', 'gop', 'debate', 'trump', 'said', 'he', 'had', 'never', 'discussed', 'that', 'subject', 'when', 'sen', 'ted', 'cruz', 'called', 'him', 'out', 'on', 'supporting', 'action', 'in', 'the', 'country', 'but', 'as', 'we', 'wrote', 'trump', 'said', 'in', 'that', 'the', 'should', 'go', 'into', 'libya', 'on', 'humanitarian', 'basis', 'and', 'knock', 'gadhafi', 'out', 'very', 'quickly', 'very', 'surgically', 'very', 'effectively', 'and', 'save', 'the', 'lives', 'trump', 'made', 'that', 'comment', 'in', 'video', 'posted', 'to', 'his', 'youtube', 'channel', 'in', 'february', 'even', 'though', 'trump', 'now', 'says', 'clinton', 'support', 'for', 'intervention', 'in', 'libya', 'was', 'terrible', 'mistake', 'it', 'doesn', 'change', 'the', 'fact', 'that', 'five', 'years', 'ago', 'he', 'supported', 'gadhafi', 'removal', 'trump', 'twisted', 'clinton', 'words', 'when', 'he', 'claimed', 'clinton', 'said', 'vets', 'are', 'being', 'treated', 'essentially', 'just', 'fine', 'clinton', 'said', 'the', 'problems', 'in', 'the', 'department', 'of', 'veterans', 'affairs', 'were', 'not', 'as', 'widespread', 'as', 'some', 'republican', 'supporters', 'of', 'privatization', 'of', 'the', 'va', 'claim', 'but', 'she', 'went', 'on', 'to', 'acknowledge', 'problems', 'in', 'the', 'va', 'system', 'including', 'the', 'issue', 'of', 'wait', 'times', 'for', 'doctors', 'and', 'what', 'she', 'would', 'do', 'to', 'address', 'them', 'trump', 'highlighted', 'the', 'issue', 'of', 'wait', 'times', 'to', 'see', 'doctor', 'as', 'one', 'of', 'the', 'big', 'problems', 'in', 'the', 'va', 'and', 'then', 'suggested', 'clinton', 'doesn', 'think', 'the', 'va', 'has', 'problems', 'lauer', 'interrupted', 'noting', 'that', 'clinton', 'went', 'on', 'after', 'that', 'and', 'laid', 'out', 'litany', 'of', 'problems', 'within', 'the', 'va', 'trump', 'insisted', 'his', 'version', 'was', 'accurate', 'adding', 'telling', 'you', 'she', 'said', 'she', 'was', 'satisfied', 'with', 'what', 'was', 'going', 'on', 'in', 'the', 'veterans', 'administration', 'that', 'not', 'accurate', 'the', 'comments', 'in', 'question', 'from', 'clinton', 'came', 'during', 'an', 'interview', 'with', 'msnbc', 'rachel', 'maddow', 'on', 'oct', 'maddow', 'asked', 'about', 'talk', 'among', 'some', 'republicans', 'of', 'abolishing', 'the', 'va', 'and', 'privatizing', 'it', 'the', 'reason', 'they', 'are', 'able', 'to', 'propose', 'something', 'that', 'radical', 'is', 'because', 'the', 'problems', 'at', 'the', 'va', 'seem', 'so', 'intractable', 'maddow', 'said', 'maddow', 'asked', 'if', 'clinton', 'had', 'any', 'new', 'ideas', 'for', 'trying', 'to', 'fix', 'the', 'va', 'here', 'was', 'clinton', 'response', 'with', 'the', 'part', 'trump', 'is', 'referring', 'to', 'in', 'bold', 'clinton', 'accused', 'republicans', 'of', 'underfunding', 'the', 'va', 'because', 'they', 'want', 'it', 'to', 'fail', 'so', 'they', 'can', 'privatize', 'it', 'clinton', 'added', 'but', 'we', 'have', 'to', 'be', 'more', 'creative', 'about', 'trying', 'to', 'fix', 'the', 'problems', 'that', 'are', 'the', 'legitimate', 'concern', 'so', 'that', 'we', 'can', 'try', 'to', 'stymie', 'the', 'republican', 'assault', 'indeed', 'the', 'clinton', 'campaign', 'website', 'states', 'that', 'clinton', 'wants', 'to', 'fundamentally', 'reform', 'veterans', 'health', 'care', 'to', 'ensure', 'access', 'to', 'timely', 'and', 'high', 'quality', 'care', 'the', 'campaign', 'says', 'clinton', 'was', 'outraged', 'by', 'the', 'recent', 'scandals', 'at', 'the', 'va', 'and', 'as', 'president', 'she', 'will', 'demand', 'accountability', 'and', 'performance', 'from', 'va', 'leadership', 'the', 'site', 'specifically', 'mentions', 'clinton', 'dissatisfaction', 'that', 'any', 'veterans', 'have', 'to', 'wait', 'an', 'unacceptably', 'long', 'time', 'to', 'see', 'doctor', 'or', 'to', 'process', 'disability', 'claims', 'and', 'appeals', 'and', 'promises', 'she', 'will', 'uild', 'st', 'century', 'department', 'of', 'veterans', 'affairs', 'to', 'deliver', 'world', 'class', 'care', 'trump', 'cherry', 'picked', 'the', 'part', 'of', 'clinton', 'response', 'that', 'said', 'problems', 'in', 'the', 'va', 'have', 'not', 'been', 'as', 'widespread', 'as', 'it', 'has', 'been', 'made', 'out', 'to', 'be', 'to', 'make', 'the', 'blanket', 'claim', 'that', 'clinton', 'is', 'satisfied', 'with', 'what', 'was', 'going', 'on', 'in', 'the', 'veterans', 'administration', 'and', 'that', 'vets', 'are', 'being', 'treated', 'essentially', 'just', 'fine', 'but', 'trump', 'is', 'leaving', 'out', 'the', 'parts', 'of', 'clinton', 'answer', 'that', 'acknowledged', 'problems', 'in', 'the', 'va', 'including', 'the', 'wait', 'time', 'issue', 'trump', 'highlighted', 'as', 'one', 'of', 'his', 'biggest', 'concerns'], ['iranian', 'negotiators', 'reportedly', 'have', 'made', 'last', 'ditch', 'push', 'for', 'more', 'concessions', 'from', 'the', 'and', 'five', 'other', 'world', 'powers', 'as', 'talks', 'on', 'the', 'fate', 'of', 'irans', 'nuclear', 'program', 'come', 'down', 'to', 'the', 'final', 'days', 'before', 'crucial', 'deadline', 'the', 'new', 'york', 'times', 'reported', 'late', 'sunday', 'that', 'tehran', 'had', 'backed', 'away', 'from', 'tentative', 'promise', 'to', 'ship', 'large', 'portion', 'of', 'its', 'uranium', 'stockpile', 'to', 'russia', 'where', 'it', 'could', 'not', 'be', 'used', 'as', 'part', 'of', 'any', 'future', 'weapons', 'program', 'western', 'officials', 'insisted', 'to', 'the', 'paper', 'that', 'the', 'uranium', 'did', 'not', 'have', 'to', 'be', 'sent', 'overseas', 'but', 'could', 'be', 'disposed', 'of', 'in', 'other', 'ways', 'the', 'new', 'twist', 'in', 'the', 'talks', 'comes', 'just', 'two', 'days', 'before', 'the', 'deadline', 'for', 'both', 'sides', 'to', 'agree', 'on', 'framework', 'for', 'permanent', 'deal', 'the', 'final', 'deadline', 'for', 'permanent', 'deal', 'would', 'not', 'arrive', 'until', 'the', 'end', 'of', 'june', 'however', 'if', 'iran', 'insists', 'on', 'keeping', 'its', 'uranium', 'in', 'the', 'country', 'it', 'would', 'undermine', 'key', 'argument', 'made', 'in', 'favor', 'of', 'the', 'deal', 'by', 'the', 'obama', 'administration', 'the', 'times', 'reports', 'that', 'if', 'the', 'uranium', 'had', 'gone', 'to', 'russia', 'it', 'would', 'have', 'been', 'converted', 'into', 'fuel', 'rods', 'which', 'are', 'difficult', 'to', 'use', 'in', 'nuclear', 'weapons', 'it', 'is', 'not', 'clear', 'what', 'would', 'happen', 'to', 'the', 'uranium', 'if', 'it', 'remained', 'in', 'iran', 'the', 'associated', 'press', 'reported', 'sunday', 'that', 'irans', 'position', 'had', 'shifted', 'from', 'from', 'demanding', 'that', 'it', 'be', 'allowed', 'to', 'keep', 'nearly', 'centrifuges', 'enriching', 'uranium', 'to', 'agreeing', 'to', 'keep', 'western', 'officials', 'involved', 'in', 'the', 'talks', 'told', 'the', 'associated', 'press', 'that', 'tehran', 'may', 'be', 'ready', 'to', 'accept', 'an', 'even', 'lower', 'number', 'the', 'united', 'states', 'and', 'its', 'allies', 'want', 'deal', 'that', 'extends', 'the', 'time', 'iran', 'would', 'need', 'to', 'make', 'nuclear', 'weapon', 'from', 'the', 'present', 'two', 'months', 'to', 'three', 'months', 'to', 'at', 'least', 'year', 'however', 'the', 'times', 'reported', 'sunday', 'that', 'paper', 'published', 'by', 'olli', 'heinonen', 'former', 'head', 'of', 'inspections', 'for', 'the', 'nuclear', 'watchdog', 'estimated', 'that', 'iran', 'could', 'still', 'develop', 'nuclear', 'weapon', 'in', 'seven', 'or', 'eight', 'months', 'with', 'around', 'centrifuges', 'tehran', 'says', 'it', 'wants', 'to', 'enrich', 'uranium', 'only', 'for', 'energy', 'science', 'industry', 'and', 'medicine', 'but', 'many', 'countries', 'fear', 'iran', 'could', 'use', 'the', 'technology', 'to', 'make', 'weapons', 'grade', 'uranium', 'officials', 'told', 'the', 'associated', 'press', 'that', 'another', 'main', 'dispute', 'involved', 'the', 'length', 'of', 'an', 'agreement', 'iran', 'they', 'said', 'wants', 'total', 'lifting', 'of', 'all', 'caps', 'on', 'its', 'activities', 'after', 'years', 'while', 'the', 'and', 'the', 'five', 'other', 'nations', 'at', 'the', 'talks', 'russia', 'china', 'britain', 'france', 'and', 'germany', 'insist', 'on', 'progressive', 'removal', 'after', 'decade', 'senior', 'official', 'characterized', 'the', 'issue', 'as', 'lack', 'of', 'agreement', 'on', 'what', 'happens', 'in', 'years', 'to', 'the', 'official', 'spoke', 'on', 'condition', 'of', 'anonymity', 'in', 'line', 'with', 'state', 'department', 'rules', 'on', 'briefing', 'about', 'the', 'closed', 'door', 'talks', 'limits', 'on', 'irans', 'research', 'and', 'development', 'of', 'centrifuges', 'also', 'were', 'unresolved', 'the', 'western', 'officials', 'said', 'tehran', 'has', 'created', 'prototype', 'centrifuge', 'that', 'it', 'says', 'enriches', 'uranium', 'times', 'faster', 'than', 'its', 'present', 'mainstay', 'model', 'the', 'and', 'its', 'partners', 'want', 'to', 'constrain', 'research', 'that', 'would', 'increase', 'greatly', 'the', 'speed', 'of', 'making', 'enough', 'weapons', 'grade', 'uranium', 'for', 'bomb', 'once', 'limits', 'on', 'irans', 'programs', 'are', 'lifted', 'one', 'official', 'said', 'russia', 'opposed', 'the', 'position', 'that', 'any', 'penalties', 'lifted', 'in', 'the', 'course', 'of', 'deal', 'should', 'be', 'reimposed', 'quickly', 'if', 'tehran', 'reneged', 'on', 'any', 'commitments', 'both', 'western', 'officials', 'said', 'iran', 'was', 'resisting', 'attempts', 'to', 'make', 'inspections', 'and', 'other', 'ways', 'of', 'verification', 'as', 'intrusive', 'as', 'possible', 'there', 'was', 'tentative', 'agreement', 'on', 'turning', 'nearly', 'finished', 'reactor', 'into', 'model', 'that', 'gives', 'off', 'less', 'plutonium', 'waste', 'than', 'originally', 'envisaged', 'plutonium', 'like', 'enriched', 'uranium', 'is', 'path', 'to', 'nuclear', 'weapons', 'iran', 'and', 'the', 'were', 'discussing', 'letting', 'iran', 'run', 'centrifuges', 'at', 'an', 'underground', 'bunker', 'that', 'has', 'been', 'used', 'to', 'enrich', 'uranium', 'the', 'machines', 'would', 'produce', 'isotopes', 'for', 'peaceful', 'applications', 'the', 'officials', 'said', 'with', 'the', 'tuesday', 'deadline', 'approaching', 'and', 'problems', 'remaining', 'secretary', 'of', 'state', 'john', 'kerry', 'canceled', 'plans', 'sunday', 'to', 'return', 'to', 'the', 'united', 'states', 'for', 'an', 'event', 'honoring', 'the', 'late', 'sen', 'edward', 'kennedy', 'french', 'foreign', 'minister', 'laurent', 'fabius', 'and', 'frank', 'walter', 'steinmeier', 'his', 'german', 'counterpart', 'scratched', 'planned', 'trips', 'to', 'kazakhstan', 'kerry', 'has', 'been', 'in', 'discussions', 'with', 'iranian', 'foreign', 'minister', 'mohammad', 'javad', 'zarif', 'since', 'thursday', 'the', 'associated', 'press', 'contributed', 'to', 'this', 'report', 'click', 'for', 'more', 'from', 'the', 'new', 'york', 'times']]\n"
          ]
        }
      ],
      "source": [
        "def sent_to_words(sentences):\n",
        "    for sentence in sentences:\n",
        "        yield(gensim.utils.simple_preprocess(str(sentence), deacc=True))  # deacc=True removes punctuations\n",
        "\n",
        "\n",
        "data_words = list(sent_to_words(temp))\n",
        "\n",
        "print(data_words[:10])"
      ]
    },
    {
      "cell_type": "code",
      "execution_count": 115,
      "metadata": {
        "colab": {
          "base_uri": "https://localhost:8080/"
        },
        "id": "C1AIqidfy_Xh",
        "outputId": "f61aa1bb-e876-4001-b850-9da2925b2fd0",
        "papermill": {
          "duration": 0.045481,
          "end_time": "2020-10-06T21:19:44.384376",
          "exception": false,
          "start_time": "2020-10-06T21:19:44.338895",
          "status": "completed"
        },
        "tags": []
      },
      "outputs": [
        {
          "data": {
            "text/plain": [
              "6335"
            ]
          },
          "execution_count": 115,
          "metadata": {},
          "output_type": "execute_result"
        }
      ],
      "source": [
        "len(data_words)"
      ]
    },
    {
      "cell_type": "code",
      "execution_count": 116,
      "metadata": {
        "id": "-JjHkjday_Xh",
        "papermill": {
          "duration": 0.045096,
          "end_time": "2020-10-06T21:19:44.467470",
          "exception": false,
          "start_time": "2020-10-06T21:19:44.422374",
          "status": "completed"
        },
        "tags": []
      },
      "outputs": [],
      "source": [
        "def detokenize(text):\n",
        "    return TreebankWordDetokenizer().detokenize(text)"
      ]
    },
    {
      "cell_type": "code",
      "execution_count": 117,
      "metadata": {
        "colab": {
          "base_uri": "https://localhost:8080/"
        },
        "id": "1Yqnb55vy_Xh",
        "outputId": "5fd149fb-fad6-403f-a11e-b57c791c0fb6",
        "papermill": {
          "duration": 3.326682,
          "end_time": "2020-10-06T21:19:47.832800",
          "exception": false,
          "start_time": "2020-10-06T21:19:44.506118",
          "status": "completed"
        },
        "tags": []
      },
      "outputs": [
        {
          "name": "stdout",
          "output_type": "stream",
          "text": [
            "['daniel greenfield shillman journalism fellow at the freedom center is new york writer focusing on radical islam in the final stretch of the election hillary rodham clinton has gone to war with the fbi the word unprecedented has been thrown around so often this election that it ought to be retired but it still unprecedented for the nominee of major political party to go war with the fbi but that exactly what hillary and her people have done coma patients just waking up now and watching an hour of cnn from their hospital beds would assume that fbi director james comey is hillary opponent in this election the fbi is under attack by everyone from obama to cnn hillary people have circulated letter attacking comey there are currently more media hit pieces lambasting him than targeting trump it wouldn be too surprising if the clintons or their allies were to start running attack ads against the fbi the fbi leadership is being warned that the entire left wing establishment will form lynch mob if they continue going after hillary and the fbi credibility is being attacked by the media and the democrats to preemptively head off the results of the investigation of the clinton foundation and hillary clinton the covert struggle between fbi agents and obama doj people has gone explosively public the new york times has compared comey to edgar hoover its bizarre headline james comey role recalls hoover fbi fairly or not practically admits up front that it spouting nonsense the boston globe has published column calling for comey resignation not to be outdone time has an editorial claiming that the scandal is really an attack on all women james carville appeared on msnbc to remind everyone that he was still alive and insane he accused comey of coordinating with house republicans and the kgb and you thought the vast right wing conspiracy was stretch countless media stories charge comey with violating procedure do you know what procedural violation emailing classified information stored on your bathroom server senator harry reid has sent comey letter accusing him of violating the hatch act the hatch act is nice idea that has as much relevance in the age of obama as the tenth amendment but the cable news spectrum quickly filled with media hacks glancing at the wikipedia article on the hatch act under the table while accusing the fbi director of one of the most awkward conspiracies against hillary ever if james comey is really out to hurt hillary he picked one hell of strange way to do it not too long ago democrats were breathing sigh of relief when he gave hillary clinton pass in prominent public statement if he really were out to elect trump by keeping the email scandal going why did he trash the investigation was he on the payroll of house republicans and the kgb back then and playing it coy or was it sudden development where vladimir putin and paul ryan talked him into taking look at anthony weiner computer either comey is the most cunning fbi director that ever lived or he just awkwardly trying to navigate political mess that has trapped him between doj leadership whose political futures are tied to hillary victory and his own bureau whose apolitical agents just want to be allowed to do their jobs the only truly mysterious thing is why hillary and her associates decided to go to war with respected federal agency most americans like the fbi while hillary clinton enjoys unfavorable rating and it an interesting question hillary old strategy was to lie and deny that the fbi even had criminal investigation underway instead her associates insisted that it was security review the fbi corrected her and she shrugged it off but the old breezy denial approach has given way to savage assault on the fbi pretending that nothing was wrong was bad strategy but it was better one that picking fight with the fbi while lunatic clinton associates try to claim that the fbi is really the kgb there are two possible explanations hillary clinton might be arrogant enough to lash out at the fbi now that she believes that victory is near the same kind of hubris that led her to plan her victory fireworks display could lead her to declare war on the fbi for irritating her during the final miles of her campaign but the other explanation is that her people panicked going to war with the fbi is not the behavior of smart and focused presidential campaign it an act of desperation when presidential candidate decides that her only option is to try and destroy the credibility of the fbi that not hubris it fear of what the fbi might be about to reveal about her during the original fbi investigation hillary clinton was confident that she could ride it out and she had good reason for believing that but that hillary clinton is gone in her place is paranoid wreck within short space of time the positive clinton campaign promising to unite the country has been replaced by desperate and flailing operation that has focused all its energy on fighting the fbi there only one reason for such bizarre behavior the clinton campaign has decided that an fbi investigation of the latest batch of emails poses threat to its survival and so it gone all in on fighting the fbi it an unprecedented step born of fear it hard to know whether that fear is justified but the existence of that fear already tells us whole lot clinton loyalists rigged the old investigation they knew the outcome ahead of time as well as they knew the debate questions now suddenly they are no longer in control and they are afraid you can smell the fear the fbi has wiretaps from the investigation of the clinton foundation it finding new emails all the time and clintonworld panicked the spinmeisters of clintonworld have claimed that the email scandal is just so much smoke without fire all that here is the appearance of impropriety without any of the substance but this isn how you react to smoke it how you respond to fire the misguided assault on the fbi tells us that hillary clinton and her allies are afraid of revelation bigger than the fundamental illegality of her email setup the email setup was preemptive cover up the clinton campaign has panicked badly out of the belief right or wrong that whatever crime the illegal setup was meant to cover up is at risk of being exposed the clintons have weathered countless scandals over the years whatever they are protecting this time around is bigger than the usual corruption bribery sexual assaults and abuses of power that have followed them around throughout the years this is bigger and more damaging than any of the allegations that have already come out and they don want fbi investigators anywhere near it the campaign against comey is pure intimidation it also warning any senior fbi people who value their careers are being warned to stay away the democrats are closing ranks around their nominee against the fbi it an ugly and unprecedented scene it may also be their last stand hillary clinton has awkwardly wound her way through numerous scandals in just this election cycle but she never shown fear or desperation before now that has changed whatever she is afraid of it lies buried in her emails with huma abedin and it can bring her down like nothing else has', 'google pinterest digg linkedin reddit stumbleupon print delicious pocket tumblr there are two fundamental truths in this world paul ryan desperately wants to be president and paul ryan will never be president today proved it in particularly staggering example of political cowardice paul ryan re re re reversed course and announced that he was back on the trump train after all this was an aboutface from where he was few weeks ago he had previously declared he would not be supporting or defending trump after tape was made public in which trump bragged about assaulting women suddenly ryan was appearing at pro trump rally and boldly declaring that he already sent in his vote to make him president of the united states it was surreal moment the figurehead of the republican party dosed himself in gasoline got up on stage on chilly afternoon in wisconsin and lit match says he voted for republicans it is time to come home pic twitter com wcvscg abc news politics november the democratic party couldn have asked for better moment of film ryan chances of ever becoming president went down to zero in an instant in the wreckage trump is to leave behind in his wake those who cravenly backed his campaign will not recover if ryan career manages to limp all the way to then the dnc will have this tape locked and loaded to be used in every ad until election day the ringing endorsement of the man he clearly hates on personal level speaks volumes about his own spinelessness ryan has postured himself as principled conservative and one uncomfortable with trump unapologetic bigotry and sexism however when push came to shove paul ryan like many of his colleagues turned into sniveling appeaser after all his lofty tak about conviction his principles were house of cards and collapsed with the slightest breeze what especially bizarre is how close ryan came to making it through unscathed for months the speaker of the house refused to comment on trump at all his strategy seemed to be to keep his head down pretend trump didn exist and hope that nobody remembered what happened in now just days away from the election he screwed it all up if very ugly election has done any good it by exposing the utter cowardice of the republicans who once feigned moral courage reality television star spit on them hijacked their party insulted their wives and got every last one of them to kneel before him what turn of events featured image via twitter', 'secretary of state john kerry said monday that he will stop in paris later this week amid criticism that no top american officials attended sunday unity march against terrorism kerry said he expects to arrive in paris thursday evening as he heads home after week abroad he said he will fly to france at the conclusion of series of meetings scheduled for thursday in sofia bulgaria he plans to meet the next day with foreign minister laurent fabius and president francois hollande then return to washington the visit by kerry who has family and childhood ties to the country and speaks fluent french could address some of the criticism that the united states snubbed france in its darkest hour in many years the french press on monday was filled with questions about why neither president obama nor kerry attended sunday march as about leaders of other nations did obama was said to have stayed away because his own security needs can be taxing on country and kerry had prior commitments among roughly leaders who did attend was israeli prime minister benjamin netanyahu no stranger to intense security who marched beside hollande through the city streets the highest ranking officials attending the march were jane hartley the ambassador to france and victoria nuland the assistant secretary of state for european affairs attorney general eric holder jr was in paris for meetings with law enforcement officials but did not participate in the march kerry spent sunday at business summit hosted by india prime minister narendra modi the united states is eager for india to relax stringent laws that function as barriers to foreign investment and hopes modi government will act to open the huge indian market for more american businesses in news conference kerry brushed aside criticism that the united states had not sent more senior official to paris as quibbling little bit he noted that many staffers of the american embassy in paris attended the march including the ambassador he said he had wanted to be present at the march himself but could not because of his prior commitments in india but that is why am going there on the way home to make it crystal clear how passionately we feel about the events that have taken place there he said and don think the people of france have any doubts about america understanding of what happened of our personal sense of loss and our deep commitment to the people of france in this moment of trauma', 'kaydee king november the lesson from tonights dem losses time for democrats to start listening to the voters stop running the same establishment candidates people for bernie november if dems didnt want tight race they shouldnt have worked against bernie walker bragman november new york times columnist paul krugman who was one of hillary clinton most outspoken surrogates during the contentious democratic primary blamed clinton poor performance on green party candidate jill stein who has so far received negligible number of votes nationally saying stein was the ralph nader of in preventing clinton victory the account threw krugman analysis back in his face your candidate was the issue take responsibility teachers for bernie november ana navarro republican who recently endorsed hillary clinton summed up the preposterous nature of the presidential election in this tweet gop nominated the only damn candidate who could lose to hillary clinton democrats nominated the only damn candidate who could lose to trump ana navarro november popular left wing facebook page the other which was pro sanders during the primary responded to trump surge by simply posting meme of sanders face with the text all this could ve been avoided thanks for nothing dnc the meme has been shared almost times in less than an hour posted by the other on tuesday november while bernie sanders endorsed hillary clinton just before the democratic national convention in july many of his supporters remained adamant in their refusal to support the dnc anointed candidate pointing to wikileaks revelations that top officials at the dnc had been working behind the scenes to tip the scales in clinton favor by coordinating with media figures to circulate anti sanders narratives rather than attribute potential trump presidency to the gop nominee perceived popularity among voters the closeness of this election could be credited to hillary clinton unfavorable ratings according to anywhere between and percent of voters had negative opinion of the democratic nominee as of pm eastern florida michigan pennsylvania and wisconsin remain too close to call clinton has electoral votes to trump zach cartwright is an activist and author from richmond virginia he enjoys writing about politics government and the media send him an email at email protected', 'its primary day in new york and front runners hillary clinton and donald trump are leading in the polls trump is now vowing to win enough delegates to clinch the republican nomination and prevent contested convention but sens ted cruz texas bernie sanders vt and ohio gov john kasich and arent giving up just yet big win in new york could tip the scales for both the republican and democratic front runners in this years race for the white house clinton and trump have each suffered losses in recent contests shifting the momentum to their rivals we have won eight out of the last nine caucuses and primaries cheer sanders recently told supporters while wins in new york for trump and clinton are expected the margins of those victories are also important trump needs to capture more than percent of the vote statewide if he wants to be positioned to win all of the states gop delegates that would put him one step closer to avoiding contested convention weve got to vote and you know cruz is way way down in the polls trump urged supporters meanwhile sanders is hoping for close race in the empire state loss by points means hell need to win percent of the remaining delegates to clinch the nomination despite predicted loss in new york cruz hasnt lost momentum hes hoping to sweep up more delegates this weekend while hes talking about how he can win in november because if im the nominee we win the general election cruz promised his supporters were beating hillary in the key swing states were beating hillary with independents were beating hillary with young people for now cruz kasich and sanders have all moved on from new york to other states trump and clinton are the only two staying in their home state to watch the results come in']\n"
          ]
        }
      ],
      "source": [
        "data = []\n",
        "for i in range(len(data_words)):\n",
        "    data.append(detokenize(data_words[i]))\n",
        "print(data[:5])"
      ]
    },
    {
      "cell_type": "code",
      "execution_count": 118,
      "metadata": {
        "id": "15gCoa1py_Xh",
        "papermill": {
          "duration": 0.06542,
          "end_time": "2020-10-06T21:19:47.938217",
          "exception": false,
          "start_time": "2020-10-06T21:19:47.872797",
          "status": "completed"
        },
        "tags": []
      },
      "outputs": [],
      "source": [
        "data = np.array(data)"
      ]
    },
    {
      "cell_type": "markdown",
      "metadata": {
        "id": "LZfrOdfYy_Xi",
        "papermill": {
          "duration": 0.037183,
          "end_time": "2020-10-06T21:19:48.013459",
          "exception": false,
          "start_time": "2020-10-06T21:19:47.976276",
          "status": "completed"
        },
        "tags": []
      },
      "source": [
        "# Label encoding\n",
        "\n",
        "As the dataset is categorical, we need to convert the sentiment labels from Neutral, Negative and Positive to a float type that our model can understand. To achieve this task, we'll implement the to_categorical method from Keras."
      ]
    },
    {
      "cell_type": "code",
      "execution_count": 119,
      "metadata": {
        "id": "SK6038Iry_Xi",
        "papermill": {
          "duration": 0.074223,
          "end_time": "2020-10-06T21:19:48.125627",
          "exception": false,
          "start_time": "2020-10-06T21:19:48.051404",
          "status": "completed"
        },
        "tags": []
      },
      "outputs": [],
      "source": [
        "labels = np.array(train['label'])\n",
        "y = []\n",
        "for i in range(len(labels)):\n",
        "    if labels[i] == 'FAKE':\n",
        "        y.append(0)\n",
        "    if labels[i] == 'REAL':\n",
        "        y.append(1)\n",
        "y = np.array(y)\n",
        "labels = tf.keras.utils.to_categorical(y, 3, dtype=\"float32\")\n",
        "del y"
      ]
    },
    {
      "cell_type": "code",
      "execution_count": 120,
      "metadata": {
        "colab": {
          "base_uri": "https://localhost:8080/"
        },
        "id": "uXahbQPey_Xi",
        "outputId": "d2a6b1bf-8e96-49b6-ce8a-c5af715a3591",
        "papermill": {
          "duration": 0.046647,
          "end_time": "2020-10-06T21:19:48.210021",
          "exception": false,
          "start_time": "2020-10-06T21:19:48.163374",
          "status": "completed"
        },
        "tags": []
      },
      "outputs": [
        {
          "data": {
            "text/plain": [
              "6335"
            ]
          },
          "execution_count": 120,
          "metadata": {},
          "output_type": "execute_result"
        }
      ],
      "source": [
        "len(labels)"
      ]
    },
    {
      "cell_type": "markdown",
      "metadata": {
        "id": "DzhAOR7vy_Xi",
        "papermill": {
          "duration": 0.038298,
          "end_time": "2020-10-06T21:19:48.287312",
          "exception": false,
          "start_time": "2020-10-06T21:19:48.249014",
          "status": "completed"
        },
        "tags": []
      },
      "source": [
        "# Data sequencing and splitting\n",
        "\n",
        "We'll implement the Keras tokenizer as well as its pad_sequences method to transform our text data into 3D float data, otherwise our neural networks won't be able to be trained on it."
      ]
    },
    {
      "cell_type": "code",
      "execution_count": 121,
      "metadata": {
        "colab": {
          "base_uri": "https://localhost:8080/"
        },
        "id": "cdyi0jp0y_Xi",
        "outputId": "76e37d79-1906-4517-c6cf-b3d8d20bd8c6",
        "papermill": {
          "duration": 1.062302,
          "end_time": "2020-10-06T21:19:49.387739",
          "exception": false,
          "start_time": "2020-10-06T21:19:48.325437",
          "status": "completed"
        },
        "tags": []
      },
      "outputs": [
        {
          "name": "stdout",
          "output_type": "stream",
          "text": [
            "[[ 859   15 2437 ...  390  740   22]\n",
            " [   5    1   25 ... 1121 1102  514]\n",
            " [ 604   48    1 ...   16  625    3]\n",
            " ...\n",
            " [ 137   86    9 ...    2  104  359]\n",
            " [   3  623  744 ... 3543   15 1012]\n",
            " [   5    1  198 ...   25   22    1]]\n"
          ]
        }
      ],
      "source": [
        "from keras.models import Sequential\n",
        "from keras import layers\n",
        "from keras.optimizers import RMSprop,Adam\n",
        "from keras.preprocessing.text import Tokenizer\n",
        "from keras.utils import pad_sequences\n",
        "from keras import regularizers\n",
        "from keras import backend as K\n",
        "from keras.callbacks import ModelCheckpoint\n",
        "\n",
        "max_words = 5000\n",
        "max_len = 200\n",
        "\n",
        "tokenizer = Tokenizer(num_words=max_words)\n",
        "tokenizer.fit_on_texts(data)\n",
        "sequences = tokenizer.texts_to_sequences(data)\n",
        "tweets = pad_sequences(sequences, maxlen=max_len)\n",
        "print(tweets)"
      ]
    },
    {
      "cell_type": "code",
      "execution_count": 122,
      "metadata": {
        "colab": {
          "base_uri": "https://localhost:8080/"
        },
        "id": "352Tf2Mvy_Xi",
        "outputId": "9e3e1396-c89b-45ea-8c8e-3cde6ea3c7fe",
        "papermill": {
          "duration": 0.054099,
          "end_time": "2020-10-06T21:19:49.483550",
          "exception": false,
          "start_time": "2020-10-06T21:19:49.429451",
          "status": "completed"
        },
        "tags": []
      },
      "outputs": [
        {
          "name": "stdout",
          "output_type": "stream",
          "text": [
            "[[1. 0. 0.]\n",
            " [1. 0. 0.]\n",
            " [0. 1. 0.]\n",
            " ...\n",
            " [1. 0. 0.]\n",
            " [0. 1. 0.]\n",
            " [0. 1. 0.]]\n"
          ]
        }
      ],
      "source": [
        "print(labels)"
      ]
    },
    {
      "cell_type": "code",
      "execution_count": 123,
      "metadata": {
        "colab": {
          "base_uri": "https://localhost:8080/"
        },
        "id": "bqvEg0n-y_Xi",
        "outputId": "2acfa53d-9097-45f0-b67b-5110f79614dc",
        "papermill": {
          "duration": 0.069178,
          "end_time": "2020-10-06T21:19:49.601136",
          "exception": false,
          "start_time": "2020-10-06T21:19:49.531958",
          "status": "completed"
        },
        "tags": []
      },
      "outputs": [
        {
          "name": "stdout",
          "output_type": "stream",
          "text": [
            "4751 1584 4751 1584\n"
          ]
        }
      ],
      "source": [
        "#Splitting the data\n",
        "X_train, X_test, y_train, y_test = train_test_split(tweets,labels, random_state=0)\n",
        "print (len(X_train),len(X_test),len(y_train),len(y_test))"
      ]
    },
    {
      "cell_type": "markdown",
      "metadata": {
        "id": "S-W1u6tmy_Xi",
        "papermill": {
          "duration": 0.044723,
          "end_time": "2020-10-06T21:19:49.690338",
          "exception": false,
          "start_time": "2020-10-06T21:19:49.645615",
          "status": "completed"
        },
        "tags": []
      },
      "source": [
        "# Model building\n",
        "\n",
        "Alright, in the next cells I'll guide you through the process of building 3 Recurrent Neural Networks. I'll implement sequential models from the Keras API to achieve this task. Essentially, I'll start with a single layer **LSTM** network which is known by achieving good results in NLP tasks when the dataset is relatively small (I could have started with a SimpleRNN which is even simpler, but to be honest it's actually not deployed in production environments because it is too simple - however I'll leave it commented in case you want to know it's built). The next one will be a Bidirectional LSTM model, a more complex one and this particular one is known to achieve great metrics when talking about text classification. To go beyond the classic NLP approach, finally we'll implement a very unusual model: a Convolutional 1D network, known as well by delivering good metrics when talking about NLP. If everything goes ok, we should get the best results with the BidRNN, let's see what happens.\n",
        "\n",
        "Let's get hands on:"
      ]
    },
    {
      "cell_type": "markdown",
      "metadata": {
        "id": "5gCqt7CSy_Xi",
        "papermill": {
          "duration": 0.045363,
          "end_time": "2020-10-06T21:19:49.779234",
          "exception": false,
          "start_time": "2020-10-06T21:19:49.733871",
          "status": "completed"
        },
        "tags": []
      },
      "source": [
        "## SimpleRNN model (Bonus)"
      ]
    },
    {
      "cell_type": "code",
      "execution_count": 124,
      "metadata": {
        "id": "SM9cHDHby_Xi",
        "papermill": {
          "duration": 0.054472,
          "end_time": "2020-10-06T21:19:49.878902",
          "exception": false,
          "start_time": "2020-10-06T21:19:49.824430",
          "status": "completed"
        },
        "tags": []
      },
      "outputs": [],
      "source": [
        "#model0 = Sequential()\n",
        "#model0.add(layers.Embedding(max_words, 15))\n",
        "#model0.add(layers.SimpleRNN(15))\n",
        "#model0.add(layers.Dense(3,activation='softmax'))\n",
        "\n",
        "\n",
        "#model0.compile(optimizer='rmsprop',loss='categorical_crossentropy', metrics=['accuracy'])\n",
        "#Implementing model checkpoins to save the best metric and do not lose it on training.\n",
        "#checkpoint0 = ModelCheckpoint(\"best_model0.hdf5\", monitor='val_accuracy', verbose=1,save_best_only=True, mode='auto', period=1,save_weights_only=False)\n",
        "#history = model0.fit(X_train, y_train, epochs=5,validation_data=(X_test, y_test),callbacks=[checkpoint0])"
      ]
    },
    {
      "cell_type": "markdown",
      "metadata": {
        "id": "-FP9ai2sy_Xi",
        "papermill": {
          "duration": 0.044937,
          "end_time": "2020-10-06T21:19:49.968644",
          "exception": false,
          "start_time": "2020-10-06T21:19:49.923707",
          "status": "completed"
        },
        "tags": []
      },
      "source": [
        "## Single LSTM layer model"
      ]
    },
    {
      "cell_type": "code",
      "execution_count": 125,
      "metadata": {
        "id": "I6NXY5yWy_Xi",
        "papermill": {
          "duration": 612.793273,
          "end_time": "2020-10-06T21:30:02.806611",
          "exception": false,
          "start_time": "2020-10-06T21:19:50.013338",
          "status": "completed"
        },
        "tags": []
      },
      "outputs": [],
      "source": [
        "# model1 = Sequential()\n",
        "# model1.add(layers.Embedding(max_words, 20))\n",
        "# model1.add(layers.LSTM(15,dropout=0.5))\n",
        "# model1.add(layers.Dense(3,activation='softmax'))\n",
        "\n",
        "# model1.compile(optimizer='rmsprop',loss='categorical_crossentropy', metrics=['accuracy'])\n",
        "# #Implementing model checkpoins to save the best metric and do not lose it on training.\n",
        "# checkpoint1 = ModelCheckpoint(\"best_model1.hdf5\", monitor='val_accuracy', verbose=1,save_best_only=True, mode='auto', period=1,save_weights_only=False)\n",
        "# history = model1.fit(X_train, y_train, epochs=70,validation_data=(X_test, y_test),callbacks=[checkpoint1])"
      ]
    },
    {
      "cell_type": "markdown",
      "metadata": {
        "id": "wEJYxJnZy_Xi",
        "papermill": {
          "duration": 3.837682,
          "end_time": "2020-10-06T21:30:10.817414",
          "exception": false,
          "start_time": "2020-10-06T21:30:06.979732",
          "status": "completed"
        },
        "tags": []
      },
      "source": [
        "## Bidirectional LTSM model"
      ]
    },
    {
      "cell_type": "code",
      "execution_count": 126,
      "metadata": {
        "colab": {
          "base_uri": "https://localhost:8080/"
        },
        "id": "hk1qTi_oy_Xj",
        "outputId": "8b63720b-22f6-417e-d858-2d8be2840d98",
        "papermill": {
          "duration": 1184.636954,
          "end_time": "2020-10-06T21:49:59.411827",
          "exception": false,
          "start_time": "2020-10-06T21:30:14.774873",
          "status": "completed"
        },
        "tags": []
      },
      "outputs": [
        {
          "name": "stderr",
          "output_type": "stream",
          "text": [
            "WARNING:tensorflow:`period` argument is deprecated. Please use `save_freq` to specify the frequency in number of batches seen.\n"
          ]
        },
        {
          "name": "stdout",
          "output_type": "stream",
          "text": [
            "Epoch 1/70\n",
            "149/149 [==============================] - ETA: 0s - loss: 0.7146 - accuracy: 0.5729\n",
            "Epoch 1: val_accuracy improved from -inf to 0.74306, saving model to best_model2.hdf5\n",
            "149/149 [==============================] - 29s 169ms/step - loss: 0.7146 - accuracy: 0.5729 - val_loss: 0.6368 - val_accuracy: 0.7431\n",
            "Epoch 2/70\n",
            "149/149 [==============================] - ETA: 0s - loss: 0.5318 - accuracy: 0.7464\n",
            "Epoch 2: val_accuracy improved from 0.74306 to 0.83018, saving model to best_model2.hdf5\n",
            "149/149 [==============================] - 25s 165ms/step - loss: 0.5318 - accuracy: 0.7464 - val_loss: 0.4151 - val_accuracy: 0.8302\n",
            "Epoch 3/70\n",
            "149/149 [==============================] - ETA: 0s - loss: 0.3678 - accuracy: 0.8449\n",
            "Epoch 3: val_accuracy improved from 0.83018 to 0.85038, saving model to best_model2.hdf5\n",
            "149/149 [==============================] - 25s 168ms/step - loss: 0.3678 - accuracy: 0.8449 - val_loss: 0.3766 - val_accuracy: 0.8504\n",
            "Epoch 4/70\n",
            "149/149 [==============================] - ETA: 0s - loss: 0.2831 - accuracy: 0.8861\n",
            "Epoch 4: val_accuracy did not improve from 0.85038\n",
            "149/149 [==============================] - 24s 163ms/step - loss: 0.2831 - accuracy: 0.8861 - val_loss: 0.3874 - val_accuracy: 0.8232\n",
            "Epoch 5/70\n",
            "149/149 [==============================] - ETA: 0s - loss: 0.2344 - accuracy: 0.9097\n",
            "Epoch 5: val_accuracy did not improve from 0.85038\n",
            "149/149 [==============================] - 23s 154ms/step - loss: 0.2344 - accuracy: 0.9097 - val_loss: 0.3983 - val_accuracy: 0.8409\n",
            "Epoch 6/70\n",
            "149/149 [==============================] - ETA: 0s - loss: 0.1880 - accuracy: 0.9257\n",
            "Epoch 6: val_accuracy improved from 0.85038 to 0.87247, saving model to best_model2.hdf5\n",
            "149/149 [==============================] - 24s 160ms/step - loss: 0.1880 - accuracy: 0.9257 - val_loss: 0.3112 - val_accuracy: 0.8725\n",
            "Epoch 7/70\n",
            "149/149 [==============================] - ETA: 0s - loss: 0.1625 - accuracy: 0.9383\n",
            "Epoch 7: val_accuracy improved from 0.87247 to 0.89078, saving model to best_model2.hdf5\n",
            "149/149 [==============================] - 24s 161ms/step - loss: 0.1625 - accuracy: 0.9383 - val_loss: 0.3143 - val_accuracy: 0.8908\n",
            "Epoch 8/70\n",
            "149/149 [==============================] - ETA: 0s - loss: 0.1323 - accuracy: 0.9507\n",
            "Epoch 8: val_accuracy did not improve from 0.89078\n",
            "149/149 [==============================] - 24s 161ms/step - loss: 0.1323 - accuracy: 0.9507 - val_loss: 0.3235 - val_accuracy: 0.8908\n",
            "Epoch 9/70\n",
            "149/149 [==============================] - ETA: 0s - loss: 0.1156 - accuracy: 0.9585\n",
            "Epoch 9: val_accuracy did not improve from 0.89078\n",
            "149/149 [==============================] - 24s 163ms/step - loss: 0.1156 - accuracy: 0.9585 - val_loss: 0.4660 - val_accuracy: 0.8649\n",
            "Epoch 10/70\n",
            "149/149 [==============================] - ETA: 0s - loss: 0.0953 - accuracy: 0.9678\n",
            "Epoch 10: val_accuracy did not improve from 0.89078\n",
            "149/149 [==============================] - 24s 162ms/step - loss: 0.0953 - accuracy: 0.9678 - val_loss: 0.3398 - val_accuracy: 0.8756\n",
            "Epoch 11/70\n",
            "149/149 [==============================] - ETA: 0s - loss: 0.0752 - accuracy: 0.9735\n",
            "Epoch 11: val_accuracy did not improve from 0.89078\n",
            "149/149 [==============================] - 25s 166ms/step - loss: 0.0752 - accuracy: 0.9735 - val_loss: 0.3875 - val_accuracy: 0.8769\n",
            "Epoch 12/70\n",
            "149/149 [==============================] - ETA: 0s - loss: 0.0642 - accuracy: 0.9781\n",
            "Epoch 12: val_accuracy did not improve from 0.89078\n",
            "149/149 [==============================] - 23s 155ms/step - loss: 0.0642 - accuracy: 0.9781 - val_loss: 0.3348 - val_accuracy: 0.8756\n",
            "Epoch 13/70\n",
            "149/149 [==============================] - ETA: 0s - loss: 0.0602 - accuracy: 0.9798\n",
            "Epoch 13: val_accuracy did not improve from 0.89078\n",
            "149/149 [==============================] - 24s 158ms/step - loss: 0.0602 - accuracy: 0.9798 - val_loss: 0.3998 - val_accuracy: 0.8788\n",
            "Epoch 14/70\n",
            "149/149 [==============================] - ETA: 0s - loss: 0.0464 - accuracy: 0.9846\n",
            "Epoch 14: val_accuracy improved from 0.89078 to 0.89268, saving model to best_model2.hdf5\n",
            "149/149 [==============================] - 24s 164ms/step - loss: 0.0464 - accuracy: 0.9846 - val_loss: 0.4400 - val_accuracy: 0.8927\n",
            "Epoch 15/70\n",
            "149/149 [==============================] - ETA: 0s - loss: 0.0374 - accuracy: 0.9870\n",
            "Epoch 15: val_accuracy did not improve from 0.89268\n",
            "149/149 [==============================] - 24s 162ms/step - loss: 0.0374 - accuracy: 0.9870 - val_loss: 0.5177 - val_accuracy: 0.8763\n",
            "Epoch 16/70\n",
            "149/149 [==============================] - ETA: 0s - loss: 0.0323 - accuracy: 0.9895\n",
            "Epoch 16: val_accuracy did not improve from 0.89268\n",
            "149/149 [==============================] - 24s 162ms/step - loss: 0.0323 - accuracy: 0.9895 - val_loss: 0.6186 - val_accuracy: 0.8744\n",
            "Epoch 17/70\n",
            "149/149 [==============================] - ETA: 0s - loss: 0.0335 - accuracy: 0.9895\n",
            "Epoch 17: val_accuracy did not improve from 0.89268\n",
            "149/149 [==============================] - 24s 164ms/step - loss: 0.0335 - accuracy: 0.9895 - val_loss: 0.7081 - val_accuracy: 0.8586\n",
            "Epoch 18/70\n",
            "149/149 [==============================] - ETA: 0s - loss: 0.0252 - accuracy: 0.9907\n",
            "Epoch 18: val_accuracy did not improve from 0.89268\n",
            "149/149 [==============================] - 24s 162ms/step - loss: 0.0252 - accuracy: 0.9907 - val_loss: 0.5212 - val_accuracy: 0.8845\n",
            "Epoch 19/70\n",
            "149/149 [==============================] - ETA: 0s - loss: 0.0252 - accuracy: 0.9935\n",
            "Epoch 19: val_accuracy did not improve from 0.89268\n",
            "149/149 [==============================] - 24s 163ms/step - loss: 0.0252 - accuracy: 0.9935 - val_loss: 0.4924 - val_accuracy: 0.8870\n",
            "Epoch 20/70\n",
            "149/149 [==============================] - ETA: 0s - loss: 0.0219 - accuracy: 0.9933\n",
            "Epoch 20: val_accuracy did not improve from 0.89268\n",
            "149/149 [==============================] - 23s 157ms/step - loss: 0.0219 - accuracy: 0.9933 - val_loss: 0.4993 - val_accuracy: 0.8889\n",
            "Epoch 21/70\n",
            "149/149 [==============================] - ETA: 0s - loss: 0.0224 - accuracy: 0.9928\n",
            "Epoch 21: val_accuracy did not improve from 0.89268\n",
            "149/149 [==============================] - 24s 160ms/step - loss: 0.0224 - accuracy: 0.9928 - val_loss: 0.6264 - val_accuracy: 0.8775\n",
            "Epoch 22/70\n",
            "149/149 [==============================] - ETA: 0s - loss: 0.0212 - accuracy: 0.9949\n",
            "Epoch 22: val_accuracy did not improve from 0.89268\n",
            "149/149 [==============================] - 24s 161ms/step - loss: 0.0212 - accuracy: 0.9949 - val_loss: 0.5465 - val_accuracy: 0.8744\n",
            "Epoch 23/70\n",
            "149/149 [==============================] - ETA: 0s - loss: 0.0178 - accuracy: 0.9943\n",
            "Epoch 23: val_accuracy did not improve from 0.89268\n",
            "149/149 [==============================] - 24s 164ms/step - loss: 0.0178 - accuracy: 0.9943 - val_loss: 0.8210 - val_accuracy: 0.8592\n",
            "Epoch 24/70\n",
            "149/149 [==============================] - ETA: 0s - loss: 0.0166 - accuracy: 0.9952\n",
            "Epoch 24: val_accuracy did not improve from 0.89268\n",
            "149/149 [==============================] - 24s 163ms/step - loss: 0.0166 - accuracy: 0.9952 - val_loss: 0.6715 - val_accuracy: 0.8788\n",
            "Epoch 25/70\n",
            "149/149 [==============================] - ETA: 0s - loss: 0.0133 - accuracy: 0.9960\n",
            "Epoch 25: val_accuracy did not improve from 0.89268\n",
            "149/149 [==============================] - 24s 164ms/step - loss: 0.0133 - accuracy: 0.9960 - val_loss: 0.7412 - val_accuracy: 0.8706\n",
            "Epoch 26/70\n",
            "149/149 [==============================] - ETA: 0s - loss: 0.0111 - accuracy: 0.9966\n",
            "Epoch 26: val_accuracy did not improve from 0.89268\n",
            "149/149 [==============================] - 25s 170ms/step - loss: 0.0111 - accuracy: 0.9966 - val_loss: 0.6494 - val_accuracy: 0.8775\n",
            "Epoch 27/70\n",
            "149/149 [==============================] - ETA: 0s - loss: 0.0131 - accuracy: 0.9956\n",
            "Epoch 27: val_accuracy did not improve from 0.89268\n",
            "149/149 [==============================] - 25s 166ms/step - loss: 0.0131 - accuracy: 0.9956 - val_loss: 0.6734 - val_accuracy: 0.8851\n",
            "Epoch 28/70\n",
            "149/149 [==============================] - ETA: 0s - loss: 0.0122 - accuracy: 0.9952\n",
            "Epoch 28: val_accuracy did not improve from 0.89268\n",
            "149/149 [==============================] - 24s 162ms/step - loss: 0.0122 - accuracy: 0.9952 - val_loss: 0.8050 - val_accuracy: 0.8801\n",
            "Epoch 29/70\n",
            "149/149 [==============================] - ETA: 0s - loss: 0.0098 - accuracy: 0.9960\n",
            "Epoch 29: val_accuracy did not improve from 0.89268\n",
            "149/149 [==============================] - 23s 154ms/step - loss: 0.0098 - accuracy: 0.9960 - val_loss: 0.7059 - val_accuracy: 0.8819\n",
            "Epoch 30/70\n",
            "149/149 [==============================] - ETA: 0s - loss: 0.0101 - accuracy: 0.9966\n",
            "Epoch 30: val_accuracy did not improve from 0.89268\n",
            "149/149 [==============================] - 26s 172ms/step - loss: 0.0101 - accuracy: 0.9966 - val_loss: 0.8107 - val_accuracy: 0.8756\n",
            "Epoch 31/70\n",
            "149/149 [==============================] - ETA: 0s - loss: 0.0090 - accuracy: 0.9962\n",
            "Epoch 31: val_accuracy did not improve from 0.89268\n",
            "149/149 [==============================] - 24s 163ms/step - loss: 0.0090 - accuracy: 0.9962 - val_loss: 0.6886 - val_accuracy: 0.8864\n",
            "Epoch 32/70\n",
            "149/149 [==============================] - ETA: 0s - loss: 0.0080 - accuracy: 0.9977\n",
            "Epoch 32: val_accuracy did not improve from 0.89268\n",
            "149/149 [==============================] - 24s 163ms/step - loss: 0.0080 - accuracy: 0.9977 - val_loss: 0.6744 - val_accuracy: 0.8813\n",
            "Epoch 33/70\n",
            "149/149 [==============================] - ETA: 0s - loss: 0.0078 - accuracy: 0.9971\n",
            "Epoch 33: val_accuracy did not improve from 0.89268\n",
            "149/149 [==============================] - 24s 162ms/step - loss: 0.0078 - accuracy: 0.9971 - val_loss: 0.7463 - val_accuracy: 0.8807\n",
            "Epoch 34/70\n",
            "149/149 [==============================] - ETA: 0s - loss: 0.0043 - accuracy: 0.9987\n",
            "Epoch 34: val_accuracy did not improve from 0.89268\n",
            "149/149 [==============================] - 24s 162ms/step - loss: 0.0043 - accuracy: 0.9987 - val_loss: 0.7689 - val_accuracy: 0.8782\n",
            "Epoch 35/70\n",
            "149/149 [==============================] - ETA: 0s - loss: 0.0067 - accuracy: 0.9977\n",
            "Epoch 35: val_accuracy did not improve from 0.89268\n",
            "149/149 [==============================] - 24s 162ms/step - loss: 0.0067 - accuracy: 0.9977 - val_loss: 0.6853 - val_accuracy: 0.8782\n",
            "Epoch 36/70\n",
            "149/149 [==============================] - ETA: 0s - loss: 0.0036 - accuracy: 0.9987\n",
            "Epoch 36: val_accuracy did not improve from 0.89268\n",
            "149/149 [==============================] - 24s 164ms/step - loss: 0.0036 - accuracy: 0.9987 - val_loss: 0.9559 - val_accuracy: 0.8782\n",
            "Epoch 37/70\n",
            "149/149 [==============================] - ETA: 0s - loss: 0.0058 - accuracy: 0.9992\n",
            "Epoch 37: val_accuracy did not improve from 0.89268\n",
            "149/149 [==============================] - 23s 157ms/step - loss: 0.0058 - accuracy: 0.9992 - val_loss: 0.8097 - val_accuracy: 0.8750\n",
            "Epoch 38/70\n",
            "149/149 [==============================] - ETA: 0s - loss: 0.0054 - accuracy: 0.9985\n",
            "Epoch 38: val_accuracy did not improve from 0.89268\n",
            "149/149 [==============================] - 24s 158ms/step - loss: 0.0054 - accuracy: 0.9985 - val_loss: 0.7481 - val_accuracy: 0.8769\n",
            "Epoch 39/70\n",
            "149/149 [==============================] - ETA: 0s - loss: 0.0051 - accuracy: 0.9981\n",
            "Epoch 39: val_accuracy did not improve from 0.89268\n",
            "149/149 [==============================] - 24s 162ms/step - loss: 0.0051 - accuracy: 0.9981 - val_loss: 0.7954 - val_accuracy: 0.8775\n",
            "Epoch 40/70\n",
            "149/149 [==============================] - ETA: 0s - loss: 0.0036 - accuracy: 0.9985\n",
            "Epoch 40: val_accuracy did not improve from 0.89268\n",
            "149/149 [==============================] - 24s 163ms/step - loss: 0.0036 - accuracy: 0.9985 - val_loss: 0.8614 - val_accuracy: 0.8801\n",
            "Epoch 41/70\n",
            "149/149 [==============================] - ETA: 0s - loss: 0.0075 - accuracy: 0.9973\n",
            "Epoch 41: val_accuracy did not improve from 0.89268\n",
            "149/149 [==============================] - 24s 164ms/step - loss: 0.0075 - accuracy: 0.9973 - val_loss: 0.8801 - val_accuracy: 0.8794\n",
            "Epoch 42/70\n",
            "149/149 [==============================] - ETA: 0s - loss: 0.0066 - accuracy: 0.9985\n",
            "Epoch 42: val_accuracy did not improve from 0.89268\n",
            "149/149 [==============================] - 24s 162ms/step - loss: 0.0066 - accuracy: 0.9985 - val_loss: 0.8622 - val_accuracy: 0.8782\n",
            "Epoch 43/70\n",
            "149/149 [==============================] - ETA: 0s - loss: 0.0066 - accuracy: 0.9979\n",
            "Epoch 43: val_accuracy did not improve from 0.89268\n",
            "149/149 [==============================] - 24s 163ms/step - loss: 0.0066 - accuracy: 0.9979 - val_loss: 0.9421 - val_accuracy: 0.8782\n",
            "Epoch 44/70\n",
            "149/149 [==============================] - ETA: 0s - loss: 0.0048 - accuracy: 0.9981\n",
            "Epoch 44: val_accuracy did not improve from 0.89268\n",
            "149/149 [==============================] - 25s 167ms/step - loss: 0.0048 - accuracy: 0.9981 - val_loss: 0.7987 - val_accuracy: 0.8763\n",
            "Epoch 45/70\n",
            "149/149 [==============================] - ETA: 0s - loss: 0.0044 - accuracy: 0.9992\n",
            "Epoch 45: val_accuracy did not improve from 0.89268\n",
            "149/149 [==============================] - 24s 159ms/step - loss: 0.0044 - accuracy: 0.9992 - val_loss: 0.9410 - val_accuracy: 0.8788\n",
            "Epoch 46/70\n",
            "149/149 [==============================] - ETA: 0s - loss: 0.0036 - accuracy: 0.9992\n",
            "Epoch 46: val_accuracy did not improve from 0.89268\n",
            "149/149 [==============================] - 23s 157ms/step - loss: 0.0036 - accuracy: 0.9992 - val_loss: 0.9353 - val_accuracy: 0.8826\n",
            "Epoch 47/70\n",
            "149/149 [==============================] - ETA: 0s - loss: 0.0057 - accuracy: 0.9981\n",
            "Epoch 47: val_accuracy did not improve from 0.89268\n",
            "149/149 [==============================] - 24s 162ms/step - loss: 0.0057 - accuracy: 0.9981 - val_loss: 0.9635 - val_accuracy: 0.8832\n",
            "Epoch 48/70\n",
            "149/149 [==============================] - ETA: 0s - loss: 0.0025 - accuracy: 0.9998\n",
            "Epoch 48: val_accuracy did not improve from 0.89268\n",
            "149/149 [==============================] - 24s 162ms/step - loss: 0.0025 - accuracy: 0.9998 - val_loss: 0.7632 - val_accuracy: 0.8643\n",
            "Epoch 49/70\n",
            "149/149 [==============================] - ETA: 0s - loss: 0.0039 - accuracy: 0.9981\n",
            "Epoch 49: val_accuracy did not improve from 0.89268\n",
            "149/149 [==============================] - 24s 163ms/step - loss: 0.0039 - accuracy: 0.9981 - val_loss: 0.9883 - val_accuracy: 0.8769\n",
            "Epoch 50/70\n",
            "149/149 [==============================] - ETA: 0s - loss: 0.0033 - accuracy: 0.9989\n",
            "Epoch 50: val_accuracy did not improve from 0.89268\n",
            "149/149 [==============================] - 24s 163ms/step - loss: 0.0033 - accuracy: 0.9989 - val_loss: 0.9299 - val_accuracy: 0.8864\n",
            "Epoch 51/70\n",
            "149/149 [==============================] - ETA: 0s - loss: 0.0025 - accuracy: 0.9989\n",
            "Epoch 51: val_accuracy did not improve from 0.89268\n",
            "149/149 [==============================] - 25s 169ms/step - loss: 0.0025 - accuracy: 0.9989 - val_loss: 0.8028 - val_accuracy: 0.8750\n",
            "Epoch 52/70\n",
            "149/149 [==============================] - ETA: 0s - loss: 0.0034 - accuracy: 0.9985\n",
            "Epoch 52: val_accuracy did not improve from 0.89268\n",
            "149/149 [==============================] - 25s 169ms/step - loss: 0.0034 - accuracy: 0.9985 - val_loss: 1.2043 - val_accuracy: 0.8617\n",
            "Epoch 53/70\n",
            "149/149 [==============================] - ETA: 0s - loss: 0.0032 - accuracy: 0.9985\n",
            "Epoch 53: val_accuracy did not improve from 0.89268\n",
            "149/149 [==============================] - 25s 167ms/step - loss: 0.0032 - accuracy: 0.9985 - val_loss: 0.9356 - val_accuracy: 0.8813\n",
            "Epoch 54/70\n",
            "149/149 [==============================] - ETA: 0s - loss: 0.0026 - accuracy: 0.9989\n",
            "Epoch 54: val_accuracy did not improve from 0.89268\n",
            "149/149 [==============================] - 24s 162ms/step - loss: 0.0026 - accuracy: 0.9989 - val_loss: 1.0922 - val_accuracy: 0.8750\n",
            "Epoch 55/70\n",
            "149/149 [==============================] - ETA: 0s - loss: 0.0029 - accuracy: 0.9994\n",
            "Epoch 55: val_accuracy did not improve from 0.89268\n",
            "149/149 [==============================] - 23s 156ms/step - loss: 0.0029 - accuracy: 0.9994 - val_loss: 0.9781 - val_accuracy: 0.8857\n",
            "Epoch 56/70\n",
            "149/149 [==============================] - ETA: 0s - loss: 0.0048 - accuracy: 0.9983\n",
            "Epoch 56: val_accuracy did not improve from 0.89268\n",
            "149/149 [==============================] - 25s 165ms/step - loss: 0.0048 - accuracy: 0.9983 - val_loss: 1.0395 - val_accuracy: 0.8775\n",
            "Epoch 57/70\n",
            "149/149 [==============================] - ETA: 0s - loss: 0.0042 - accuracy: 0.9987\n",
            "Epoch 57: val_accuracy did not improve from 0.89268\n",
            "149/149 [==============================] - 24s 164ms/step - loss: 0.0042 - accuracy: 0.9987 - val_loss: 1.0874 - val_accuracy: 0.8737\n",
            "Epoch 58/70\n",
            "149/149 [==============================] - ETA: 0s - loss: 0.0026 - accuracy: 0.9992\n",
            "Epoch 58: val_accuracy did not improve from 0.89268\n",
            "149/149 [==============================] - 24s 164ms/step - loss: 0.0026 - accuracy: 0.9992 - val_loss: 1.2524 - val_accuracy: 0.8617\n",
            "Epoch 59/70\n",
            "149/149 [==============================] - ETA: 0s - loss: 0.0029 - accuracy: 0.9992\n",
            "Epoch 59: val_accuracy did not improve from 0.89268\n",
            "149/149 [==============================] - 24s 164ms/step - loss: 0.0029 - accuracy: 0.9992 - val_loss: 1.1966 - val_accuracy: 0.8801\n",
            "Epoch 60/70\n",
            "149/149 [==============================] - ETA: 0s - loss: 0.0033 - accuracy: 0.9987\n",
            "Epoch 60: val_accuracy did not improve from 0.89268\n",
            "149/149 [==============================] - 24s 162ms/step - loss: 0.0033 - accuracy: 0.9987 - val_loss: 1.1087 - val_accuracy: 0.8782\n",
            "Epoch 61/70\n",
            "149/149 [==============================] - ETA: 0s - loss: 0.0046 - accuracy: 0.9989\n",
            "Epoch 61: val_accuracy did not improve from 0.89268\n",
            "149/149 [==============================] - 24s 163ms/step - loss: 0.0046 - accuracy: 0.9989 - val_loss: 1.0310 - val_accuracy: 0.8864\n",
            "Epoch 62/70\n",
            "149/149 [==============================] - ETA: 0s - loss: 0.0025 - accuracy: 0.9992\n",
            "Epoch 62: val_accuracy did not improve from 0.89268\n",
            "149/149 [==============================] - 25s 165ms/step - loss: 0.0025 - accuracy: 0.9992 - val_loss: 1.1722 - val_accuracy: 0.8782\n",
            "Epoch 63/70\n",
            "149/149 [==============================] - ETA: 0s - loss: 0.0028 - accuracy: 0.9985\n",
            "Epoch 63: val_accuracy did not improve from 0.89268\n",
            "149/149 [==============================] - 24s 164ms/step - loss: 0.0028 - accuracy: 0.9985 - val_loss: 1.0637 - val_accuracy: 0.8801\n",
            "Epoch 64/70\n",
            "149/149 [==============================] - ETA: 0s - loss: 0.0027 - accuracy: 0.9989\n",
            "Epoch 64: val_accuracy did not improve from 0.89268\n",
            "149/149 [==============================] - 23s 155ms/step - loss: 0.0027 - accuracy: 0.9989 - val_loss: 0.9849 - val_accuracy: 0.8801\n",
            "Epoch 65/70\n",
            "149/149 [==============================] - ETA: 0s - loss: 0.0028 - accuracy: 0.9996\n",
            "Epoch 65: val_accuracy did not improve from 0.89268\n",
            "149/149 [==============================] - 24s 164ms/step - loss: 0.0028 - accuracy: 0.9996 - val_loss: 1.0857 - val_accuracy: 0.8731\n",
            "Epoch 66/70\n",
            "149/149 [==============================] - ETA: 0s - loss: 0.0031 - accuracy: 0.9994\n",
            "Epoch 66: val_accuracy did not improve from 0.89268\n",
            "149/149 [==============================] - 24s 163ms/step - loss: 0.0031 - accuracy: 0.9994 - val_loss: 1.0830 - val_accuracy: 0.8838\n",
            "Epoch 67/70\n",
            "149/149 [==============================] - ETA: 0s - loss: 0.0016 - accuracy: 0.9998\n",
            "Epoch 67: val_accuracy did not improve from 0.89268\n",
            "149/149 [==============================] - 24s 163ms/step - loss: 0.0016 - accuracy: 0.9998 - val_loss: 1.1145 - val_accuracy: 0.8756\n",
            "Epoch 68/70\n",
            "149/149 [==============================] - ETA: 0s - loss: 8.2478e-04 - accuracy: 0.9998\n",
            "Epoch 68: val_accuracy did not improve from 0.89268\n",
            "149/149 [==============================] - 25s 165ms/step - loss: 8.2478e-04 - accuracy: 0.9998 - val_loss: 1.1321 - val_accuracy: 0.8826\n",
            "Epoch 69/70\n",
            "149/149 [==============================] - ETA: 0s - loss: 0.0012 - accuracy: 0.9996\n",
            "Epoch 69: val_accuracy did not improve from 0.89268\n",
            "149/149 [==============================] - 24s 164ms/step - loss: 0.0012 - accuracy: 0.9996 - val_loss: 1.2604 - val_accuracy: 0.8775\n",
            "Epoch 70/70\n",
            "149/149 [==============================] - ETA: 0s - loss: 0.0042 - accuracy: 0.9987\n",
            "Epoch 70: val_accuracy did not improve from 0.89268\n",
            "149/149 [==============================] - 25s 169ms/step - loss: 0.0042 - accuracy: 0.9987 - val_loss: 1.1455 - val_accuracy: 0.8706\n"
          ]
        }
      ],
      "source": [
        "model2 = Sequential()\n",
        "model2.add(layers.Embedding(max_words, 40, input_length=max_len))\n",
        "model2.add(layers.Bidirectional(layers.LSTM(20,dropout=0.6)))\n",
        "model2.add(layers.Dense(3,activation='softmax'))\n",
        "model2.compile(optimizer='rmsprop',loss='categorical_crossentropy', metrics=['accuracy'])\n",
        "#Implementing model checkpoins to save the best metric and do not lose it on training.\n",
        "checkpoint2 = ModelCheckpoint(\"best_model2.hdf5\", monitor='val_accuracy', verbose=1,save_best_only=True, mode='auto', period=1,save_weights_only=False)\n",
        "history = model2.fit(X_train, y_train, epochs=70,validation_data=(X_test, y_test),callbacks=[checkpoint2])"
      ]
    },
    {
      "cell_type": "markdown",
      "metadata": {
        "id": "dYbXqjAMy_Xj",
        "papermill": {
          "duration": 11.452373,
          "end_time": "2020-10-06T21:50:21.772094",
          "exception": false,
          "start_time": "2020-10-06T21:50:10.319721",
          "status": "completed"
        },
        "tags": []
      },
      "source": [
        "## 1D Convolutional model\n",
        "\n",
        "Before diving into this model, I know by prior experience that it tends to overfit extremely fast on small datasets. In this sense, just will implement it to show you how to do it in case it's of your interest."
      ]
    },
    {
      "cell_type": "code",
      "execution_count": 127,
      "metadata": {
        "id": "uq_dzc_ky_Xj",
        "papermill": {
          "duration": 375.351238,
          "end_time": "2020-10-06T21:56:48.149913",
          "exception": false,
          "start_time": "2020-10-06T21:50:32.798675",
          "status": "completed"
        },
        "tags": []
      },
      "outputs": [],
      "source": [
        "# from keras import regularizers\n",
        "# model3 = Sequential()\n",
        "# model3.add(layers.Embedding(max_words, 40, input_length=max_len))\n",
        "# model3.add(layers.Conv1D(20, 6, activation='relu',kernel_regularizer=regularizers.l1_l2(l1=2e-3, l2=2e-3),bias_regularizer=regularizers.l2(2e-3)))\n",
        "# model3.add(layers.MaxPooling1D(5))\n",
        "# model3.add(layers.Conv1D(20, 6, activation='relu',kernel_regularizer=regularizers.l1_l2(l1=2e-3, l2=2e-3),bias_regularizer=regularizers.l2(2e-3)))\n",
        "# model3.add(layers.GlobalMaxPooling1D())\n",
        "# model3.add(layers.Dense(3,activation='softmax'))\n",
        "# model3.compile(optimizer='rmsprop',loss='categorical_crossentropy',metrics=['acc'])\n",
        "# checkpoint3 = ModelCheckpoint(\"best_model3.hdf5\", monitor='val_accuracy', verbose=1,save_best_only=True, mode='auto', period=1,save_weights_only=False)\n",
        "# history = model3.fit(X_train, y_train, epochs=70,validation_data=(X_test, y_test),callbacks=[checkpoint3])"
      ]
    },
    {
      "cell_type": "markdown",
      "metadata": {
        "id": "Pi5FRNHqy_Xj",
        "papermill": {
          "duration": 13.181114,
          "end_time": "2020-10-06T21:57:15.037099",
          "exception": false,
          "start_time": "2020-10-06T21:57:01.855985",
          "status": "completed"
        },
        "tags": []
      },
      "source": [
        "If you check the val_accuracy metric in the training logs you won't find better score than the one achieved by the BidRNN. Again, the previous model is not the best for this task becaue is majorly used for short translation tasks, but the good thing to notice is its speed to train.\n",
        "\n",
        "Let's move on."
      ]
    },
    {
      "cell_type": "markdown",
      "metadata": {
        "id": "ZJtDIs0Ey_Xx",
        "papermill": {
          "duration": 13.897718,
          "end_time": "2020-10-06T21:57:43.244943",
          "exception": false,
          "start_time": "2020-10-06T21:57:29.347225",
          "status": "completed"
        },
        "tags": []
      },
      "source": [
        "# Best model validation\n",
        "(Before final commit, the best model obtained was the BidRNN)"
      ]
    },
    {
      "cell_type": "code",
      "execution_count": 128,
      "metadata": {
        "id": "nWvEPuW8y_Xx",
        "papermill": {
          "duration": 14.579894,
          "end_time": "2020-10-06T21:58:12.123401",
          "exception": false,
          "start_time": "2020-10-06T21:57:57.543507",
          "status": "completed"
        },
        "tags": []
      },
      "outputs": [],
      "source": [
        "#Let's load the best model obtained during training\n",
        "best_model = keras.models.load_model(\"best_model2.hdf5\")"
      ]
    },
    {
      "cell_type": "code",
      "execution_count": 129,
      "metadata": {
        "colab": {
          "base_uri": "https://localhost:8080/"
        },
        "id": "oPCBt9Dvy_Xx",
        "outputId": "3cdbd598-83ff-425b-9e59-b204f8b6fc85",
        "papermill": {
          "duration": 16.163436,
          "end_time": "2020-10-06T21:58:42.153869",
          "exception": false,
          "start_time": "2020-10-06T21:58:25.990433",
          "status": "completed"
        },
        "tags": []
      },
      "outputs": [
        {
          "name": "stdout",
          "output_type": "stream",
          "text": [
            "50/50 - 2s - loss: 0.4400 - accuracy: 0.8927 - 2s/epoch - 44ms/step\n",
            "Model accuracy:  0.8926767706871033\n"
          ]
        }
      ],
      "source": [
        "test_loss, test_acc = best_model.evaluate(X_test, y_test, verbose=2)\n",
        "print('Model accuracy: ',test_acc)"
      ]
    },
    {
      "cell_type": "code",
      "execution_count": 130,
      "metadata": {
        "colab": {
          "base_uri": "https://localhost:8080/"
        },
        "id": "gB_UX6Viy_Xx",
        "outputId": "bddfd79f-1a1a-4053-f1d8-2d3c6c74b636",
        "papermill": {
          "duration": 15.873978,
          "end_time": "2020-10-06T21:59:11.144400",
          "exception": false,
          "start_time": "2020-10-06T21:58:55.270422",
          "status": "completed"
        },
        "tags": []
      },
      "outputs": [
        {
          "name": "stdout",
          "output_type": "stream",
          "text": [
            "50/50 [==============================] - 3s 39ms/step\n"
          ]
        }
      ],
      "source": [
        "predictions = best_model.predict(X_test)"
      ]
    },
    {
      "cell_type": "markdown",
      "metadata": {
        "id": "42VcbJXny_Xy",
        "papermill": {
          "duration": 13.54467,
          "end_time": "2020-10-06T21:59:38.859073",
          "exception": false,
          "start_time": "2020-10-06T21:59:25.314403",
          "status": "completed"
        },
        "tags": []
      },
      "source": [
        "## Confusion matrix\n",
        "\n",
        "Alright, we all know the accuracy is not a good metric to measure how well a model is. That's the reason why I like to always see its confusion matrix, that way I have a better understanding of its classification and generalization ability. Let's plot it."
      ]
    },
    {
      "cell_type": "code",
      "execution_count": 131,
      "metadata": {
        "id": "oIOnfWGZy_Xy",
        "papermill": {
          "duration": 13.356845,
          "end_time": "2020-10-06T22:00:05.261290",
          "exception": false,
          "start_time": "2020-10-06T21:59:51.904445",
          "status": "completed"
        },
        "tags": []
      },
      "outputs": [],
      "source": [
        "from sklearn.metrics import confusion_matrix\n",
        "matrix = confusion_matrix(y_test.argmax(axis=1), np.around(predictions, decimals=0).argmax(axis=1))"
      ]
    },
    {
      "cell_type": "code",
      "execution_count": 132,
      "metadata": {
        "colab": {
          "base_uri": "https://localhost:8080/",
          "height": 1000
        },
        "id": "8-gNGqmXy_Xy",
        "outputId": "42b99a86-1b88-4404-c119-d5337e32f38a",
        "papermill": {
          "duration": 14.015558,
          "end_time": "2020-10-06T22:00:33.285736",
          "exception": false,
          "start_time": "2020-10-06T22:00:19.270178",
          "status": "completed"
        },
        "tags": []
      },
      "outputs": [
        {
          "data": {
            "text/plain": [
              "<Axes: >"
            ]
          },
          "execution_count": 132,
          "metadata": {},
          "output_type": "execute_result"
        },
        {
          "data": {
            "image/png": "[encoded data removed]",
            "text/plain": [
              "<Figure size 1500x1500 with 2 Axes>"
            ]
          },
          "metadata": {},
          "output_type": "display_data"
        }
      ],
      "source": [
        "import seaborn as sns\n",
        "conf_matrix = pd.DataFrame(matrix, index = ['FAKE','REAL'],columns = ['FAKE','REAL'])\n",
        "#Normalizing\n",
        "conf_matrix = conf_matrix.astype('float') / conf_matrix.sum(axis=1)[:, np.newaxis]\n",
        "plt.figure(figsize = (15,15))\n",
        "sns.heatmap(conf_matrix, annot=True, annot_kws={\"size\": 15})"
      ]
    },
    {
      "cell_type": "markdown",
      "metadata": {
        "id": "mZAG9icLy_Xy",
        "papermill": {
          "duration": 12.906403,
          "end_time": "2020-10-06T22:00:59.275554",
          "exception": false,
          "start_time": "2020-10-06T22:00:46.369151",
          "status": "completed"
        },
        "tags": []
      },
      "source": [
        "Again, the model's score is very poor, but keep in mind it hasn't gone through hyperparameter tuning. Let's see how it performs on some test text."
      ]
    },
    {
      "cell_type": "code",
      "execution_count": 133,
      "metadata": {
        "id": "JyFH5bDoy_Xy",
        "papermill": {
          "duration": 14.303017,
          "end_time": "2020-10-06T22:01:26.951936",
          "exception": false,
          "start_time": "2020-10-06T22:01:12.648919",
          "status": "completed"
        },
        "tags": []
      },
      "outputs": [],
      "source": [
        "sentiment = ['FAKE','REAL']"
      ]
    },
    {
      "cell_type": "code",
      "execution_count": 141,
      "metadata": {
        "colab": {
          "base_uri": "https://localhost:8080/",
          "height": 53
        },
        "id": "E_xjMcRty_Xy",
        "outputId": "3edcf449-2202-4c35-ee23-16402580a62e",
        "papermill": {
          "duration": 13.274625,
          "end_time": "2020-10-06T22:01:53.680880",
          "exception": false,
          "start_time": "2020-10-06T22:01:40.406255",
          "status": "completed"
        },
        "tags": []
      },
      "outputs": [
        {
          "name": "stdout",
          "output_type": "stream",
          "text": [
            "1/1 [==============================] - 0s 43ms/step\n"
          ]
        },
        {
          "data": {
            "application/vnd.google.colaboratory.intrinsic+json": {
              "type": "string"
            },
            "text/plain": [
              "'REAL'"
            ]
          },
          "execution_count": 141,
          "metadata": {},
          "output_type": "execute_result"
        }
      ],
      "source": [
        "sequence = tokenizer.texts_to_sequences(['Trump takes on Cruz, but lightly'])\n",
        "test = pad_sequences(sequence, maxlen=max_len)\n",
        "sentiment[np.around(best_model.predict(test), decimals=0).argmax(axis=1)[0]]"
      ]
    },
    {
      "cell_type": "code",
      "execution_count": 142,
      "metadata": {
        "colab": {
          "base_uri": "https://localhost:8080/",
          "height": 53
        },
        "id": "A_zwh8DSy_Xy",
        "outputId": "50d3f5f8-a1bf-4c70-dc0d-34f4ffffdc10",
        "papermill": {
          "duration": 14.445195,
          "end_time": "2020-10-06T22:02:21.272790",
          "exception": false,
          "start_time": "2020-10-06T22:02:06.827595",
          "status": "completed"
        },
        "tags": []
      },
      "outputs": [
        {
          "name": "stdout",
          "output_type": "stream",
          "text": [
            "1/1 [==============================] - 0s 36ms/step\n"
          ]
        },
        {
          "data": {
            "application/vnd.google.colaboratory.intrinsic+json": {
              "type": "string"
            },
            "text/plain": [
              "'FAKE'"
            ]
          },
          "execution_count": 142,
          "metadata": {},
          "output_type": "execute_result"
        }
      ],
      "source": [
        "sequence = tokenizer.texts_to_sequences(['this data science article is the best ever'])\n",
        "test = pad_sequences(sequence, maxlen=max_len)\n",
        "sentiment[np.around(best_model.predict(test), decimals=0).argmax(axis=1)[0]]"
      ]
    },
    {
      "cell_type": "markdown",
      "metadata": {
        "id": "3GfU6WWmAlca"
      },
      "source": []
    },
    {
      "cell_type": "code",
      "execution_count": 140,
      "metadata": {
        "colab": {
          "base_uri": "https://localhost:8080/",
          "height": 53
        },
        "id": "48oK4-6Ly_Xy",
        "outputId": "9a627268-d6ad-420d-8755-f84aa13a0526",
        "papermill": {
          "duration": 13.396502,
          "end_time": "2020-10-06T22:02:48.086621",
          "exception": false,
          "start_time": "2020-10-06T22:02:34.690119",
          "status": "completed"
        },
        "tags": []
      },
      "outputs": [
        {
          "name": "stdout",
          "output_type": "stream",
          "text": [
            "1/1 [==============================] - 0s 37ms/step\n"
          ]
        },
        {
          "data": {
            "application/vnd.google.colaboratory.intrinsic+json": {
              "type": "string"
            },
            "text/plain": [
              "'FAKE'"
            ]
          },
          "execution_count": 140,
          "metadata": {},
          "output_type": "execute_result"
        }
      ],
      "source": [
        "sequence = tokenizer.texts_to_sequences(['You Can Smell Hillary’s Fear'])\n",
        "test = pad_sequences(sequence, maxlen=max_len)\n",
        "sentiment[np.around(best_model.predict(test), decimals=0).argmax(axis=1)[0]]"
      ]
    },
    {
      "cell_type": "code",
      "execution_count": 139,
      "metadata": {
        "colab": {
          "base_uri": "https://localhost:8080/",
          "height": 53
        },
        "id": "XHg44q1iy_Xy",
        "outputId": "90fdcf91-49bb-4b73-9050-1a99ceed08b1",
        "papermill": {
          "duration": 13.646468,
          "end_time": "2020-10-06T22:03:15.014510",
          "exception": false,
          "start_time": "2020-10-06T22:03:01.368042",
          "status": "completed"
        },
        "tags": []
      },
      "outputs": [
        {
          "name": "stdout",
          "output_type": "stream",
          "text": [
            "1/1 [==============================] - 0s 37ms/step\n"
          ]
        },
        {
          "data": {
            "application/vnd.google.colaboratory.intrinsic+json": {
              "type": "string"
            },
            "text/plain": [
              "'REAL'"
            ]
          },
          "execution_count": 139,
          "metadata": {},
          "output_type": "execute_result"
        }
      ],
      "source": [
        "sequence = tokenizer.texts_to_sequences(['Kerry to go to Paris in gesture of sympathy'])\n",
        "test = pad_sequences(sequence, maxlen=max_len)\n",
        "sentiment[np.around(best_model.predict(test), decimals=0).argmax(axis=1)[0]]"
      ]
    },
    {
      "cell_type": "markdown",
      "metadata": {
        "id": "Fl04TUbWy_Xy",
        "papermill": {
          "duration": 13.386795,
          "end_time": "2020-10-06T22:03:42.535596",
          "exception": false,
          "start_time": "2020-10-06T22:03:29.148801",
          "status": "completed"
        },
        "tags": []
      },
      "source": [
        "# Preparing model for AWS SageMaker"
      ]
    },
    {
      "cell_type": "code",
      "execution_count": 138,
      "metadata": {
        "colab": {
          "base_uri": "https://localhost:8080/"
        },
        "id": "Aiy3xLDzy_Xy",
        "outputId": "49c65a09-f414-4910-b284-743ff3ac862c",
        "papermill": {
          "duration": 13.356987,
          "end_time": "2020-10-06T22:04:09.257650",
          "exception": false,
          "start_time": "2020-10-06T22:03:55.900663",
          "status": "completed"
        },
        "tags": []
      },
      "outputs": [
        {
          "name": "stdout",
          "output_type": "stream",
          "text": [
            "Model saved\n",
            "Tokenizer saved\n"
          ]
        }
      ],
      "source": [
        "#Saving weights and tokenizer so we can reduce training time on SageMaker\n",
        "\n",
        "# serialize model to JSON\n",
        "model_json = best_model.to_json()\n",
        "with open(\"model.json\", \"w\") as json_file:\n",
        "    json_file.write(model_json)\n",
        "# serialize weights to HDF5\n",
        "best_model.save_weights(\"model-weights.h5\")\n",
        "print(\"Model saved\")\n",
        "\n",
        "# saving tokenizer\n",
        "with open('tokenizer.pickle', 'wb') as handle:\n",
        "    pickle.dump(tokenizer, handle, protocol=pickle.HIGHEST_PROTOCOL)\n",
        "print('Tokenizer saved')"
      ]
    },
    {
      "cell_type": "markdown",
      "metadata": {
        "id": "KjN8vTU_y_Xz",
        "papermill": {
          "duration": 13.426811,
          "end_time": "2020-10-06T22:04:36.982749",
          "exception": false,
          "start_time": "2020-10-06T22:04:23.555938",
          "status": "completed"
        },
        "tags": []
      },
      "source": [
        "We've reached the end of this notebook. I just wanted to highlight a few things before let you go.\n",
        "\n",
        "As you could see, very simple networks can achieve fantastic results. To go beyond, always the best approach is to build a model that underfit the data, then optimize it to overfit and finally start tuning your hyperparameters to achieve the metric that the business needs to reach. The way you tune the model is up to you, there's no magic formula for it, but adding regularization always works, as well as dropout.\n",
        "\n",
        "If you have any doubt, please feel free to comment :)"
      ]
    }
  ],
  "metadata": {
    "colab": {
      "provenance": []
    },
    "kernelspec": {
      "display_name": "Python 3.6.15 64-bit ('3.6.15')",
      "language": "python",
      "name": "python3"
    },
    "language_info": {
      "codemirror_mode": {
        "name": "ipython",
        "version": 3
      },
      "file_extension": ".py",
      "mimetype": "text/x-python",
      "name": "python",
      "nbconvert_exporter": "python",
      "pygments_lexer": "ipython3",
      "version": "3.6.15"
    },
    "papermill": {
      "duration": 2724.650172,
      "end_time": "2020-10-06T22:04:52.151005",
      "environment_variables": {},
      "exception": null,
      "input_path": "__notebook__.ipynb",
      "output_path": "__notebook__.ipynb",
      "parameters": {},
      "start_time": "2020-10-06T21:19:27.500833",
      "version": "2.1.0"
    },
    "vscode": {
      "interpreter": {
        "hash": "5c2d91d5e293babf7fbf7add0d115327abb49cc12b62378e5bcec84458ca66e6"
      }
    }
  },
  "nbformat": 4,
  "nbformat_minor": 0
}
